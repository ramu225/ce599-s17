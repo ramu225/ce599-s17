{
 "cells": [
  {
   "cell_type": "markdown",
   "metadata": {
    "collapsed": true
   },
   "source": [
    "# Discrete Choice Modeling\n",
    "\n",
    "For more detailed information, please see: \n",
    "\n",
    "Koppelman & Bhat (2006) A Self-Instructing Course in Mode Choice Modeling\n",
    "http://www.caee.utexas.edu/prof/bhat/COURSES/LM_Draft_060131Final-060630.pdf \n",
    "\n",
    "\n",
    "### Motivation\n",
    "\n",
    "Not everything has a continous dependent variable.  Some things are discrete.  Coke or Pepsi?  Soda or pop?  Let's think of a few...\n",
    "\n",
    "Discrete choice models give us a way to model this.  \n",
    "\n",
    "\n",
    "### Elements\n",
    "\n",
    "In this framework, there are several elements to the choice decision process: \n",
    "\n",
    "- The decision maker\n",
    "- The alternatives\n",
    "- Attributes of the alternatives\n",
    "- The decision rule\n",
    "\n",
    "\n",
    "### Structure and Assumptions\n",
    "\n",
    "We will use a multi-nomial logit (MNL) model.  It takes the form: \n",
    "\n",
    "$Pr(i) = \\frac{e^U_i}{\\sum_{j=1}^{J} e^U_j}$\n",
    "\n",
    "where $U_i = \\beta X_i + \\epsilon_i$ and $\\epsilon_i$ follows a Gumbel distribution. \n",
    "\n",
    "This equation defines the decision rule.  A bit of time to work it through...\n",
    "\n",
    "### Libraries\n",
    "\n",
    "Will be using [Statsmodels](http://statsmodels.sourceforge.net/).  Start with: \n",
    "\n",
    "    conda install statsmodels\n",
    "    \n",
    "    "
   ]
  },
  {
   "cell_type": "markdown",
   "metadata": {},
   "source": [
    "### Today's objective\n",
    "\n",
    "Today, we want to predict vehicle ownership.  \n",
    "\n",
    "We'll be using the PUMS data again.  This time we'll use the household records instead of the person records, and households will be our decision-making unit.  You can find the data here: \n",
    "\n",
    "https://www.census.gov/programs-surveys/acs/data/pums.html\n",
    "\n",
    "Please download the Kentucky 1-year household data.  "
   ]
  },
  {
   "cell_type": "code",
   "execution_count": 83,
   "metadata": {
    "collapsed": true
   },
   "outputs": [],
   "source": [
    "import pandas as pd\n",
    "import seaborn as sns\n",
    "import numpy as np\n",
    "import statsmodels.formula.api as smf\n",
    "\n",
    "# this allows plots to appear directly in the notebook\n",
    "%matplotlib inline"
   ]
  },
  {
   "cell_type": "code",
   "execution_count": 84,
   "metadata": {
    "collapsed": false
   },
   "outputs": [
    {
     "data": {
      "text/html": [
       "<div>\n",
       "<table border=\"1\" class=\"dataframe\">\n",
       "  <thead>\n",
       "    <tr style=\"text-align: right;\">\n",
       "      <th></th>\n",
       "      <th>RT</th>\n",
       "      <th>SERIALNO</th>\n",
       "      <th>DIVISION</th>\n",
       "      <th>PUMA</th>\n",
       "      <th>REGION</th>\n",
       "      <th>ST</th>\n",
       "      <th>ADJHSG</th>\n",
       "      <th>ADJINC</th>\n",
       "      <th>WGTP</th>\n",
       "      <th>NP</th>\n",
       "      <th>...</th>\n",
       "      <th>wgtp71</th>\n",
       "      <th>wgtp72</th>\n",
       "      <th>wgtp73</th>\n",
       "      <th>wgtp74</th>\n",
       "      <th>wgtp75</th>\n",
       "      <th>wgtp76</th>\n",
       "      <th>wgtp77</th>\n",
       "      <th>wgtp78</th>\n",
       "      <th>wgtp79</th>\n",
       "      <th>wgtp80</th>\n",
       "    </tr>\n",
       "  </thead>\n",
       "  <tbody>\n",
       "    <tr>\n",
       "      <th>0</th>\n",
       "      <td>H</td>\n",
       "      <td>4</td>\n",
       "      <td>6</td>\n",
       "      <td>100</td>\n",
       "      <td>3</td>\n",
       "      <td>21</td>\n",
       "      <td>1000000</td>\n",
       "      <td>1001264</td>\n",
       "      <td>112</td>\n",
       "      <td>2</td>\n",
       "      <td>...</td>\n",
       "      <td>84</td>\n",
       "      <td>112</td>\n",
       "      <td>44</td>\n",
       "      <td>156</td>\n",
       "      <td>157</td>\n",
       "      <td>164</td>\n",
       "      <td>162</td>\n",
       "      <td>22</td>\n",
       "      <td>118</td>\n",
       "      <td>88</td>\n",
       "    </tr>\n",
       "    <tr>\n",
       "      <th>1</th>\n",
       "      <td>H</td>\n",
       "      <td>39</td>\n",
       "      <td>6</td>\n",
       "      <td>1706</td>\n",
       "      <td>3</td>\n",
       "      <td>21</td>\n",
       "      <td>1000000</td>\n",
       "      <td>1001264</td>\n",
       "      <td>58</td>\n",
       "      <td>7</td>\n",
       "      <td>...</td>\n",
       "      <td>58</td>\n",
       "      <td>95</td>\n",
       "      <td>16</td>\n",
       "      <td>16</td>\n",
       "      <td>17</td>\n",
       "      <td>18</td>\n",
       "      <td>93</td>\n",
       "      <td>57</td>\n",
       "      <td>61</td>\n",
       "      <td>62</td>\n",
       "    </tr>\n",
       "    <tr>\n",
       "      <th>2</th>\n",
       "      <td>H</td>\n",
       "      <td>116</td>\n",
       "      <td>6</td>\n",
       "      <td>1400</td>\n",
       "      <td>3</td>\n",
       "      <td>21</td>\n",
       "      <td>1000000</td>\n",
       "      <td>1001264</td>\n",
       "      <td>52</td>\n",
       "      <td>4</td>\n",
       "      <td>...</td>\n",
       "      <td>62</td>\n",
       "      <td>88</td>\n",
       "      <td>54</td>\n",
       "      <td>111</td>\n",
       "      <td>14</td>\n",
       "      <td>13</td>\n",
       "      <td>54</td>\n",
       "      <td>35</td>\n",
       "      <td>54</td>\n",
       "      <td>73</td>\n",
       "    </tr>\n",
       "    <tr>\n",
       "      <th>3</th>\n",
       "      <td>H</td>\n",
       "      <td>121</td>\n",
       "      <td>6</td>\n",
       "      <td>800</td>\n",
       "      <td>3</td>\n",
       "      <td>21</td>\n",
       "      <td>1000000</td>\n",
       "      <td>1001264</td>\n",
       "      <td>97</td>\n",
       "      <td>7</td>\n",
       "      <td>...</td>\n",
       "      <td>176</td>\n",
       "      <td>135</td>\n",
       "      <td>94</td>\n",
       "      <td>83</td>\n",
       "      <td>128</td>\n",
       "      <td>120</td>\n",
       "      <td>25</td>\n",
       "      <td>28</td>\n",
       "      <td>37</td>\n",
       "      <td>152</td>\n",
       "    </tr>\n",
       "    <tr>\n",
       "      <th>4</th>\n",
       "      <td>H</td>\n",
       "      <td>250</td>\n",
       "      <td>6</td>\n",
       "      <td>2800</td>\n",
       "      <td>3</td>\n",
       "      <td>21</td>\n",
       "      <td>1000000</td>\n",
       "      <td>1001264</td>\n",
       "      <td>0</td>\n",
       "      <td>1</td>\n",
       "      <td>...</td>\n",
       "      <td>0</td>\n",
       "      <td>0</td>\n",
       "      <td>0</td>\n",
       "      <td>0</td>\n",
       "      <td>0</td>\n",
       "      <td>0</td>\n",
       "      <td>0</td>\n",
       "      <td>0</td>\n",
       "      <td>0</td>\n",
       "      <td>0</td>\n",
       "    </tr>\n",
       "  </tbody>\n",
       "</table>\n",
       "<p>5 rows × 235 columns</p>\n",
       "</div>"
      ],
      "text/plain": [
       "  RT  SERIALNO  DIVISION  PUMA  REGION  ST   ADJHSG   ADJINC  WGTP  NP  \\\n",
       "0  H         4         6   100       3  21  1000000  1001264   112   2   \n",
       "1  H        39         6  1706       3  21  1000000  1001264    58   7   \n",
       "2  H       116         6  1400       3  21  1000000  1001264    52   4   \n",
       "3  H       121         6   800       3  21  1000000  1001264    97   7   \n",
       "4  H       250         6  2800       3  21  1000000  1001264     0   1   \n",
       "\n",
       "    ...    wgtp71  wgtp72  wgtp73  wgtp74  wgtp75  wgtp76  wgtp77  wgtp78  \\\n",
       "0   ...        84     112      44     156     157     164     162      22   \n",
       "1   ...        58      95      16      16      17      18      93      57   \n",
       "2   ...        62      88      54     111      14      13      54      35   \n",
       "3   ...       176     135      94      83     128     120      25      28   \n",
       "4   ...         0       0       0       0       0       0       0       0   \n",
       "\n",
       "   wgtp79  wgtp80  \n",
       "0     118      88  \n",
       "1      61      62  \n",
       "2      54      73  \n",
       "3      37     152  \n",
       "4       0       0  \n",
       "\n",
       "[5 rows x 235 columns]"
      ]
     },
     "execution_count": 84,
     "metadata": {},
     "output_type": "execute_result"
    }
   ],
   "source": [
    "# get the data\n",
    "df = pd.read_csv('data/ss15hky.csv')\n",
    "df.head()"
   ]
  },
  {
   "cell_type": "code",
   "execution_count": 85,
   "metadata": {
    "collapsed": false
   },
   "outputs": [
    {
     "data": {
      "text/plain": [
       "18055"
      ]
     },
     "execution_count": 85,
     "metadata": {},
     "output_type": "execute_result"
    }
   ],
   "source": [
    "# keep only occupied housing units\n",
    "'''\n",
    "NP 2\n",
    "Number of person records following this housing record\n",
    "00 .Vacant unit\n",
    "01 .One person record (one person in household or any person in\n",
    ".group quarters)\n",
    "02..20 .Number of person records (number of persons in household)\n",
    "\n",
    "TYPE 1\n",
    "Type of unit\n",
    "1 .Housing unit\n",
    "2 .Institutional group quarters\n",
    "3 .Noninstitutional group quarters\n",
    "'''\n",
    "\n",
    "df = df[df['TYPE']==1]\n",
    "df = df[df['NP']>0]\n",
    "len(df)"
   ]
  },
  {
   "cell_type": "markdown",
   "metadata": {},
   "source": [
    "### Look at the data\n",
    "\n",
    "It is often a good idea to look at the data we want to model, and see how it relates to some variables we expect to be important.  We can do this using seaborn, which we learned about a few weeks ago.  "
   ]
  },
  {
   "cell_type": "code",
   "execution_count": 86,
   "metadata": {
    "collapsed": false
   },
   "outputs": [
    {
     "data": {
      "text/plain": [
       "<matplotlib.axes._subplots.AxesSubplot at 0x1b51061e780>"
      ]
     },
     "execution_count": 86,
     "metadata": {},
     "output_type": "execute_result"
    },
    {
     "data": {
      "image/png": "[encoded data removed]",
      "text/plain": [
       "<matplotlib.figure.Figure at 0x1b50a46dc88>"
      ]
     },
     "metadata": {},
     "output_type": "display_data"
    }
   ],
   "source": [
    "'''\n",
    "10\n",
    "VEH 1\n",
    "Vehicles (1 ton or less) available\n",
    "b .N/A (GQ/vacant)\n",
    "0 .No vehicles\n",
    "1 .1 vehicle\n",
    "2 .2 vehicles\n",
    "3 .3 vehicles\n",
    "4 .4 vehicles\n",
    "5 .5 vehicles\n",
    "6 .6 or more vehicles\n",
    "'''\n",
    "\n",
    "sns.distplot(df['VEH'])"
   ]
  },
  {
   "cell_type": "code",
   "execution_count": 87,
   "metadata": {
    "collapsed": false
   },
   "outputs": [
    {
     "data": {
      "text/plain": [
       "<matplotlib.axes._subplots.AxesSubplot at 0x1b56cb2da20>"
      ]
     },
     "execution_count": 87,
     "metadata": {},
     "output_type": "execute_result"
    },
    {
     "data": {
      "image/png": "[encoded data removed]",
      "text/plain": [
       "<matplotlib.figure.Figure at 0x1b56c994278>"
      ]
     },
     "metadata": {},
     "output_type": "display_data"
    }
   ],
   "source": [
    "# there aren't very many above 3, so group all of those\n",
    "df['VEH'] = df['VEH'].apply(lambda x : min(x, 3))\n",
    "df['VEH'] = df['VEH'].astype(int)\n",
    "\n",
    "sns.distplot(df['VEH'])"
   ]
  },
  {
   "cell_type": "markdown",
   "metadata": {},
   "source": [
    "### Estimating a model\n",
    "\n",
    "OK, that's fine, we can do plots, but we want some actual numbers.  For this, we want to estimate what the model coefficients are. "
   ]
  },
  {
   "cell_type": "code",
   "execution_count": 88,
   "metadata": {
    "collapsed": false
   },
   "outputs": [
    {
     "name": "stdout",
     "output_type": "stream",
     "text": [
      "Optimization terminated successfully.\n",
      "         Current function value: 1.257492\n",
      "         Iterations 6\n",
      "                          MNLogit Regression Results                          \n",
      "==============================================================================\n",
      "Dep. Variable:                    VEH   No. Observations:                18055\n",
      "Model:                        MNLogit   Df Residuals:                    18052\n",
      "Method:                           MLE   Df Model:                            0\n",
      "Date:                Tue, 04 Apr 2017   Pseudo R-squ.:                   0.000\n",
      "Time:                        14:28:53   Log-Likelihood:                -22704.\n",
      "converged:                       True   LL-Null:                       -22704.\n",
      "                                        LLR p-value:                       nan\n",
      "==============================================================================\n",
      "     VEH=1       coef    std err          z      P>|z|      [0.025      0.975]\n",
      "------------------------------------------------------------------------------\n",
      "Intercept      1.4814      0.030     48.584      0.000       1.422       1.541\n",
      "------------------------------------------------------------------------------\n",
      "     VEH=2       coef    std err          z      P>|z|      [0.025      0.975]\n",
      "------------------------------------------------------------------------------\n",
      "Intercept      1.6581      0.030     55.211      0.000       1.599       1.717\n",
      "------------------------------------------------------------------------------\n",
      "     VEH=3       coef    std err          z      P>|z|      [0.025      0.975]\n",
      "------------------------------------------------------------------------------\n",
      "Intercept      1.1084      0.032     34.918      0.000       1.046       1.171\n",
      "==============================================================================\n"
     ]
    }
   ],
   "source": [
    "# Here is the constants only model. \n",
    "mod = smf.MNLogit.from_formula(formula='VEH ~ 1', data=df)\n",
    "res = mod.fit()\n",
    "print(res.summary())\n",
    "#always have to have one term that is a reference\n",
    "#in this case it is owning 0 vehicles, meaning that the utility for owning 0 cars is 0 "
   ]
  },
  {
   "cell_type": "markdown",
   "metadata": {},
   "source": [
    "Notice a few things: \n",
    "\n",
    "1. Goodness of fit measures\n",
    "2. Separate coefficients for each alternative"
   ]
  },
  {
   "cell_type": "code",
   "execution_count": 89,
   "metadata": {
    "collapsed": false
   },
   "outputs": [
    {
     "name": "stdout",
     "output_type": "stream",
     "text": [
      "Optimization terminated successfully.\n",
      "         Current function value: 1.156405\n",
      "         Iterations 7\n",
      "                          MNLogit Regression Results                          \n",
      "==============================================================================\n",
      "Dep. Variable:                    VEH   No. Observations:                18055\n",
      "Model:                        MNLogit   Df Residuals:                    18049\n",
      "Method:                           MLE   Df Model:                            3\n",
      "Date:                Tue, 04 Apr 2017   Pseudo R-squ.:                 0.08039\n",
      "Time:                        14:28:53   Log-Likelihood:                -20879.\n",
      "converged:                       True   LL-Null:                       -22704.\n",
      "                                        LLR p-value:                     0.000\n",
      "==============================================================================\n",
      "     VEH=1       coef    std err          z      P>|z|      [0.025      0.975]\n",
      "------------------------------------------------------------------------------\n",
      "Intercept      1.3608      0.071     19.120      0.000       1.221       1.500\n",
      "NP             0.0709      0.038      1.859      0.063      -0.004       0.146\n",
      "------------------------------------------------------------------------------\n",
      "     VEH=2       coef    std err          z      P>|z|      [0.025      0.975]\n",
      "------------------------------------------------------------------------------\n",
      "Intercept     -0.0748      0.072     -1.042      0.298      -0.216       0.066\n",
      "NP             0.8443      0.037     22.893      0.000       0.772       0.917\n",
      "------------------------------------------------------------------------------\n",
      "     VEH=3       coef    std err          z      P>|z|      [0.025      0.975]\n",
      "------------------------------------------------------------------------------\n",
      "Intercept     -1.3353      0.078    -17.185      0.000      -1.488      -1.183\n",
      "NP             1.0969      0.038     28.988      0.000       1.023       1.171\n",
      "==============================================================================\n"
     ]
    }
   ],
   "source": [
    "# That's fine, but we may try some more things.  Perhaps age matters. \n",
    "# More people -> more cars? \n",
    "\n",
    "mod = smf.MNLogit.from_formula(formula='VEH ~ NP + 1', data=df)\n",
    "res = mod.fit()\n",
    "print(res.summary())"
   ]
  },
  {
   "cell_type": "markdown",
   "metadata": {},
   "source": [
    "We can apply this model"
   ]
  },
  {
   "cell_type": "markdown",
   "metadata": {},
   "source": [
    "### Categorical variables\n",
    "\n",
    "We may also want to include categorical variables.  We can include them by calculating a 'dummy' variable, which is 1 if the value is in a category, and zero otherwise.  "
   ]
  },
  {
   "cell_type": "code",
   "execution_count": 90,
   "metadata": {
    "collapsed": false
   },
   "outputs": [
    {
     "data": {
      "text/html": [
       "<div>\n",
       "<table border=\"1\" class=\"dataframe\">\n",
       "  <thead>\n",
       "    <tr style=\"text-align: right;\">\n",
       "      <th></th>\n",
       "      <th>RT</th>\n",
       "      <th>SERIALNO</th>\n",
       "      <th>DIVISION</th>\n",
       "      <th>PUMA</th>\n",
       "      <th>REGION</th>\n",
       "      <th>ST</th>\n",
       "      <th>ADJHSG</th>\n",
       "      <th>ADJINC</th>\n",
       "      <th>WGTP</th>\n",
       "      <th>NP</th>\n",
       "      <th>...</th>\n",
       "      <th>wgtp75</th>\n",
       "      <th>wgtp76</th>\n",
       "      <th>wgtp77</th>\n",
       "      <th>wgtp78</th>\n",
       "      <th>wgtp79</th>\n",
       "      <th>wgtp80</th>\n",
       "      <th>kids_u6</th>\n",
       "      <th>kids_6_17</th>\n",
       "      <th>kids_u6_and_617</th>\n",
       "      <th>no_kids</th>\n",
       "    </tr>\n",
       "  </thead>\n",
       "  <tbody>\n",
       "    <tr>\n",
       "      <th>0</th>\n",
       "      <td>H</td>\n",
       "      <td>4</td>\n",
       "      <td>6</td>\n",
       "      <td>100</td>\n",
       "      <td>3</td>\n",
       "      <td>21</td>\n",
       "      <td>1000000</td>\n",
       "      <td>1001264</td>\n",
       "      <td>112</td>\n",
       "      <td>2</td>\n",
       "      <td>...</td>\n",
       "      <td>157</td>\n",
       "      <td>164</td>\n",
       "      <td>162</td>\n",
       "      <td>22</td>\n",
       "      <td>118</td>\n",
       "      <td>88</td>\n",
       "      <td>0</td>\n",
       "      <td>0</td>\n",
       "      <td>0</td>\n",
       "      <td>1</td>\n",
       "    </tr>\n",
       "    <tr>\n",
       "      <th>1</th>\n",
       "      <td>H</td>\n",
       "      <td>39</td>\n",
       "      <td>6</td>\n",
       "      <td>1706</td>\n",
       "      <td>3</td>\n",
       "      <td>21</td>\n",
       "      <td>1000000</td>\n",
       "      <td>1001264</td>\n",
       "      <td>58</td>\n",
       "      <td>7</td>\n",
       "      <td>...</td>\n",
       "      <td>17</td>\n",
       "      <td>18</td>\n",
       "      <td>93</td>\n",
       "      <td>57</td>\n",
       "      <td>61</td>\n",
       "      <td>62</td>\n",
       "      <td>0</td>\n",
       "      <td>0</td>\n",
       "      <td>1</td>\n",
       "      <td>0</td>\n",
       "    </tr>\n",
       "    <tr>\n",
       "      <th>2</th>\n",
       "      <td>H</td>\n",
       "      <td>116</td>\n",
       "      <td>6</td>\n",
       "      <td>1400</td>\n",
       "      <td>3</td>\n",
       "      <td>21</td>\n",
       "      <td>1000000</td>\n",
       "      <td>1001264</td>\n",
       "      <td>52</td>\n",
       "      <td>4</td>\n",
       "      <td>...</td>\n",
       "      <td>14</td>\n",
       "      <td>13</td>\n",
       "      <td>54</td>\n",
       "      <td>35</td>\n",
       "      <td>54</td>\n",
       "      <td>73</td>\n",
       "      <td>0</td>\n",
       "      <td>1</td>\n",
       "      <td>0</td>\n",
       "      <td>0</td>\n",
       "    </tr>\n",
       "    <tr>\n",
       "      <th>3</th>\n",
       "      <td>H</td>\n",
       "      <td>121</td>\n",
       "      <td>6</td>\n",
       "      <td>800</td>\n",
       "      <td>3</td>\n",
       "      <td>21</td>\n",
       "      <td>1000000</td>\n",
       "      <td>1001264</td>\n",
       "      <td>97</td>\n",
       "      <td>7</td>\n",
       "      <td>...</td>\n",
       "      <td>128</td>\n",
       "      <td>120</td>\n",
       "      <td>25</td>\n",
       "      <td>28</td>\n",
       "      <td>37</td>\n",
       "      <td>152</td>\n",
       "      <td>0</td>\n",
       "      <td>0</td>\n",
       "      <td>1</td>\n",
       "      <td>0</td>\n",
       "    </tr>\n",
       "    <tr>\n",
       "      <th>5</th>\n",
       "      <td>H</td>\n",
       "      <td>260</td>\n",
       "      <td>6</td>\n",
       "      <td>2400</td>\n",
       "      <td>3</td>\n",
       "      <td>21</td>\n",
       "      <td>1000000</td>\n",
       "      <td>1001264</td>\n",
       "      <td>157</td>\n",
       "      <td>2</td>\n",
       "      <td>...</td>\n",
       "      <td>239</td>\n",
       "      <td>241</td>\n",
       "      <td>144</td>\n",
       "      <td>39</td>\n",
       "      <td>164</td>\n",
       "      <td>53</td>\n",
       "      <td>0</td>\n",
       "      <td>1</td>\n",
       "      <td>0</td>\n",
       "      <td>0</td>\n",
       "    </tr>\n",
       "  </tbody>\n",
       "</table>\n",
       "<p>5 rows × 239 columns</p>\n",
       "</div>"
      ],
      "text/plain": [
       "  RT  SERIALNO  DIVISION  PUMA  REGION  ST   ADJHSG   ADJINC  WGTP  NP  \\\n",
       "0  H         4         6   100       3  21  1000000  1001264   112   2   \n",
       "1  H        39         6  1706       3  21  1000000  1001264    58   7   \n",
       "2  H       116         6  1400       3  21  1000000  1001264    52   4   \n",
       "3  H       121         6   800       3  21  1000000  1001264    97   7   \n",
       "5  H       260         6  2400       3  21  1000000  1001264   157   2   \n",
       "\n",
       "    ...     wgtp75  wgtp76  wgtp77  wgtp78  wgtp79  wgtp80  kids_u6  \\\n",
       "0   ...        157     164     162      22     118      88        0   \n",
       "1   ...         17      18      93      57      61      62        0   \n",
       "2   ...         14      13      54      35      54      73        0   \n",
       "3   ...        128     120      25      28      37     152        0   \n",
       "5   ...        239     241     144      39     164      53        0   \n",
       "\n",
       "   kids_6_17  kids_u6_and_617  no_kids  \n",
       "0          0                0        1  \n",
       "1          0                1        0  \n",
       "2          1                0        0  \n",
       "3          0                1        0  \n",
       "5          1                0        0  \n",
       "\n",
       "[5 rows x 239 columns]"
      ]
     },
     "execution_count": 90,
     "metadata": {},
     "output_type": "execute_result"
    }
   ],
   "source": [
    "'''\n",
    "HUPAC 1\n",
    "HH presence and age of children\n",
    "b .N/A (GQ/vacant)\n",
    "1 .With children under 6 years only\n",
    "2 .With children 6 to 17 years only\n",
    "3 .With children under 6 years and 6 to 17 years\n",
    "4 .No children\n",
    "'''\n",
    "\n",
    "dummies = pd.get_dummies(df['HUPAC'])\n",
    "dummies.columns = ['kids_u6', 'kids_6_17', 'kids_u6_and_617', 'no_kids']\n",
    "df = df.join(dummies)\n",
    "df.head()"
   ]
  },
  {
   "cell_type": "code",
   "execution_count": 91,
   "metadata": {
    "collapsed": false
   },
   "outputs": [
    {
     "name": "stdout",
     "output_type": "stream",
     "text": [
      "Optimization terminated successfully.\n",
      "         Current function value: 1.111589\n",
      "         Iterations 7\n",
      "                          MNLogit Regression Results                          \n",
      "==============================================================================\n",
      "Dep. Variable:                    VEH   No. Observations:                18055\n",
      "Model:                        MNLogit   Df Residuals:                    18040\n",
      "Method:                           MLE   Df Model:                           12\n",
      "Date:                Tue, 04 Apr 2017   Pseudo R-squ.:                  0.1160\n",
      "Time:                        14:28:54   Log-Likelihood:                -20070.\n",
      "converged:                       True   LL-Null:                       -22704.\n",
      "                                        LLR p-value:                     0.000\n",
      "===================================================================================\n",
      "          VEH=1       coef    std err          z      P>|z|      [0.025      0.975]\n",
      "-----------------------------------------------------------------------------------\n",
      "Intercept           1.4416      0.083     17.306      0.000       1.278       1.605\n",
      "NP                 -0.0045      0.054     -0.082      0.934      -0.111       0.102\n",
      "kids_u6             0.1359      0.179      0.759      0.448      -0.215       0.487\n",
      "kids_6_17           0.4707      0.135      3.481      0.000       0.206       0.736\n",
      "kids_u6_and_617    -0.1136      0.215     -0.528      0.597      -0.535       0.308\n",
      "-----------------------------------------------------------------------------------\n",
      "          VEH=2       coef    std err          z      P>|z|      [0.025      0.975]\n",
      "-----------------------------------------------------------------------------------\n",
      "Intercept          -0.7453      0.086     -8.647      0.000      -0.914      -0.576\n",
      "NP                  1.3330      0.054     24.894      0.000       1.228       1.438\n",
      "kids_u6            -1.0936      0.174     -6.295      0.000      -1.434      -0.753\n",
      "kids_6_17          -1.1754      0.135     -8.707      0.000      -1.440      -0.911\n",
      "kids_u6_and_617    -2.8221      0.209    -13.480      0.000      -3.232      -2.412\n",
      "-----------------------------------------------------------------------------------\n",
      "          VEH=3       coef    std err          z      P>|z|      [0.025      0.975]\n",
      "-----------------------------------------------------------------------------------\n",
      "Intercept          -2.5832      0.096    -26.911      0.000      -2.771      -2.395\n",
      "NP                  1.9282      0.056     34.289      0.000       1.818       2.038\n",
      "kids_u6            -2.4575      0.188    -13.102      0.000      -2.825      -2.090\n",
      "kids_6_17          -1.8664      0.142    -13.187      0.000      -2.144      -1.589\n",
      "kids_u6_and_617    -5.0002      0.228    -21.911      0.000      -5.447      -4.553\n",
      "===================================================================================\n"
     ]
    }
   ],
   "source": [
    "# That's fine, but we may try some more things.  Perhaps age matters. \n",
    "# More people -> more cars? \n",
    "\n",
    "mod = smf.MNLogit.from_formula(formula='VEH ~ NP + kids_u6 + kids_6_17 + kids_u6_and_617 + 1', data=df)\n",
    "res = mod.fit()\n",
    "print(res.summary())"
   ]
  },
  {
   "cell_type": "code",
   "execution_count": 92,
   "metadata": {
    "collapsed": true
   },
   "outputs": [],
   "source": [
    "# what else should we add? "
   ]
  },
  {
   "cell_type": "code",
   "execution_count": 93,
   "metadata": {
    "collapsed": false
   },
   "outputs": [
    {
     "name": "stdout",
     "output_type": "stream",
     "text": [
      "Optimization terminated successfully.\n",
      "         Current function value: 1.052745\n",
      "         Iterations 8\n",
      "                          MNLogit Regression Results                          \n",
      "==============================================================================\n",
      "Dep. Variable:                    VEH   No. Observations:                18055\n",
      "Model:                        MNLogit   Df Residuals:                    18037\n",
      "Method:                           MLE   Df Model:                           15\n",
      "Date:                Tue, 04 Apr 2017   Pseudo R-squ.:                  0.1628\n",
      "Time:                        14:28:55   Log-Likelihood:                -19007.\n",
      "converged:                       True   LL-Null:                       -22704.\n",
      "                                        LLR p-value:                     0.000\n",
      "===================================================================================\n",
      "          VEH=1       coef    std err          z      P>|z|      [0.025      0.975]\n",
      "-----------------------------------------------------------------------------------\n",
      "Intercept           1.0874      0.082     13.248      0.000       0.926       1.248\n",
      "NP                 -0.3407      0.054     -6.282      0.000      -0.447      -0.234\n",
      "kids_u6             0.5591      0.182      3.071      0.002       0.202       0.916\n",
      "kids_6_17           0.8586      0.140      6.141      0.000       0.585       1.133\n",
      "kids_u6_and_617     0.6936      0.223      3.107      0.002       0.256       1.131\n",
      "HINCP            2.819e-05   1.61e-06     17.476      0.000     2.5e-05    3.14e-05\n",
      "-----------------------------------------------------------------------------------\n",
      "          VEH=2       coef    std err          z      P>|z|      [0.025      0.975]\n",
      "-----------------------------------------------------------------------------------\n",
      "Intercept          -1.4087      0.088    -16.030      0.000      -1.581      -1.236\n",
      "NP                  0.7429      0.053     13.892      0.000       0.638       0.848\n",
      "kids_u6            -0.3863      0.180     -2.143      0.032      -0.740      -0.033\n",
      "kids_6_17          -0.5386      0.141     -3.808      0.000      -0.816      -0.261\n",
      "kids_u6_and_617    -1.5033      0.221     -6.787      0.000      -1.937      -1.069\n",
      "HINCP            4.234e-05   1.61e-06     26.272      0.000    3.92e-05    4.55e-05\n",
      "-----------------------------------------------------------------------------------\n",
      "          VEH=3       coef    std err          z      P>|z|      [0.025      0.975]\n",
      "-----------------------------------------------------------------------------------\n",
      "Intercept          -3.4327      0.099    -34.571      0.000      -3.627      -3.238\n",
      "NP                  1.3227      0.056     23.555      0.000       1.213       1.433\n",
      "kids_u6            -1.7208      0.194     -8.872      0.000      -2.101      -1.341\n",
      "kids_6_17          -1.2153      0.148     -8.203      0.000      -1.506      -0.925\n",
      "kids_u6_and_617    -3.6212      0.239    -15.145      0.000      -4.090      -3.153\n",
      "HINCP            4.485e-05   1.62e-06     27.694      0.000    4.17e-05     4.8e-05\n",
      "===================================================================================\n"
     ]
    }
   ],
   "source": [
    "#add income\n",
    "mod = smf.MNLogit.from_formula(formula='VEH ~ NP + kids_u6 + kids_6_17 + kids_u6_and_617 + HINCP + 1', data=df)\n",
    "res = mod.fit()\n",
    "print(res.summary())"
   ]
  },
  {
   "cell_type": "code",
   "execution_count": 94,
   "metadata": {
    "collapsed": false
   },
   "outputs": [
    {
     "data": {
      "text/plain": [
       "0    11.156251\n",
       "1    11.666505\n",
       "2    11.561716\n",
       "3    10.094108\n",
       "5    10.915088\n",
       "Name: LOG_HINCP, dtype: float64"
      ]
     },
     "execution_count": 94,
     "metadata": {},
     "output_type": "execute_result"
    }
   ],
   "source": [
    "#to get rid of negative infinite numbers take the log of  the max between 1 and the \n",
    "#value in the row (x)\n",
    "\n",
    "df['LOG_HINCP']= df['HINCP'].apply(lambda x : np.log(max(x,1)))\n",
    "df['LOG_HINCP'].head()"
   ]
  },
  {
   "cell_type": "code",
   "execution_count": 95,
   "metadata": {
    "collapsed": false
   },
   "outputs": [
    {
     "name": "stdout",
     "output_type": "stream",
     "text": [
      "Optimization terminated successfully.\n",
      "         Current function value: 1.056297\n",
      "         Iterations 7\n",
      "                          MNLogit Regression Results                          \n",
      "==============================================================================\n",
      "Dep. Variable:                    VEH   No. Observations:                18055\n",
      "Model:                        MNLogit   Df Residuals:                    18037\n",
      "Method:                           MLE   Df Model:                           15\n",
      "Date:                Tue, 04 Apr 2017   Pseudo R-squ.:                  0.1600\n",
      "Time:                        14:28:55   Log-Likelihood:                -19071.\n",
      "converged:                       True   LL-Null:                       -22704.\n",
      "                                        LLR p-value:                     0.000\n",
      "===================================================================================\n",
      "          VEH=1       coef    std err          z      P>|z|      [0.025      0.975]\n",
      "-----------------------------------------------------------------------------------\n",
      "Intercept           0.2479      0.134      1.852      0.064      -0.015       0.510\n",
      "NP                 -0.0698      0.052     -1.339      0.181      -0.172       0.032\n",
      "kids_u6             0.2820      0.181      1.556      0.120      -0.073       0.637\n",
      "kids_6_17           0.5616      0.137      4.091      0.000       0.293       0.831\n",
      "kids_u6_and_617     0.1154      0.219      0.527      0.598      -0.314       0.545\n",
      "LOG_HINCP           0.1328      0.012     11.044      0.000       0.109       0.156\n",
      "-----------------------------------------------------------------------------------\n",
      "          VEH=2       coef    std err          z      P>|z|      [0.025      0.975]\n",
      "-----------------------------------------------------------------------------------\n",
      "Intercept          -7.3453      0.254    -28.882      0.000      -7.844      -6.847\n",
      "NP                  1.0189      0.053     19.344      0.000       0.916       1.122\n",
      "kids_u6            -0.6396      0.180     -3.547      0.000      -0.993      -0.286\n",
      "kids_6_17          -0.8006      0.139     -5.763      0.000      -1.073      -0.528\n",
      "kids_u6_and_617    -2.0239      0.219     -9.263      0.000      -2.452      -1.596\n",
      "LOG_HINCP           0.6881      0.024     28.554      0.000       0.641       0.735\n",
      "-----------------------------------------------------------------------------------\n",
      "          VEH=3       coef    std err          z      P>|z|      [0.025      0.975]\n",
      "-----------------------------------------------------------------------------------\n",
      "Intercept         -14.1549      0.344    -41.201      0.000     -14.828     -13.482\n",
      "NP                  1.5620      0.056     28.000      0.000       1.453       1.671\n",
      "kids_u6            -1.9333      0.195     -9.933      0.000      -2.315      -1.552\n",
      "kids_6_17          -1.4388      0.146     -9.834      0.000      -1.725      -1.152\n",
      "kids_u6_and_617    -4.0267      0.237    -16.990      0.000      -4.491      -3.562\n",
      "LOG_HINCP           1.1488      0.031     36.546      0.000       1.087       1.210\n",
      "===================================================================================\n"
     ]
    }
   ],
   "source": [
    "#rerun the model with the log income variable\n",
    "\n",
    "mod = smf.MNLogit.from_formula(formula='VEH ~ NP + kids_u6 + kids_6_17 + kids_u6_and_617 + LOG_HINCP + 1', data=df)\n",
    "res = mod.fit()\n",
    "print(res.summary())"
   ]
  },
  {
   "cell_type": "markdown",
   "metadata": {},
   "source": [
    "### Homework\n",
    "\n",
    "Calculate the probability that a 1-person household in Lexington, earning $16,000 per year owns 0, 1, 2 or 3+ vehicles.  "
   ]
  },
  {
   "cell_type": "code",
   "execution_count": 96,
   "metadata": {
    "collapsed": false
   },
   "outputs": [
    {
     "data": {
      "text/html": [
       "<div>\n",
       "<table border=\"1\" class=\"dataframe\">\n",
       "  <thead>\n",
       "    <tr style=\"text-align: right;\">\n",
       "      <th></th>\n",
       "      <th>RT</th>\n",
       "      <th>SERIALNO</th>\n",
       "      <th>DIVISION</th>\n",
       "      <th>PUMA</th>\n",
       "      <th>REGION</th>\n",
       "      <th>ST</th>\n",
       "      <th>ADJHSG</th>\n",
       "      <th>ADJINC</th>\n",
       "      <th>WGTP</th>\n",
       "      <th>NP</th>\n",
       "      <th>...</th>\n",
       "      <th>wgtp76</th>\n",
       "      <th>wgtp77</th>\n",
       "      <th>wgtp78</th>\n",
       "      <th>wgtp79</th>\n",
       "      <th>wgtp80</th>\n",
       "      <th>kids_u6</th>\n",
       "      <th>kids_6_17</th>\n",
       "      <th>kids_u6_and_617</th>\n",
       "      <th>no_kids</th>\n",
       "      <th>LOG_HINCP</th>\n",
       "    </tr>\n",
       "  </thead>\n",
       "  <tbody>\n",
       "    <tr>\n",
       "      <th>0</th>\n",
       "      <td>H</td>\n",
       "      <td>4</td>\n",
       "      <td>6</td>\n",
       "      <td>100</td>\n",
       "      <td>3</td>\n",
       "      <td>21</td>\n",
       "      <td>1000000</td>\n",
       "      <td>1001264</td>\n",
       "      <td>112</td>\n",
       "      <td>2</td>\n",
       "      <td>...</td>\n",
       "      <td>164</td>\n",
       "      <td>162</td>\n",
       "      <td>22</td>\n",
       "      <td>118</td>\n",
       "      <td>88</td>\n",
       "      <td>0</td>\n",
       "      <td>0</td>\n",
       "      <td>0</td>\n",
       "      <td>1</td>\n",
       "      <td>11.156251</td>\n",
       "    </tr>\n",
       "    <tr>\n",
       "      <th>1</th>\n",
       "      <td>H</td>\n",
       "      <td>39</td>\n",
       "      <td>6</td>\n",
       "      <td>1706</td>\n",
       "      <td>3</td>\n",
       "      <td>21</td>\n",
       "      <td>1000000</td>\n",
       "      <td>1001264</td>\n",
       "      <td>58</td>\n",
       "      <td>7</td>\n",
       "      <td>...</td>\n",
       "      <td>18</td>\n",
       "      <td>93</td>\n",
       "      <td>57</td>\n",
       "      <td>61</td>\n",
       "      <td>62</td>\n",
       "      <td>0</td>\n",
       "      <td>0</td>\n",
       "      <td>1</td>\n",
       "      <td>0</td>\n",
       "      <td>11.666505</td>\n",
       "    </tr>\n",
       "    <tr>\n",
       "      <th>2</th>\n",
       "      <td>H</td>\n",
       "      <td>116</td>\n",
       "      <td>6</td>\n",
       "      <td>1400</td>\n",
       "      <td>3</td>\n",
       "      <td>21</td>\n",
       "      <td>1000000</td>\n",
       "      <td>1001264</td>\n",
       "      <td>52</td>\n",
       "      <td>4</td>\n",
       "      <td>...</td>\n",
       "      <td>13</td>\n",
       "      <td>54</td>\n",
       "      <td>35</td>\n",
       "      <td>54</td>\n",
       "      <td>73</td>\n",
       "      <td>0</td>\n",
       "      <td>1</td>\n",
       "      <td>0</td>\n",
       "      <td>0</td>\n",
       "      <td>11.561716</td>\n",
       "    </tr>\n",
       "    <tr>\n",
       "      <th>3</th>\n",
       "      <td>H</td>\n",
       "      <td>121</td>\n",
       "      <td>6</td>\n",
       "      <td>800</td>\n",
       "      <td>3</td>\n",
       "      <td>21</td>\n",
       "      <td>1000000</td>\n",
       "      <td>1001264</td>\n",
       "      <td>97</td>\n",
       "      <td>7</td>\n",
       "      <td>...</td>\n",
       "      <td>120</td>\n",
       "      <td>25</td>\n",
       "      <td>28</td>\n",
       "      <td>37</td>\n",
       "      <td>152</td>\n",
       "      <td>0</td>\n",
       "      <td>0</td>\n",
       "      <td>1</td>\n",
       "      <td>0</td>\n",
       "      <td>10.094108</td>\n",
       "    </tr>\n",
       "    <tr>\n",
       "      <th>5</th>\n",
       "      <td>H</td>\n",
       "      <td>260</td>\n",
       "      <td>6</td>\n",
       "      <td>2400</td>\n",
       "      <td>3</td>\n",
       "      <td>21</td>\n",
       "      <td>1000000</td>\n",
       "      <td>1001264</td>\n",
       "      <td>157</td>\n",
       "      <td>2</td>\n",
       "      <td>...</td>\n",
       "      <td>241</td>\n",
       "      <td>144</td>\n",
       "      <td>39</td>\n",
       "      <td>164</td>\n",
       "      <td>53</td>\n",
       "      <td>0</td>\n",
       "      <td>1</td>\n",
       "      <td>0</td>\n",
       "      <td>0</td>\n",
       "      <td>10.915088</td>\n",
       "    </tr>\n",
       "  </tbody>\n",
       "</table>\n",
       "<p>5 rows × 240 columns</p>\n",
       "</div>"
      ],
      "text/plain": [
       "  RT  SERIALNO  DIVISION  PUMA  REGION  ST   ADJHSG   ADJINC  WGTP  NP  \\\n",
       "0  H         4         6   100       3  21  1000000  1001264   112   2   \n",
       "1  H        39         6  1706       3  21  1000000  1001264    58   7   \n",
       "2  H       116         6  1400       3  21  1000000  1001264    52   4   \n",
       "3  H       121         6   800       3  21  1000000  1001264    97   7   \n",
       "5  H       260         6  2400       3  21  1000000  1001264   157   2   \n",
       "\n",
       "     ...      wgtp76  wgtp77  wgtp78  wgtp79  wgtp80  kids_u6  kids_6_17  \\\n",
       "0    ...         164     162      22     118      88        0          0   \n",
       "1    ...          18      93      57      61      62        0          0   \n",
       "2    ...          13      54      35      54      73        0          1   \n",
       "3    ...         120      25      28      37     152        0          0   \n",
       "5    ...         241     144      39     164      53        0          1   \n",
       "\n",
       "   kids_u6_and_617  no_kids  LOG_HINCP  \n",
       "0                0        1  11.156251  \n",
       "1                1        0  11.666505  \n",
       "2                0        0  11.561716  \n",
       "3                1        0  10.094108  \n",
       "5                0        0  10.915088  \n",
       "\n",
       "[5 rows x 240 columns]"
      ]
     },
     "execution_count": 96,
     "metadata": {},
     "output_type": "execute_result"
    }
   ],
   "source": [
    "df.head()\n"
   ]
  },
  {
   "cell_type": "code",
   "execution_count": null,
   "metadata": {
    "collapsed": false
   },
   "outputs": [],
   "source": []
  },
  {
   "cell_type": "code",
   "execution_count": 97,
   "metadata": {
    "collapsed": false
   },
   "outputs": [],
   "source": [
    "#select only PUMAS in KY because PUMA values are only unique to a state\n",
    "df = df[df['ST'] == 21]"
   ]
  },
  {
   "cell_type": "code",
   "execution_count": 98,
   "metadata": {
    "collapsed": false
   },
   "outputs": [],
   "source": [
    "#Select out the lexington PUMAs\n",
    "df = df[df['PUMA'].isin([1901,1902])]"
   ]
  },
  {
   "cell_type": "code",
   "execution_count": 106,
   "metadata": {
    "collapsed": false
   },
   "outputs": [
    {
     "name": "stdout",
     "output_type": "stream",
     "text": [
      "Optimization terminated successfully.\n",
      "         Current function value: 0.980245\n",
      "         Iterations 9\n",
      "                          MNLogit Regression Results                          \n",
      "==============================================================================\n",
      "Dep. Variable:                    VEH   No. Observations:                 1243\n",
      "Model:                        MNLogit   Df Residuals:                     1234\n",
      "Method:                           MLE   Df Model:                            6\n",
      "Date:                Tue, 04 Apr 2017   Pseudo R-squ.:                  0.1948\n",
      "Time:                        14:51:38   Log-Likelihood:                -1218.4\n",
      "converged:                       True   LL-Null:                       -1513.1\n",
      "                                        LLR p-value:                4.554e-124\n",
      "==============================================================================\n",
      "     VEH=1       coef    std err          z      P>|z|      [0.025      0.975]\n",
      "------------------------------------------------------------------------------\n",
      "Intercept      0.5929      0.272      2.178      0.029       0.059       1.126\n",
      "NP            -0.1309      0.143     -0.915      0.360      -0.411       0.150\n",
      "HINCP        3.34e-05   5.63e-06      5.936      0.000    2.24e-05    4.44e-05\n",
      "------------------------------------------------------------------------------\n",
      "     VEH=2       coef    std err          z      P>|z|      [0.025      0.975]\n",
      "------------------------------------------------------------------------------\n",
      "Intercept     -1.8585      0.301     -6.175      0.000      -2.448      -1.269\n",
      "NP             0.6533      0.141      4.620      0.000       0.376       0.930\n",
      "HINCP       4.789e-05   5.69e-06      8.422      0.000    3.67e-05     5.9e-05\n",
      "------------------------------------------------------------------------------\n",
      "     VEH=3       coef    std err          z      P>|z|      [0.025      0.975]\n",
      "------------------------------------------------------------------------------\n",
      "Intercept     -4.4763      0.366    -12.221      0.000      -5.194      -3.758\n",
      "NP             1.0742      0.151      7.132      0.000       0.779       1.369\n",
      "HINCP       5.072e-05   5.72e-06      8.873      0.000    3.95e-05    6.19e-05\n",
      "==============================================================================\n"
     ]
    }
   ],
   "source": [
    "#rerun the model with only lexington residents\n",
    "#log of income left out because the psuedo R-squ is less with it used instead of HINCP\n",
    "mod = smf.MNLogit.from_formula(formula='VEH ~ NP + HINCP + 1', data=df)\n",
    "res = mod.fit()\n",
    "print(res.summary())"
   ]
  },
  {
   "cell_type": "markdown",
   "metadata": {},
   "source": [
    "#### Utility to Own 0 Vehicles\n",
    "U0 = 0\n",
    "\n",
    "#### Utility to Own 1 Vehicle\n",
    "U1 = 0.5929 -.1309(NP)+3.34*10^-5(HINCP)\n",
    "\n",
    "    note the p value for the NP coefficient is 0.36 and should be used with caution\n",
    "    \n",
    "#### Utility to Own 2 Vehicles\n",
    "U2 = -1.8585 + 0.6533(NP) +4.789*10^-5(HINCP)\n",
    "\n",
    "#### Utility to Own 3 Vehicles\n",
    "U3 = -4.4763 + 1.0742(NP) +.5929*10^-5(HINCP)\n",
    "\n",
    "### Probability to Own 1 Vehicle\n",
    "P0 = 0.226 or 22.6%\n",
    "\n",
    "### Probability to Own 1 Vehicle\n",
    "P1 = 0.612 or 61.2%\n",
    "\n",
    "### Probability to Own 2 Vehicles\n",
    "P2 = 0.145 or 14.5%\n",
    "\n",
    "### Probability to Own 3 Vehicles\n",
    "P3 = 0.017 or 1.7%"
   ]
  },
  {
   "cell_type": "code",
   "execution_count": 103,
   "metadata": {
    "collapsed": true
   },
   "outputs": [],
   "source": [
    "#Refer to excel sheet Probability calculations for work shown"
   ]
  },
  {
   "cell_type": "code",
   "execution_count": null,
   "metadata": {
    "collapsed": true
   },
   "outputs": [],
   "source": []
  }
 ],
 "metadata": {
  "anaconda-cloud": {},
  "kernelspec": {
   "display_name": "Python [conda root]",
   "language": "python",
   "name": "conda-root-py"
  },
  "language_info": {
   "codemirror_mode": {
    "name": "ipython",
    "version": 3
   },
   "file_extension": ".py",
   "mimetype": "text/x-python",
   "name": "python",
   "nbconvert_exporter": "python",
   "pygments_lexer": "ipython3",
   "version": "3.5.2"
  }
 },
 "nbformat": 4,
 "nbformat_minor": 1
}
