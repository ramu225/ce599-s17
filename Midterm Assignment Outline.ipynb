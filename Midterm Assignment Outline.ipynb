{
 "cells": [
  {
   "cell_type": "markdown",
   "metadata": {},
   "source": [
    "# Midterm Assignment Outline\n",
    "\n",
    "## Introduction\n",
    "**Background of traffic demand forecasting and what it is trying to accomplish**\n",
    "* Who does the forecasting \n",
    "    \n",
    "* Who makes the decision\n",
    "    \n",
    "* The relationship between the two\n",
    "    \n",
    "* Why the relationship has an effect on the results\n",
    "    \n",
    "* What has happened in previous forecasts (were they good or bad)\n",
    "    \n",
    "* Discuss what has happened in other forecasts (what did good ones do/bad ones do)\n",
    "    \n",
    "    \n",
    "    \n",
    "**Issues with the forecasting** \n",
    "    \n",
    "* Inherent error in our forecasts (due to assumptions and the nature of irrational human behavior being involved in modeling traffic demand. \n",
    "    * Link back to the other fields and how their forecasts have not panned out well (economic)\n",
    "    * Talk about the assumptions that have to be made\n",
    "    \n",
    "* The planner becoming an advocate for an alternative or objective (due to political push or personal gain)\n",
    "    * link back to the global warming forecasts \n",
    "    * link back to construction scheduling and polictical push to finish a schedule on time leading to matienance issues or worse reowork. \n",
    "        \n",
    "        \n",
    "        \n",
    "** Solution **\n",
    "* Structure the organization with one position being a middle man between the executives and the engineers\n",
    "    * Make sure he can understand technical language and interpret it in lamemans terms \n",
    "    * Provides a means for somebody being held responsible for any issues with advocacy towards an outcome for the model\n",
    "    * This will ultimately be an arbitrator for the two parties\n",
    "    \n",
    "* Get the federal regulators to mandate reviews of travel demand forecasts every so many years \n",
    "    * Provides multiple examples of models that have worked well and reasons why the others failed\n",
    "    * Force the executive to think twice about pushing their agenda\n",
    "    * Not meant to be as a \"gotcha\" more of a \"lessons learned\" unless blatent  \n",
    "    \n",
    "    \n",
    "** Conclusion**\n",
    "* Reiterate the issues that traffic demand modeling has. \n",
    "* Provide the reasoning behind the solutions\n",
    "* wrap everything up and give a good feeling of hope for traffic demand modeling \n"
   ]
  },
  {
   "cell_type": "code",
   "execution_count": null,
   "metadata": {
    "collapsed": true
   },
   "outputs": [],
   "source": []
  }
 ],
 "metadata": {
  "anaconda-cloud": {},
  "kernelspec": {
   "display_name": "Python [conda root]",
   "language": "python",
   "name": "conda-root-py"
  },
  "language_info": {
   "codemirror_mode": {
    "name": "ipython",
    "version": 3
   },
   "file_extension": ".py",
   "mimetype": "text/x-python",
   "name": "python",
   "nbconvert_exporter": "python",
   "pygments_lexer": "ipython3",
   "version": "3.5.2"
  }
 },
 "nbformat": 4,
 "nbformat_minor": 1
}
