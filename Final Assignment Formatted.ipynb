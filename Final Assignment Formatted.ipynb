{
 "cells": [
  {
   "cell_type": "markdown",
   "metadata": {},
   "source": [
    "# Final Assignment\n",
    "\n",
    "CE 599-002: Data Science in Transportation\n",
    "\n",
    "Spring 2017\n",
    "\n",
    "Oral Proposals:  March 9, 2017\n",
    "\n",
    "Interim Project Report Due: April 13, 2017, end of class\n",
    "\n",
    "Final Presentations: April 25 & 27, 2017\n",
    "\n",
    "Final Report Due: May 4, 2017, 5 pm in OHR 261\n",
    "\n",
    "**Assignment**\n",
    "\n",
    "The final assignment for this class is to apply the skills you learn in this class to analyze a data set and learn something about the transportation system.  The range of topics is wide open, so pick something you are interested in.  It should broadly meet the following criteria: \n",
    "\n",
    "1. It should involve writing software using the skills you learn in this class (hacking skills). \n",
    "2. It should be defensible from a statistical/data analysis perspective (math & statistics knowledge). \n",
    "3. It provide insight to address an important transportation question (substantive expertise). Have a point!\n",
    "\n",
    "This should put you at the center of the Data Science Venn Diagram.  \n",
    "\n",
    "Undergraduate students will complete the work in pairs, and graduate students individually.  \n",
    "\n",
    "To make sure you have selected an appropriate topic, you will do a 5-minute oral proposal, followed by a question and answer session.  All students should come prepared to ask constructive questions of all proposers.  An interim report is due showing progress to date, and highlighting remaining steps.  Your final grade will be based on the code itself, a final report, and an oral final presentation.  The report should be no more than 7500 words, and should follow the Transportation Research Board manuscript format: \n",
    "\n",
    "\thttp://onlinepubs.trb.org/onlinepubs/AM/InfoForAuthors.pdf \n",
    "\n",
    "You are encouraged to ask questions and discuss preliminary results along the way.  It is best to get feedback early and avoid surprises!   \n",
    "\n",
    "**Code Reviews**\n",
    "\n",
    "We will follow a code-review model of collaboration in this class.  This means that one person will write a section of code, and a second person will review it to make sure that 1) they can run the code, 2) they understand it, and 3) it is reasonably clean and well-documented.  For example, methods should include API definitions for what each argument is, and what the method returns.  \"Magic numbers\" should be avoided, and variables and methods should be given logical names.  \n",
    "\n",
    "Code reviews should be done by directly editing the code, by adding comments, or by creating \"issues\" in github.  Github check-ins will be used as a means of documenting code reviews, documenting the changes in response to code reviews, and ensuring that sufficient time is allocated to allow for reviews.  \n",
    "\n",
    "Grading will be such that 90% of the project grade is based on the student's own work, and 10% is based on the grade of the project you are reviewing.  For undergraduates who are completing the work in pairs, students will review their partner's code.  10% of the grade is reserved for the quality of the reviews and general teamwork components.  \n",
    "\n",
    "**Writing Reviews**\n",
    "\n",
    "Writing should be reviewed and edited in a manner similar to code reviews. The person writing it should give it to their reviewer to read and comment on before submitting.  The reviewer should expect that they are able to read the document and understand the point of the paper.  They can suggest edits directly, or provide general comments and discussion. \n",
    "\n",
    "**Graduate Students**\n",
    "\n",
    "Graduate students should meet the following additional standards: \n",
    "\n",
    "1. Their projects will be completed individually, rather than in pairs. \n",
    "2. They will serve as a code-reviewer for another student's project.\n",
    "3. Their final reports must put the analysis in the context of the broader literature on the topic.  \n",
    "\n",
    "It is highly recommended that graduate students select a project that is beneficial to their ongoing research.   \n",
    "\n",
    "**Rubric**\n",
    "\n",
    "The rubric for what is expected in this paper is shown below.  \n",
    "\n",
    "![Rubric](/images/Final-rubric.png)\n",
    "\n"
   ]
  },
  {
   "cell_type": "code",
   "execution_count": null,
   "metadata": {
    "collapsed": true
   },
   "outputs": [],
   "source": []
  }
 ],
 "metadata": {
  "anaconda-cloud": {},
  "kernelspec": {
   "display_name": "Python [conda root]",
   "language": "python",
   "name": "conda-root-py"
  },
  "language_info": {
   "codemirror_mode": {
    "name": "ipython",
    "version": 3
   },
   "file_extension": ".py",
   "mimetype": "text/x-python",
   "name": "python",
   "nbconvert_exporter": "python",
   "pygments_lexer": "ipython3",
   "version": "3.5.2"
  }
 },
 "nbformat": 4,
 "nbformat_minor": 1
}
