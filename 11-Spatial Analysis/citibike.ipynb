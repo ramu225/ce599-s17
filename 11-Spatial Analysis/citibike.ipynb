{
 "cells": [
  {
   "cell_type": "markdown",
   "metadata": {},
   "source": [
    "# Example: CitiBike data\n",
    "\n",
    "Adapted from Kelsey Jordahl\n",
    "https://gist.github.com/kjordahl/5957573"
   ]
  },
  {
   "cell_type": "code",
<<<<<<< HEAD
   "execution_count": 53,
=======
   "execution_count": null,
>>>>>>> refs/remotes/uky-transport-data-science/master
   "metadata": {
    "collapsed": false
   },
   "outputs": [],
   "source": [
<<<<<<< HEAD
    "%matplotlib inline\n",
    "\n",
=======
>>>>>>> refs/remotes/uky-transport-data-science/master
    "import requests  \n",
    "import json\n",
    "from pyproj import Proj\n",
    "from shapely.geometry import Point\n",
    "import geopandas as gp"
   ]
  },
  {
   "cell_type": "markdown",
   "metadata": {},
   "source": [
    "NYC borough boundaries downloaded from [Bytes of the Big Apple](http://www.nyc.gov/html/dcp/download/bytes/nybb_13a.zip)"
   ]
  },
  {
   "cell_type": "code",
<<<<<<< HEAD
   "execution_count": 54,
=======
   "execution_count": null,
>>>>>>> refs/remotes/uky-transport-data-science/master
   "metadata": {
    "collapsed": false
   },
   "outputs": [],
   "source": [
    "boros = gp.GeoDataFrame.from_file('nybb_15b/nybb.shp')"
   ]
  },
  {
   "cell_type": "markdown",
   "metadata": {},
   "source": [
    "Load real time bike station data from [CitiBike](http://citibikenyc.com) json API:"
   ]
  },
  {
   "cell_type": "code",
<<<<<<< HEAD
   "execution_count": 55,
=======
   "execution_count": null,
>>>>>>> refs/remotes/uky-transport-data-science/master
   "metadata": {
    "collapsed": false
   },
   "outputs": [],
   "source": [
    "# get the bike data and convert it to a ditcionary\n",
    "endpoint_url = 'http://citibikenyc.com/stations/json'\n",
    "response = requests.get(endpoint_url)\n",
    "data = json.loads(response.text)\n"
   ]
  },
  {
   "cell_type": "code",
<<<<<<< HEAD
   "execution_count": 56,
   "metadata": {
    "collapsed": false
   },
   "outputs": [
    {
     "data": {
      "text/html": [
       "<div>\n",
       "<table border=\"1\" class=\"dataframe\">\n",
       "  <thead>\n",
       "    <tr style=\"text-align: right;\">\n",
       "      <th></th>\n",
       "      <th>altitude</th>\n",
       "      <th>availableBikes</th>\n",
       "      <th>availableDocks</th>\n",
       "      <th>city</th>\n",
       "      <th>id</th>\n",
       "      <th>landMark</th>\n",
       "      <th>lastCommunicationTime</th>\n",
       "      <th>latitude</th>\n",
       "      <th>location</th>\n",
       "      <th>longitude</th>\n",
       "      <th>postalCode</th>\n",
       "      <th>stAddress1</th>\n",
       "      <th>stAddress2</th>\n",
       "      <th>stationName</th>\n",
       "      <th>statusKey</th>\n",
       "      <th>statusValue</th>\n",
       "      <th>testStation</th>\n",
       "      <th>totalDocks</th>\n",
       "    </tr>\n",
       "  </thead>\n",
       "  <tbody>\n",
       "    <tr>\n",
       "      <th>0</th>\n",
       "      <td></td>\n",
       "      <td>11</td>\n",
       "      <td>26</td>\n",
       "      <td></td>\n",
       "      <td>72</td>\n",
       "      <td></td>\n",
       "      <td>2017-02-16 02:06:44 PM</td>\n",
       "      <td>40.767272</td>\n",
       "      <td></td>\n",
       "      <td>-73.993929</td>\n",
       "      <td></td>\n",
       "      <td>W 52 St &amp; 11 Ave</td>\n",
       "      <td></td>\n",
       "      <td>W 52 St &amp; 11 Ave</td>\n",
       "      <td>1</td>\n",
       "      <td>In Service</td>\n",
       "      <td>False</td>\n",
       "      <td>39</td>\n",
       "    </tr>\n",
       "    <tr>\n",
       "      <th>1</th>\n",
       "      <td></td>\n",
       "      <td>25</td>\n",
       "      <td>6</td>\n",
       "      <td></td>\n",
       "      <td>79</td>\n",
       "      <td></td>\n",
       "      <td>2017-02-16 02:06:24 PM</td>\n",
       "      <td>40.719116</td>\n",
       "      <td></td>\n",
       "      <td>-74.006667</td>\n",
       "      <td></td>\n",
       "      <td>Franklin St &amp; W Broadway</td>\n",
       "      <td></td>\n",
       "      <td>Franklin St &amp; W Broadway</td>\n",
       "      <td>1</td>\n",
       "      <td>In Service</td>\n",
       "      <td>False</td>\n",
       "      <td>33</td>\n",
       "    </tr>\n",
       "    <tr>\n",
       "      <th>2</th>\n",
       "      <td></td>\n",
       "      <td>18</td>\n",
       "      <td>8</td>\n",
       "      <td></td>\n",
       "      <td>82</td>\n",
       "      <td></td>\n",
       "      <td>2017-02-16 02:04:18 PM</td>\n",
       "      <td>40.711174</td>\n",
       "      <td></td>\n",
       "      <td>-74.000165</td>\n",
       "      <td></td>\n",
       "      <td>St James Pl &amp; Pearl St</td>\n",
       "      <td></td>\n",
       "      <td>St James Pl &amp; Pearl St</td>\n",
       "      <td>1</td>\n",
       "      <td>In Service</td>\n",
       "      <td>False</td>\n",
       "      <td>27</td>\n",
       "    </tr>\n",
       "    <tr>\n",
       "      <th>3</th>\n",
       "      <td></td>\n",
       "      <td>26</td>\n",
       "      <td>34</td>\n",
       "      <td></td>\n",
       "      <td>83</td>\n",
       "      <td></td>\n",
       "      <td>2017-02-16 02:04:25 PM</td>\n",
       "      <td>40.683826</td>\n",
       "      <td></td>\n",
       "      <td>-73.976323</td>\n",
       "      <td></td>\n",
       "      <td>Atlantic Ave &amp; Fort Greene Pl</td>\n",
       "      <td></td>\n",
       "      <td>Atlantic Ave &amp; Fort Greene Pl</td>\n",
       "      <td>1</td>\n",
       "      <td>In Service</td>\n",
       "      <td>False</td>\n",
       "      <td>62</td>\n",
       "    </tr>\n",
       "    <tr>\n",
       "      <th>4</th>\n",
       "      <td></td>\n",
       "      <td>9</td>\n",
       "      <td>30</td>\n",
       "      <td></td>\n",
       "      <td>116</td>\n",
       "      <td></td>\n",
       "      <td>2017-02-16 02:06:36 PM</td>\n",
       "      <td>40.741776</td>\n",
       "      <td></td>\n",
       "      <td>-74.001497</td>\n",
       "      <td></td>\n",
       "      <td>W 17 St &amp; 8 Ave</td>\n",
       "      <td></td>\n",
       "      <td>W 17 St &amp; 8 Ave</td>\n",
       "      <td>1</td>\n",
       "      <td>In Service</td>\n",
       "      <td>False</td>\n",
       "      <td>39</td>\n",
       "    </tr>\n",
       "  </tbody>\n",
       "</table>\n",
       "</div>"
      ],
      "text/plain": [
       "  altitude  availableBikes  availableDocks city   id landMark  \\\n",
       "0                       11              26        72            \n",
       "1                       25               6        79            \n",
       "2                       18               8        82            \n",
       "3                       26              34        83            \n",
       "4                        9              30       116            \n",
       "\n",
       "    lastCommunicationTime   latitude location  longitude postalCode  \\\n",
       "0  2017-02-16 02:06:44 PM  40.767272          -73.993929              \n",
       "1  2017-02-16 02:06:24 PM  40.719116          -74.006667              \n",
       "2  2017-02-16 02:04:18 PM  40.711174          -74.000165              \n",
       "3  2017-02-16 02:04:25 PM  40.683826          -73.976323              \n",
       "4  2017-02-16 02:06:36 PM  40.741776          -74.001497              \n",
       "\n",
       "                      stAddress1 stAddress2                    stationName  \\\n",
       "0               W 52 St & 11 Ave                          W 52 St & 11 Ave   \n",
       "1       Franklin St & W Broadway                  Franklin St & W Broadway   \n",
       "2         St James Pl & Pearl St                    St James Pl & Pearl St   \n",
       "3  Atlantic Ave & Fort Greene Pl             Atlantic Ave & Fort Greene Pl   \n",
       "4                W 17 St & 8 Ave                           W 17 St & 8 Ave   \n",
       "\n",
       "   statusKey statusValue testStation  totalDocks  \n",
       "0          1  In Service       False          39  \n",
       "1          1  In Service       False          33  \n",
       "2          1  In Service       False          27  \n",
       "3          1  In Service       False          62  \n",
       "4          1  In Service       False          39  "
      ]
     },
     "execution_count": 56,
     "metadata": {},
     "output_type": "execute_result"
    }
   ],
=======
   "execution_count": null,
   "metadata": {
    "collapsed": false
   },
   "outputs": [],
>>>>>>> refs/remotes/uky-transport-data-science/master
   "source": [
    "# convert the relevant part to a geodataframe\n",
    "df = gp.GeoDataFrame(data['stationBeanList'])\n",
    "df.head()"
   ]
  },
  {
   "cell_type": "code",
<<<<<<< HEAD
   "execution_count": 57,
   "metadata": {
    "collapsed": false
   },
   "outputs": [
    {
     "data": {
      "text/plain": [
       "666"
      ]
     },
     "execution_count": 57,
     "metadata": {},
     "output_type": "execute_result"
    }
   ],
=======
   "execution_count": null,
   "metadata": {
    "collapsed": false
   },
   "outputs": [],
>>>>>>> refs/remotes/uky-transport-data-science/master
   "source": [
    "# there is one row for each bike station.  How many stations are there? \n",
    "len(df)"
   ]
  },
  {
   "cell_type": "code",
<<<<<<< HEAD
   "execution_count": 58,
   "metadata": {
    "collapsed": false
   },
   "outputs": [
    {
     "data": {
      "text/plain": [
       "(-74.096936600000006,\n",
       " 40.661063371900603,\n",
       " -73.929891100000006,\n",
       " 40.804212999999997)"
      ]
     },
     "execution_count": 58,
     "metadata": {},
     "output_type": "execute_result"
    }
   ],
=======
   "execution_count": null,
   "metadata": {
    "collapsed": false
   },
   "outputs": [],
>>>>>>> refs/remotes/uky-transport-data-science/master
   "source": [
    "# in the file above, there are lon-lats, but no geometry field\n",
    "# we need to set that up\n",
    "\n",
<<<<<<< HEAD
    "s = gp.GeoSeries([Point(x, y) for x, y in zip(df['longitude'], df['latitude'])])\n",
=======
    "s = GeoSeries([Point(x, y) for x, y in zip(df['longitude'], df['latitude'])])\n",
>>>>>>> refs/remotes/uky-transport-data-science/master
    "df['geometry'] = s\n",
    "df.crs = {'init': 'epsg:4326', 'no_defs': True}\n",
    "df.geometry.total_bounds"
   ]
  },
  {
   "cell_type": "code",
<<<<<<< HEAD
   "execution_count": 59,
   "metadata": {
    "collapsed": false
   },
   "outputs": [
    {
     "data": {
      "text/plain": [
       "(957370.14732175611,\n",
       " 180120.27032614074,\n",
       " 1003695.8507545569,\n",
       " 232275.23054640222)"
      ]
     },
     "execution_count": 59,
     "metadata": {},
     "output_type": "execute_result"
    }
   ],
=======
   "execution_count": null,
   "metadata": {
    "collapsed": false
   },
   "outputs": [],
>>>>>>> refs/remotes/uky-transport-data-science/master
   "source": [
    "# make sure they are on the same CRS.  \n",
    "# checking the bounds is a nice way of seeing this\n",
    "df.to_crs(boros.crs, inplace=True)\n",
    "df.geometry.total_bounds"
   ]
  },
  {
   "cell_type": "code",
<<<<<<< HEAD
   "execution_count": 60,
   "metadata": {
    "collapsed": false
   },
   "outputs": [
    {
     "name": "stdout",
     "output_type": "stream",
     "text": [
      "367 stations in Manhattan\n"
     ]
    }
   ],
=======
   "execution_count": null,
   "metadata": {
    "collapsed": false
   },
   "outputs": [],
>>>>>>> refs/remotes/uky-transport-data-science/master
   "source": [
    "# the geometry objects can do lots of cool stuff.  For example: \n",
    "\n",
    "manhattan = boros.geometry[3]\n",
    "in_mn = df.geometry.within(manhattan)\n",
    "print(sum(in_mn), 'stations in Manhattan')"
   ]
  },
  {
   "cell_type": "markdown",
   "metadata": {},
   "source": [
    "# Your turn\n",
    "\n",
    "You can read about the range of operations available in geopandas here: \n",
    "    \n",
    "http://geopandas.org/index.html\n",
    "\n",
    "Your assignment is to: \n",
    "\n",
    "1. Calculate how many stations are in each borough\n",
    "2. Calculate how many bikes are currently available in each borough\n",
    "3. Read about and try at least two new spatial or geometric operations (beyond what I've covered here). "
   ]
  },
  {
   "cell_type": "code",
<<<<<<< HEAD
   "execution_count": 61,
   "metadata": {
    "collapsed": false
   },
   "outputs": [
    {
     "name": "stdout",
     "output_type": "stream",
     "text": [
      "236 stations in Brooklyn\n",
      "0 stations in Bronx\n",
      "0 stations in Staten Island\n",
      "367 stations in Manhattan\n"
     ]
    }
   ],
   "source": [
    "Brooklyn = boros.geometry[1]\n",
    "in_br = df.geometry.within(Brooklyn)\n",
    "print(sum(in_br),'stations in Brooklyn')\n",
    "\n",
    "Bronx = boros.geometry[4]\n",
    "in_brx = df.geometry.within(Bronx)\n",
    "print(sum(in_brx),'stations in Bronx')\n",
    "\n",
    "staten_island = boros.geometry[0]\n",
    "in_si = df.geometry.within(staten_island)\n",
    "print(sum(in_si),'stations in Staten Island')\n",
    "\n",
    "manhattan = boros.geometry[3]\n",
    "in_mn = df.geometry.within(manhattan)\n",
    "print(sum(in_mn), 'stations in Manhattan')\n"
   ]
  },
  {
   "cell_type": "code",
   "execution_count": 13,
   "metadata": {
    "collapsed": false
   },
   "outputs": [
    {
     "data": {
      "text/html": [
       "<div>\n",
       "<table border=\"1\" class=\"dataframe\">\n",
       "  <thead>\n",
       "    <tr style=\"text-align: right;\">\n",
       "      <th></th>\n",
       "      <th>BoroCode</th>\n",
       "      <th>BoroName</th>\n",
       "      <th>Shape_Area</th>\n",
       "      <th>Shape_Leng</th>\n",
       "      <th>geometry</th>\n",
       "    </tr>\n",
       "  </thead>\n",
       "  <tbody>\n",
       "    <tr>\n",
       "      <th>0</th>\n",
       "      <td>5</td>\n",
       "      <td>Staten Island</td>\n",
       "      <td>1.623827e+09</td>\n",
       "      <td>330466.075042</td>\n",
       "      <td>(POLYGON ((970217.0223999023 145643.3322143555...</td>\n",
       "    </tr>\n",
       "    <tr>\n",
       "      <th>1</th>\n",
       "      <td>3</td>\n",
       "      <td>Brooklyn</td>\n",
       "      <td>1.937597e+09</td>\n",
       "      <td>741185.900596</td>\n",
       "      <td>(POLYGON ((1021176.479003906 151374.7969970703...</td>\n",
       "    </tr>\n",
       "    <tr>\n",
       "      <th>2</th>\n",
       "      <td>4</td>\n",
       "      <td>Queens</td>\n",
       "      <td>3.045168e+09</td>\n",
       "      <td>897040.298576</td>\n",
       "      <td>(POLYGON ((1029606.076599121 156073.8142089844...</td>\n",
       "    </tr>\n",
       "    <tr>\n",
       "      <th>3</th>\n",
       "      <td>1</td>\n",
       "      <td>Manhattan</td>\n",
       "      <td>6.364467e+08</td>\n",
       "      <td>358408.460709</td>\n",
       "      <td>(POLYGON ((981219.0557861328 188655.3157958984...</td>\n",
       "    </tr>\n",
       "    <tr>\n",
       "      <th>4</th>\n",
       "      <td>2</td>\n",
       "      <td>Bronx</td>\n",
       "      <td>1.186973e+09</td>\n",
       "      <td>464400.198868</td>\n",
       "      <td>(POLYGON ((1012821.805786133 229228.2645874023...</td>\n",
       "    </tr>\n",
       "  </tbody>\n",
       "</table>\n",
       "</div>"
      ],
      "text/plain": [
       "   BoroCode       BoroName    Shape_Area     Shape_Leng  \\\n",
       "0         5  Staten Island  1.623827e+09  330466.075042   \n",
       "1         3       Brooklyn  1.937597e+09  741185.900596   \n",
       "2         4         Queens  3.045168e+09  897040.298576   \n",
       "3         1      Manhattan  6.364467e+08  358408.460709   \n",
       "4         2          Bronx  1.186973e+09  464400.198868   \n",
       "\n",
       "                                            geometry  \n",
       "0  (POLYGON ((970217.0223999023 145643.3322143555...  \n",
       "1  (POLYGON ((1021176.479003906 151374.7969970703...  \n",
       "2  (POLYGON ((1029606.076599121 156073.8142089844...  \n",
       "3  (POLYGON ((981219.0557861328 188655.3157958984...  \n",
       "4  (POLYGON ((1012821.805786133 229228.2645874023...  "
      ]
     },
     "execution_count": 13,
     "metadata": {},
     "output_type": "execute_result"
    }
   ],
   "source": [
    "boros.head()"
   ]
  },
  {
   "cell_type": "code",
   "execution_count": 19,
   "metadata": {
    "collapsed": false
   },
   "outputs": [
    {
     "data": {
      "text/html": [
       "<div>\n",
       "<table border=\"1\" class=\"dataframe\">\n",
       "  <thead>\n",
       "    <tr style=\"text-align: right;\">\n",
       "      <th></th>\n",
       "      <th>altitude</th>\n",
       "      <th>availableBikes</th>\n",
       "      <th>availableDocks</th>\n",
       "      <th>city</th>\n",
       "      <th>id</th>\n",
       "      <th>landMark</th>\n",
       "      <th>lastCommunicationTime</th>\n",
       "      <th>latitude</th>\n",
       "      <th>location</th>\n",
       "      <th>longitude</th>\n",
       "      <th>postalCode</th>\n",
       "      <th>stAddress1</th>\n",
       "      <th>stAddress2</th>\n",
       "      <th>stationName</th>\n",
       "      <th>statusKey</th>\n",
       "      <th>statusValue</th>\n",
       "      <th>testStation</th>\n",
       "      <th>totalDocks</th>\n",
       "      <th>geometry</th>\n",
       "    </tr>\n",
       "  </thead>\n",
       "  <tbody>\n",
       "    <tr>\n",
       "      <th>0</th>\n",
       "      <td></td>\n",
       "      <td>13</td>\n",
       "      <td>24</td>\n",
       "      <td></td>\n",
       "      <td>72</td>\n",
       "      <td></td>\n",
       "      <td>2017-02-16 01:31:28 PM</td>\n",
       "      <td>40.767272</td>\n",
       "      <td></td>\n",
       "      <td>-73.993929</td>\n",
       "      <td></td>\n",
       "      <td>W 52 St &amp; 11 Ave</td>\n",
       "      <td></td>\n",
       "      <td>W 52 St &amp; 11 Ave</td>\n",
       "      <td>1</td>\n",
       "      <td>In Service</td>\n",
       "      <td>False</td>\n",
       "      <td>39</td>\n",
       "      <td>POINT (985931.706502895 218814.7571059909)</td>\n",
       "    </tr>\n",
       "    <tr>\n",
       "      <th>1</th>\n",
       "      <td></td>\n",
       "      <td>26</td>\n",
       "      <td>5</td>\n",
       "      <td></td>\n",
       "      <td>79</td>\n",
       "      <td></td>\n",
       "      <td>2017-02-16 01:30:46 PM</td>\n",
       "      <td>40.719116</td>\n",
       "      <td></td>\n",
       "      <td>-74.006667</td>\n",
       "      <td></td>\n",
       "      <td>Franklin St &amp; W Broadway</td>\n",
       "      <td></td>\n",
       "      <td>Franklin St &amp; W Broadway</td>\n",
       "      <td>1</td>\n",
       "      <td>In Service</td>\n",
       "      <td>False</td>\n",
       "      <td>33</td>\n",
       "      <td>POINT (982402.0068864136 201269.770346975)</td>\n",
       "    </tr>\n",
       "    <tr>\n",
       "      <th>2</th>\n",
       "      <td></td>\n",
       "      <td>18</td>\n",
       "      <td>8</td>\n",
       "      <td></td>\n",
       "      <td>82</td>\n",
       "      <td></td>\n",
       "      <td>2017-02-16 01:28:04 PM</td>\n",
       "      <td>40.711174</td>\n",
       "      <td></td>\n",
       "      <td>-74.000165</td>\n",
       "      <td></td>\n",
       "      <td>St James Pl &amp; Pearl St</td>\n",
       "      <td></td>\n",
       "      <td>St James Pl &amp; Pearl St</td>\n",
       "      <td>1</td>\n",
       "      <td>In Service</td>\n",
       "      <td>False</td>\n",
       "      <td>27</td>\n",
       "      <td>POINT (984204.131576321 198376.4207269395)</td>\n",
       "    </tr>\n",
       "    <tr>\n",
       "      <th>3</th>\n",
       "      <td></td>\n",
       "      <td>27</td>\n",
       "      <td>33</td>\n",
       "      <td></td>\n",
       "      <td>83</td>\n",
       "      <td></td>\n",
       "      <td>2017-02-16 01:28:52 PM</td>\n",
       "      <td>40.683826</td>\n",
       "      <td></td>\n",
       "      <td>-73.976323</td>\n",
       "      <td></td>\n",
       "      <td>Atlantic Ave &amp; Fort Greene Pl</td>\n",
       "      <td></td>\n",
       "      <td>Atlantic Ave &amp; Fort Greene Pl</td>\n",
       "      <td>1</td>\n",
       "      <td>In Service</td>\n",
       "      <td>False</td>\n",
       "      <td>62</td>\n",
       "      <td>POINT (990816.693171227 188413.5778061197)</td>\n",
       "    </tr>\n",
       "    <tr>\n",
       "      <th>4</th>\n",
       "      <td></td>\n",
       "      <td>7</td>\n",
       "      <td>32</td>\n",
       "      <td></td>\n",
       "      <td>116</td>\n",
       "      <td></td>\n",
       "      <td>2017-02-16 01:29:34 PM</td>\n",
       "      <td>40.741776</td>\n",
       "      <td></td>\n",
       "      <td>-74.001497</td>\n",
       "      <td></td>\n",
       "      <td>W 17 St &amp; 8 Ave</td>\n",
       "      <td></td>\n",
       "      <td>W 17 St &amp; 8 Ave</td>\n",
       "      <td>1</td>\n",
       "      <td>In Service</td>\n",
       "      <td>False</td>\n",
       "      <td>39</td>\n",
       "      <td>POINT (983835.0432398689 209525.6347344065)</td>\n",
       "    </tr>\n",
       "  </tbody>\n",
       "</table>\n",
       "</div>"
      ],
      "text/plain": [
       "  altitude  availableBikes  availableDocks city   id landMark  \\\n",
       "0                       13              24        72            \n",
       "1                       26               5        79            \n",
       "2                       18               8        82            \n",
       "3                       27              33        83            \n",
       "4                        7              32       116            \n",
       "\n",
       "    lastCommunicationTime   latitude location  longitude postalCode  \\\n",
       "0  2017-02-16 01:31:28 PM  40.767272          -73.993929              \n",
       "1  2017-02-16 01:30:46 PM  40.719116          -74.006667              \n",
       "2  2017-02-16 01:28:04 PM  40.711174          -74.000165              \n",
       "3  2017-02-16 01:28:52 PM  40.683826          -73.976323              \n",
       "4  2017-02-16 01:29:34 PM  40.741776          -74.001497              \n",
       "\n",
       "                      stAddress1 stAddress2                    stationName  \\\n",
       "0               W 52 St & 11 Ave                          W 52 St & 11 Ave   \n",
       "1       Franklin St & W Broadway                  Franklin St & W Broadway   \n",
       "2         St James Pl & Pearl St                    St James Pl & Pearl St   \n",
       "3  Atlantic Ave & Fort Greene Pl             Atlantic Ave & Fort Greene Pl   \n",
       "4                W 17 St & 8 Ave                           W 17 St & 8 Ave   \n",
       "\n",
       "   statusKey statusValue testStation  totalDocks  \\\n",
       "0          1  In Service       False          39   \n",
       "1          1  In Service       False          33   \n",
       "2          1  In Service       False          27   \n",
       "3          1  In Service       False          62   \n",
       "4          1  In Service       False          39   \n",
       "\n",
       "                                      geometry  \n",
       "0   POINT (985931.706502895 218814.7571059909)  \n",
       "1   POINT (982402.0068864136 201269.770346975)  \n",
       "2   POINT (984204.131576321 198376.4207269395)  \n",
       "3   POINT (990816.693171227 188413.5778061197)  \n",
       "4  POINT (983835.0432398689 209525.6347344065)  "
      ]
     },
     "execution_count": 19,
     "metadata": {},
     "output_type": "execute_result"
    }
   ],
   "source": [
    "df.head()"
   ]
  },
  {
   "cell_type": "code",
   "execution_count": 33,
   "metadata": {
    "collapsed": false
   },
   "outputs": [
    {
     "data": {
      "text/plain": [
       "<matplotlib.axes._subplots.AxesSubplot at 0x1e252fe6da0>"
      ]
     },
     "execution_count": 33,
     "metadata": {},
     "output_type": "execute_result"
    },
    {
     "data": {
      "image/png": "iVBORw0KGgoAAAANSUhEUgAAAaMAAAFkCAYAAACNeFT4AAAABHNCSVQICAgIfAhkiAAAAAlwSFlz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\nB0BD88IgJYOkAAAAAElFTkSuQmCC\n",
      "text/plain": [
       "<matplotlib.figure.Figure at 0x1e253a485f8>"
      ]
     },
     "metadata": {},
     "output_type": "display_data"
    }
   ],
   "source": [
    "df.plot()"
   ]
  },
  {
   "cell_type": "code",
   "execution_count": 35,
   "metadata": {
    "collapsed": false
   },
   "outputs": [
    {
     "data": {
      "text/plain": [
       "<matplotlib.axes._subplots.AxesSubplot at 0x1e25556d278>"
      ]
     },
     "execution_count": 35,
     "metadata": {},
     "output_type": "execute_result"
    },
    {
     "data": {
      "image/png": "iVBORw0KGgoAAAANSUhEUgAAAcoAAAFkCAYAAACgintCAAAABHNCSVQICAgIfAhkiAAAAAlwSFlz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\nSUVORK5CYII=\n",
      "text/plain": [
       "<matplotlib.figure.Figure at 0x1e2555406d8>"
      ]
     },
     "metadata": {},
     "output_type": "display_data"
    }
   ],
   "source": [
    "boros.plot(ax = df.plot())"
   ]
  },
  {
   "cell_type": "code",
   "execution_count": 44,
   "metadata": {
    "collapsed": false
   },
   "outputs": [
    {
     "data": {
      "text/html": [
       "<div>\n",
       "<table border=\"1\" class=\"dataframe\">\n",
       "  <thead>\n",
       "    <tr style=\"text-align: right;\">\n",
       "      <th></th>\n",
       "      <th>altitude</th>\n",
       "      <th>availableBikes</th>\n",
       "      <th>availableDocks</th>\n",
       "      <th>city</th>\n",
       "      <th>id</th>\n",
       "      <th>landMark</th>\n",
       "      <th>lastCommunicationTime</th>\n",
       "      <th>latitude</th>\n",
       "      <th>location</th>\n",
       "      <th>longitude</th>\n",
       "      <th>postalCode</th>\n",
       "      <th>stAddress1</th>\n",
       "      <th>stAddress2</th>\n",
       "      <th>stationName</th>\n",
       "      <th>statusKey</th>\n",
       "      <th>statusValue</th>\n",
       "      <th>testStation</th>\n",
       "      <th>totalDocks</th>\n",
       "    </tr>\n",
       "  </thead>\n",
       "  <tbody>\n",
       "    <tr>\n",
       "      <th>0</th>\n",
       "      <td></td>\n",
       "      <td>13</td>\n",
       "      <td>24</td>\n",
       "      <td></td>\n",
       "      <td>72</td>\n",
       "      <td></td>\n",
       "      <td>2017-02-16 01:31:28 PM</td>\n",
       "      <td>40.767272</td>\n",
       "      <td></td>\n",
       "      <td>-73.993929</td>\n",
       "      <td></td>\n",
       "      <td>W 52 St &amp; 11 Ave</td>\n",
       "      <td></td>\n",
       "      <td>W 52 St &amp; 11 Ave</td>\n",
       "      <td>1</td>\n",
       "      <td>In Service</td>\n",
       "      <td>False</td>\n",
       "      <td>39</td>\n",
       "    </tr>\n",
       "    <tr>\n",
       "      <th>1</th>\n",
       "      <td></td>\n",
       "      <td>26</td>\n",
       "      <td>5</td>\n",
       "      <td></td>\n",
       "      <td>79</td>\n",
       "      <td></td>\n",
       "      <td>2017-02-16 01:30:46 PM</td>\n",
       "      <td>40.719116</td>\n",
       "      <td></td>\n",
       "      <td>-74.006667</td>\n",
       "      <td></td>\n",
       "      <td>Franklin St &amp; W Broadway</td>\n",
       "      <td></td>\n",
       "      <td>Franklin St &amp; W Broadway</td>\n",
       "      <td>1</td>\n",
       "      <td>In Service</td>\n",
       "      <td>False</td>\n",
       "      <td>33</td>\n",
       "    </tr>\n",
       "    <tr>\n",
       "      <th>2</th>\n",
       "      <td></td>\n",
       "      <td>18</td>\n",
       "      <td>8</td>\n",
       "      <td></td>\n",
       "      <td>82</td>\n",
       "      <td></td>\n",
       "      <td>2017-02-16 01:28:04 PM</td>\n",
       "      <td>40.711174</td>\n",
       "      <td></td>\n",
       "      <td>-74.000165</td>\n",
       "      <td></td>\n",
       "      <td>St James Pl &amp; Pearl St</td>\n",
       "      <td></td>\n",
       "      <td>St James Pl &amp; Pearl St</td>\n",
       "      <td>1</td>\n",
       "      <td>In Service</td>\n",
       "      <td>False</td>\n",
       "      <td>27</td>\n",
       "    </tr>\n",
       "    <tr>\n",
       "      <th>3</th>\n",
       "      <td></td>\n",
       "      <td>27</td>\n",
       "      <td>33</td>\n",
       "      <td></td>\n",
       "      <td>83</td>\n",
       "      <td></td>\n",
       "      <td>2017-02-16 01:28:52 PM</td>\n",
       "      <td>40.683826</td>\n",
       "      <td></td>\n",
       "      <td>-73.976323</td>\n",
       "      <td></td>\n",
       "      <td>Atlantic Ave &amp; Fort Greene Pl</td>\n",
       "      <td></td>\n",
       "      <td>Atlantic Ave &amp; Fort Greene Pl</td>\n",
       "      <td>1</td>\n",
       "      <td>In Service</td>\n",
       "      <td>False</td>\n",
       "      <td>62</td>\n",
       "    </tr>\n",
       "    <tr>\n",
       "      <th>4</th>\n",
       "      <td></td>\n",
       "      <td>7</td>\n",
       "      <td>32</td>\n",
       "      <td></td>\n",
       "      <td>116</td>\n",
       "      <td></td>\n",
       "      <td>2017-02-16 01:29:34 PM</td>\n",
       "      <td>40.741776</td>\n",
       "      <td></td>\n",
       "      <td>-74.001497</td>\n",
       "      <td></td>\n",
       "      <td>W 17 St &amp; 8 Ave</td>\n",
       "      <td></td>\n",
       "      <td>W 17 St &amp; 8 Ave</td>\n",
       "      <td>1</td>\n",
       "      <td>In Service</td>\n",
       "      <td>False</td>\n",
       "      <td>39</td>\n",
       "    </tr>\n",
       "  </tbody>\n",
       "</table>\n",
       "</div>"
      ],
      "text/plain": [
       "  altitude  availableBikes  availableDocks city   id landMark  \\\n",
       "0                       13              24        72            \n",
       "1                       26               5        79            \n",
       "2                       18               8        82            \n",
       "3                       27              33        83            \n",
       "4                        7              32       116            \n",
       "\n",
       "    lastCommunicationTime   latitude location  longitude postalCode  \\\n",
       "0  2017-02-16 01:31:28 PM  40.767272          -73.993929              \n",
       "1  2017-02-16 01:30:46 PM  40.719116          -74.006667              \n",
       "2  2017-02-16 01:28:04 PM  40.711174          -74.000165              \n",
       "3  2017-02-16 01:28:52 PM  40.683826          -73.976323              \n",
       "4  2017-02-16 01:29:34 PM  40.741776          -74.001497              \n",
       "\n",
       "                      stAddress1 stAddress2                    stationName  \\\n",
       "0               W 52 St & 11 Ave                          W 52 St & 11 Ave   \n",
       "1       Franklin St & W Broadway                  Franklin St & W Broadway   \n",
       "2         St James Pl & Pearl St                    St James Pl & Pearl St   \n",
       "3  Atlantic Ave & Fort Greene Pl             Atlantic Ave & Fort Greene Pl   \n",
       "4                W 17 St & 8 Ave                           W 17 St & 8 Ave   \n",
       "\n",
       "   statusKey statusValue testStation  totalDocks  \n",
       "0          1  In Service       False          39  \n",
       "1          1  In Service       False          33  \n",
       "2          1  In Service       False          27  \n",
       "3          1  In Service       False          62  \n",
       "4          1  In Service       False          39  "
      ]
     },
     "execution_count": 44,
     "metadata": {},
     "output_type": "execute_result"
    }
   ],
   "source": [
    "df.head()"
   ]
  },
  {
   "cell_type": "code",
   "execution_count": 37,
   "metadata": {
    "collapsed": false
   },
   "outputs": [
    {
     "data": {
      "text/plain": [
       "array(['In Service', 'Not In Service'], dtype=object)"
      ]
     },
     "execution_count": 37,
     "metadata": {},
     "output_type": "execute_result"
    }
   ],
   "source": [
    "df.statusValue.unique()"
   ]
  },
  {
   "cell_type": "code",
   "execution_count": 39,
   "metadata": {
    "collapsed": true
   },
   "outputs": [],
   "source": [
    "df2 = df[df['statusValue'] == 'Not In Service']"
   ]
  },
  {
   "cell_type": "code",
   "execution_count": 74,
   "metadata": {
    "collapsed": false
   },
   "outputs": [
    {
     "name": "stdout",
     "output_type": "stream",
     "text": [
      "2172 available bikes in Brooklyn\n",
      "0 available bikes in Bronx\n",
      "0 available bikes in Staten Island\n",
      "4368 available bikes in Manhattan\n"
     ]
    }
   ],
   "source": [
    "Brooklyn = boros.geometry[1]\n",
    "in_br = (df.geometry.within(Brooklyn))\n",
    "df['within_br'] = in_br\n",
    "df2 = df[df['within_br'] == True]\n",
    "print(sum(df2.availableBikes),'available bikes in Brooklyn')\n",
    "\n",
    "Bronx = boros.geometry[4]\n",
    "in_brx = df.geometry.within(Bronx)\n",
    "df['within_brx'] = in_brx\n",
    "df2 = df[df['within_brx'] == True]\n",
    "print(sum(df2.availableBikes),'available bikes in Bronx')\n",
    "\n",
    "staten_island = boros.geometry[0]\n",
    "in_si = df.geometry.within(staten_island)\n",
    "df['within_si'] = in_si\n",
    "df2 = df[df['within_si'] == True]\n",
    "print(sum(df2.availableBikes),'available bikes in Staten Island')\n",
    "\n",
    "manhattan = boros.geometry[3]\n",
    "in_mn = df.geometry.within(manhattan)\n",
    "df['within_mn'] = in_mn\n",
    "df2 = df[df['within_mn'] == True]\n",
    "print(sum(df2.availableBikes), 'available bikes in Manhattan')"
   ]
  },
  {
   "cell_type": "code",
   "execution_count": 46,
   "metadata": {
    "collapsed": true
   },
   "outputs": [],
   "source": []
  },
  {
   "cell_type": "code",
=======
>>>>>>> refs/remotes/uky-transport-data-science/master
   "execution_count": null,
   "metadata": {
    "collapsed": true
   },
   "outputs": [],
   "source": []
  }
 ],
 "metadata": {
  "anaconda-cloud": {},
  "kernelspec": {
   "display_name": "Python [default]",
   "language": "python",
   "name": "python3"
  },
  "language_info": {
   "codemirror_mode": {
    "name": "ipython",
    "version": 3
   },
   "file_extension": ".py",
   "mimetype": "text/x-python",
   "name": "python",
   "nbconvert_exporter": "python",
   "pygments_lexer": "ipython3",
   "version": "3.5.2"
  }
 },
 "nbformat": 4,
 "nbformat_minor": 0
}
