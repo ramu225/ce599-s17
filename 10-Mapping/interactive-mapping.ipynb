{
 "cells": [
  {
   "cell_type": "markdown",
   "metadata": {},
   "source": [
    "# Mapping \n",
    "\n",
    "Transportation is about getting from place A to place B.  Therefore, most transportation data has a spatial component to it.  It is nice to be able to put these data on a map and see what is going on.  It is even better if we can put it on a map and interact with the data.  It would be even cooler if we could put our interactive map on a website to show it off!\n",
    "\n",
    "To do this, we are going to use a package called folium.  You can find the documentation here: \n",
    "\n",
    "https://folium.readthedocs.io/en/latest/\n",
    "\n",
    "And access it on github here: \n",
    "\n",
    "https://github.com/python-visualization/folium\n"
   ]
  },
  {
   "cell_type": "markdown",
   "metadata": {},
   "source": [
    "### Credits\n",
    "\n",
    "This lesson draws from the folium quickstart notebook, and from Vik Paruchuri DataQuest lesson: \n",
    "\n",
    "https://www.dataquest.io/blog/python-data-visualization-libraries/"
   ]
  },
  {
   "cell_type": "markdown",
   "metadata": {},
   "source": [
    "### A side note on static mapping\n",
    "\n",
    "Sometimes you may want to create a static map instead of an interactive map.  Interactive maps are nice for exploring your data, but static maps work well for an image that you can insert into a paper.  If you want to create static maps, then basemap is a good tool.  Here is a nice lesson focused on mapping earthquake activity: \n",
    "\n",
    "http://introtopython.org/visualization_earthquakes.html\n",
    "\n"
   ]
  },
  {
   "cell_type": "markdown",
   "metadata": {},
   "source": [
    "### OK, back to interactive mapping, because that's fun...\n",
    "\n",
    "It turns out that folium doesn't do much itself.  It is just a wrapper around something called leafletjs.  You can read more about that here:\n",
    "\n",
    "http://leafletjs.com/index.html\n",
    "\n",
    "Leaflet is a library in the JavaScript language.  JavaScript is the language used for most web applications.  We could do the same thing using JavaScript and leaflet directly, but then we would have to learn the syntax for another language.  That might not be too hard, but to keep it simple, we'll stick to the python wrapper for now.  It is good to be aware of, though, because if you want more options than folium allows, you can go directly to leaflet.  \n",
    "\n",
    "What makes this possible is the fact that leaflet has a well-defined API.  That means that we can pass data back and forth, even from a different language.  \n"
   ]
  },
  {
   "cell_type": "markdown",
   "metadata": {},
   "source": [
    "### Setup\n",
    "\n",
    "Start by installing folium using pip.  At a command prompt, type: \n",
    "\n",
    "    pip install folium\n",
    "\n",
    "Hmm...when I tried this on my desktop, I get an error that says: \n",
    "\n",
    "    PermissionError: [WinError 5] Access is denied: 'c:\\\\program files\\\\anaconda3\\\\Lib\\\\site-packages\\\\folium'\n",
    "    \n",
    "It seems that it is trying to install something in the program files directory, which Windows has protected.  This will depend on the security settings on your machine.  If you get this error, open a command prompt as an administrator.  In the windows search bar, type cmd.  When you see the command prompt, right click, and select run as administrator.  \n",
    "\n",
    "This did the trick, and now I get: \n",
    "\n",
    "    Successfully installed folium-0.2.1\n",
    "    \n",
    "In addition, let's go to github and clone the folium repository (https://github.com/python-visualization/folium) to our desktop.  This gives us the source code on our local machine.  What we're really interested in is the examples folder, which gives us a bunch of jupyter notebooks showing how to do different stuff.  You are welcome to explore these as needed. \n",
    "\n",
    "You also need to install geopandas, which will make it easier to work with goegraphic data.  The pip installer doesn't work (the long explanation is here: http://geoffboeing.com/2014/09/using-geopandas-windows/), so we'll install using anaconda.  Type: \n",
    "\n",
    "    conda install -c conda-forge geopandas\n",
    " "
   ]
  },
  {
   "cell_type": "markdown",
   "metadata": {
    "collapsed": true
   },
   "source": [
    "\n",
    "Getting Started\n",
    "---------------\n",
    "\n",
    "To create a base map, simply pass your starting coordinates to Folium:"
   ]
  },
  {
   "cell_type": "code",
   "execution_count": 4,
   "metadata": {
    "collapsed": false
   },
   "outputs": [],
   "source": [
    "import folium"
   ]
  },
  {
   "cell_type": "code",
   "execution_count": 3,
   "metadata": {
    "collapsed": false
   },
   "outputs": [],
   "source": [
    "m = folium.Map(location=[38.034,-84.500])"
   ]
  },
  {
   "cell_type": "markdown",
   "metadata": {
    "collapsed": true
   },
   "source": [
    "to display it in your notebook, just ask for the object representation. "
   ]
  },
  {
   "cell_type": "code",
   "execution_count": 23,
   "metadata": {
    "collapsed": false
   },
   "outputs": [
    {
     "data": {
      "text/html": [
       "<div style=\"width:100%;\"><div style=\"position:relative;width:100%;height:0;padding-bottom:60%;\"><iframe src=\"data:text/html;base64,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\" style=\"position:absolute;width:100%;height:100%;left:0;top:0;\"></iframe></div></div>"
      ],
      "text/plain": [
       "<folium.folium.Map at 0x255cb65a5c0>"
      ]
     },
     "execution_count": 23,
     "metadata": {},
     "output_type": "execute_result"
    }
   ],
   "source": [
    "m"
   ]
  },
  {
   "cell_type": "markdown",
   "metadata": {},
   "source": [
    "To save it in a file"
   ]
  },
  {
   "cell_type": "code",
   "execution_count": 24,
   "metadata": {
    "collapsed": true
   },
   "outputs": [],
   "source": [
    "m.save('lex.html')"
   ]
  },
  {
   "cell_type": "markdown",
   "metadata": {},
   "source": [
    "We can use different backgrounds, or tilesets.  Several are built in.  Options include Stamen Terrain, Stamen Toner, Mapbox Bright, and Mapbox Control room tiles. "
   ]
  },
  {
   "cell_type": "code",
   "execution_count": 25,
   "metadata": {
    "collapsed": false
   },
   "outputs": [
    {
     "data": {
      "text/html": [
       "<div style=\"width:100%;\"><div style=\"position:relative;width:100%;height:0;padding-bottom:60%;\"><iframe src=\"data:text/html;base64,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\" style=\"position:absolute;width:100%;height:100%;left:0;top:0;\"></iframe></div></div>"
      ],
      "text/plain": [
       "<folium.folium.Map at 0x255cb65e208>"
      ]
     },
     "execution_count": 25,
     "metadata": {},
     "output_type": "execute_result"
    }
   ],
   "source": [
    "folium.Map(\n",
    "    location=[38.034,-84.500],\n",
    "    tiles='Stamen Toner',\n",
    "    zoom_start=13\n",
    ")"
   ]
  },
  {
   "cell_type": "markdown",
   "metadata": {},
   "source": [
    "Pick one you like and work with that for the rest of the class.  "
   ]
  },
  {
   "cell_type": "markdown",
   "metadata": {
    "collapsed": true
   },
   "source": [
    "Folium also supports Cloudmade and Mapbox custom tilesets- simply pass your key to the API_key keyword.  These are services where you can buy more backgrounds to make your maps look nice. \n",
    "\n",
    "```python\n",
    "folium.Map(location=[45.5236, -122.6750],\n",
    "           tiles='Mapbox',\n",
    "           API_key='your.API.key')\n",
    "```"
   ]
  },
  {
   "cell_type": "markdown",
   "metadata": {},
   "source": [
    "### Open flights\n",
    "\n",
    "Let's go back to our openflight data and make some maps. "
   ]
  },
  {
   "cell_type": "code",
   "execution_count": 1,
   "metadata": {
    "collapsed": true
   },
   "outputs": [],
   "source": [
    "import pandas as pd\n",
    "import numpy as np"
   ]
  },
  {
   "cell_type": "code",
   "execution_count": 2,
   "metadata": {
    "collapsed": false
   },
   "outputs": [],
   "source": [
    "# These files use \\N as a missing value indicator.  When reading the CSVs, we will tell\n",
    "# it to use that value as missing or NA.  The double backslash is required because\n",
    "# otherwise it will interpret \\N as a carriage return. \n",
    "\n",
    "# Read in the airports data.\n",
    "airports = pd.read_csv(\"data/airports.dat\", header=None, na_values='\\\\N')\n",
    "airports.columns = [\"id\", \"name\", \"city\", \"country\", \"iata\", \"icao\", \"latitude\", \"longitude\", \"altitude\",\"timezone\", \"dst\", \"tz\", \"type\", \"source\"]\n",
    "\n",
    "# Read in the airlines data.\n",
    "airlines = pd.read_csv(\"data/airlines.dat\", header=None, na_values='\\\\N')\n",
    "airlines.columns = [\"id\", \"name\", \"alias\", \"iata\", \"icao\", \"callsign\", \"country\", \"active\"]\n",
    "\n",
    "# Read in the routes data.\n",
    "routes = pd.read_csv(\"data/routes.dat\", header=None, na_values='\\\\N')\n",
    "routes.columns = [\"airline\", \"airline_id\", \"source\", \"source_id\", \"dest\", \"dest_id\", \"codeshare\", \"stops\", \"equipment\"]"
   ]
  },
  {
   "cell_type": "code",
   "execution_count": 28,
   "metadata": {
    "collapsed": false
   },
   "outputs": [
    {
     "data": {
      "text/html": [
       "<div>\n",
       "<table border=\"1\" class=\"dataframe\">\n",
       "  <thead>\n",
       "    <tr style=\"text-align: right;\">\n",
       "      <th></th>\n",
       "      <th>id</th>\n",
       "      <th>name</th>\n",
       "      <th>city</th>\n",
       "      <th>country</th>\n",
       "      <th>iata</th>\n",
       "      <th>icao</th>\n",
       "      <th>latitude</th>\n",
       "      <th>longitude</th>\n",
       "      <th>altitude</th>\n",
       "      <th>timezone</th>\n",
       "      <th>dst</th>\n",
       "      <th>tz</th>\n",
       "      <th>type</th>\n",
       "      <th>source</th>\n",
       "    </tr>\n",
       "  </thead>\n",
       "  <tbody>\n",
       "    <tr>\n",
       "      <th>0</th>\n",
       "      <td>1</td>\n",
       "      <td>Goroka Airport</td>\n",
       "      <td>Goroka</td>\n",
       "      <td>Papua New Guinea</td>\n",
       "      <td>GKA</td>\n",
       "      <td>AYGA</td>\n",
       "      <td>-6.081690</td>\n",
       "      <td>145.391998</td>\n",
       "      <td>5282</td>\n",
       "      <td>10.0</td>\n",
       "      <td>U</td>\n",
       "      <td>Pacific/Port_Moresby</td>\n",
       "      <td>airport</td>\n",
       "      <td>OurAirports</td>\n",
       "    </tr>\n",
       "    <tr>\n",
       "      <th>1</th>\n",
       "      <td>2</td>\n",
       "      <td>Madang Airport</td>\n",
       "      <td>Madang</td>\n",
       "      <td>Papua New Guinea</td>\n",
       "      <td>MAG</td>\n",
       "      <td>AYMD</td>\n",
       "      <td>-5.207080</td>\n",
       "      <td>145.789001</td>\n",
       "      <td>20</td>\n",
       "      <td>10.0</td>\n",
       "      <td>U</td>\n",
       "      <td>Pacific/Port_Moresby</td>\n",
       "      <td>airport</td>\n",
       "      <td>OurAirports</td>\n",
       "    </tr>\n",
       "    <tr>\n",
       "      <th>2</th>\n",
       "      <td>3</td>\n",
       "      <td>Mount Hagen Kagamuga Airport</td>\n",
       "      <td>Mount Hagen</td>\n",
       "      <td>Papua New Guinea</td>\n",
       "      <td>HGU</td>\n",
       "      <td>AYMH</td>\n",
       "      <td>-5.826790</td>\n",
       "      <td>144.296005</td>\n",
       "      <td>5388</td>\n",
       "      <td>10.0</td>\n",
       "      <td>U</td>\n",
       "      <td>Pacific/Port_Moresby</td>\n",
       "      <td>airport</td>\n",
       "      <td>OurAirports</td>\n",
       "    </tr>\n",
       "    <tr>\n",
       "      <th>3</th>\n",
       "      <td>4</td>\n",
       "      <td>Nadzab Airport</td>\n",
       "      <td>Nadzab</td>\n",
       "      <td>Papua New Guinea</td>\n",
       "      <td>LAE</td>\n",
       "      <td>AYNZ</td>\n",
       "      <td>-6.569803</td>\n",
       "      <td>146.725977</td>\n",
       "      <td>239</td>\n",
       "      <td>10.0</td>\n",
       "      <td>U</td>\n",
       "      <td>Pacific/Port_Moresby</td>\n",
       "      <td>airport</td>\n",
       "      <td>OurAirports</td>\n",
       "    </tr>\n",
       "    <tr>\n",
       "      <th>4</th>\n",
       "      <td>5</td>\n",
       "      <td>Port Moresby Jacksons International Airport</td>\n",
       "      <td>Port Moresby</td>\n",
       "      <td>Papua New Guinea</td>\n",
       "      <td>POM</td>\n",
       "      <td>AYPY</td>\n",
       "      <td>-9.443380</td>\n",
       "      <td>147.220001</td>\n",
       "      <td>146</td>\n",
       "      <td>10.0</td>\n",
       "      <td>U</td>\n",
       "      <td>Pacific/Port_Moresby</td>\n",
       "      <td>airport</td>\n",
       "      <td>OurAirports</td>\n",
       "    </tr>\n",
       "  </tbody>\n",
       "</table>\n",
       "</div>"
      ],
      "text/plain": [
       "   id                                         name          city  \\\n",
       "0   1                               Goroka Airport        Goroka   \n",
       "1   2                               Madang Airport        Madang   \n",
       "2   3                 Mount Hagen Kagamuga Airport   Mount Hagen   \n",
       "3   4                               Nadzab Airport        Nadzab   \n",
       "4   5  Port Moresby Jacksons International Airport  Port Moresby   \n",
       "\n",
       "            country iata  icao  latitude   longitude  altitude  timezone dst  \\\n",
       "0  Papua New Guinea  GKA  AYGA -6.081690  145.391998      5282      10.0   U   \n",
       "1  Papua New Guinea  MAG  AYMD -5.207080  145.789001        20      10.0   U   \n",
       "2  Papua New Guinea  HGU  AYMH -5.826790  144.296005      5388      10.0   U   \n",
       "3  Papua New Guinea  LAE  AYNZ -6.569803  146.725977       239      10.0   U   \n",
       "4  Papua New Guinea  POM  AYPY -9.443380  147.220001       146      10.0   U   \n",
       "\n",
       "                     tz     type       source  \n",
       "0  Pacific/Port_Moresby  airport  OurAirports  \n",
       "1  Pacific/Port_Moresby  airport  OurAirports  \n",
       "2  Pacific/Port_Moresby  airport  OurAirports  \n",
       "3  Pacific/Port_Moresby  airport  OurAirports  \n",
       "4  Pacific/Port_Moresby  airport  OurAirports  "
      ]
     },
     "execution_count": 28,
     "metadata": {},
     "output_type": "execute_result"
    }
   ],
   "source": [
    "# let's peek at what we have\n",
    "airports.head()"
   ]
  },
  {
   "cell_type": "code",
   "execution_count": 29,
   "metadata": {
    "collapsed": false
   },
   "outputs": [
    {
     "data": {
      "text/html": [
       "<div>\n",
       "<table border=\"1\" class=\"dataframe\">\n",
       "  <thead>\n",
       "    <tr style=\"text-align: right;\">\n",
       "      <th></th>\n",
       "      <th>id</th>\n",
       "      <th>name</th>\n",
       "      <th>alias</th>\n",
       "      <th>iata</th>\n",
       "      <th>icao</th>\n",
       "      <th>callsign</th>\n",
       "      <th>country</th>\n",
       "      <th>active</th>\n",
       "    </tr>\n",
       "  </thead>\n",
       "  <tbody>\n",
       "    <tr>\n",
       "      <th>0</th>\n",
       "      <td>-1</td>\n",
       "      <td>Unknown</td>\n",
       "      <td>NaN</td>\n",
       "      <td>-</td>\n",
       "      <td>NaN</td>\n",
       "      <td>NaN</td>\n",
       "      <td>NaN</td>\n",
       "      <td>Y</td>\n",
       "    </tr>\n",
       "    <tr>\n",
       "      <th>1</th>\n",
       "      <td>1</td>\n",
       "      <td>Private flight</td>\n",
       "      <td>NaN</td>\n",
       "      <td>-</td>\n",
       "      <td>NaN</td>\n",
       "      <td>NaN</td>\n",
       "      <td>NaN</td>\n",
       "      <td>Y</td>\n",
       "    </tr>\n",
       "    <tr>\n",
       "      <th>2</th>\n",
       "      <td>2</td>\n",
       "      <td>135 Airways</td>\n",
       "      <td>NaN</td>\n",
       "      <td>NaN</td>\n",
       "      <td>GNL</td>\n",
       "      <td>GENERAL</td>\n",
       "      <td>United States</td>\n",
       "      <td>N</td>\n",
       "    </tr>\n",
       "    <tr>\n",
       "      <th>3</th>\n",
       "      <td>3</td>\n",
       "      <td>1Time Airline</td>\n",
       "      <td>NaN</td>\n",
       "      <td>1T</td>\n",
       "      <td>RNX</td>\n",
       "      <td>NEXTIME</td>\n",
       "      <td>South Africa</td>\n",
       "      <td>Y</td>\n",
       "    </tr>\n",
       "    <tr>\n",
       "      <th>4</th>\n",
       "      <td>4</td>\n",
       "      <td>2 Sqn No 1 Elementary Flying Training School</td>\n",
       "      <td>NaN</td>\n",
       "      <td>NaN</td>\n",
       "      <td>WYT</td>\n",
       "      <td>NaN</td>\n",
       "      <td>United Kingdom</td>\n",
       "      <td>N</td>\n",
       "    </tr>\n",
       "  </tbody>\n",
       "</table>\n",
       "</div>"
      ],
      "text/plain": [
       "   id                                          name alias iata icao callsign  \\\n",
       "0  -1                                       Unknown   NaN    -  NaN      NaN   \n",
       "1   1                                Private flight   NaN    -  NaN      NaN   \n",
       "2   2                                   135 Airways   NaN  NaN  GNL  GENERAL   \n",
       "3   3                                 1Time Airline   NaN   1T  RNX  NEXTIME   \n",
       "4   4  2 Sqn No 1 Elementary Flying Training School   NaN  NaN  WYT      NaN   \n",
       "\n",
       "          country active  \n",
       "0             NaN      Y  \n",
       "1             NaN      Y  \n",
       "2   United States      N  \n",
       "3    South Africa      Y  \n",
       "4  United Kingdom      N  "
      ]
     },
     "execution_count": 29,
     "metadata": {},
     "output_type": "execute_result"
    }
   ],
   "source": [
    "airlines.head()"
   ]
  },
  {
   "cell_type": "code",
   "execution_count": 30,
   "metadata": {
    "collapsed": false
   },
   "outputs": [
    {
     "data": {
      "text/html": [
       "<div>\n",
       "<table border=\"1\" class=\"dataframe\">\n",
       "  <thead>\n",
       "    <tr style=\"text-align: right;\">\n",
       "      <th></th>\n",
       "      <th>airline</th>\n",
       "      <th>airline_id</th>\n",
       "      <th>source</th>\n",
       "      <th>source_id</th>\n",
       "      <th>dest</th>\n",
       "      <th>dest_id</th>\n",
       "      <th>codeshare</th>\n",
       "      <th>stops</th>\n",
       "      <th>equipment</th>\n",
       "    </tr>\n",
       "  </thead>\n",
       "  <tbody>\n",
       "    <tr>\n",
       "      <th>0</th>\n",
       "      <td>2B</td>\n",
       "      <td>410.0</td>\n",
       "      <td>AER</td>\n",
       "      <td>2965.0</td>\n",
       "      <td>KZN</td>\n",
       "      <td>2990.0</td>\n",
       "      <td>NaN</td>\n",
       "      <td>0</td>\n",
       "      <td>CR2</td>\n",
       "    </tr>\n",
       "    <tr>\n",
       "      <th>1</th>\n",
       "      <td>2B</td>\n",
       "      <td>410.0</td>\n",
       "      <td>ASF</td>\n",
       "      <td>2966.0</td>\n",
       "      <td>KZN</td>\n",
       "      <td>2990.0</td>\n",
       "      <td>NaN</td>\n",
       "      <td>0</td>\n",
       "      <td>CR2</td>\n",
       "    </tr>\n",
       "    <tr>\n",
       "      <th>2</th>\n",
       "      <td>2B</td>\n",
       "      <td>410.0</td>\n",
       "      <td>ASF</td>\n",
       "      <td>2966.0</td>\n",
       "      <td>MRV</td>\n",
       "      <td>2962.0</td>\n",
       "      <td>NaN</td>\n",
       "      <td>0</td>\n",
       "      <td>CR2</td>\n",
       "    </tr>\n",
       "    <tr>\n",
       "      <th>3</th>\n",
       "      <td>2B</td>\n",
       "      <td>410.0</td>\n",
       "      <td>CEK</td>\n",
       "      <td>2968.0</td>\n",
       "      <td>KZN</td>\n",
       "      <td>2990.0</td>\n",
       "      <td>NaN</td>\n",
       "      <td>0</td>\n",
       "      <td>CR2</td>\n",
       "    </tr>\n",
       "    <tr>\n",
       "      <th>4</th>\n",
       "      <td>2B</td>\n",
       "      <td>410.0</td>\n",
       "      <td>CEK</td>\n",
       "      <td>2968.0</td>\n",
       "      <td>OVB</td>\n",
       "      <td>4078.0</td>\n",
       "      <td>NaN</td>\n",
       "      <td>0</td>\n",
       "      <td>CR2</td>\n",
       "    </tr>\n",
       "  </tbody>\n",
       "</table>\n",
       "</div>"
      ],
      "text/plain": [
       "  airline  airline_id source  source_id dest  dest_id codeshare  stops  \\\n",
       "0      2B       410.0    AER     2965.0  KZN   2990.0       NaN      0   \n",
       "1      2B       410.0    ASF     2966.0  KZN   2990.0       NaN      0   \n",
       "2      2B       410.0    ASF     2966.0  MRV   2962.0       NaN      0   \n",
       "3      2B       410.0    CEK     2968.0  KZN   2990.0       NaN      0   \n",
       "4      2B       410.0    CEK     2968.0  OVB   4078.0       NaN      0   \n",
       "\n",
       "  equipment  \n",
       "0       CR2  \n",
       "1       CR2  \n",
       "2       CR2  \n",
       "3       CR2  \n",
       "4       CR2  "
      ]
     },
     "execution_count": 30,
     "metadata": {},
     "output_type": "execute_result"
    }
   ],
   "source": [
    "routes.head()"
   ]
  },
  {
   "cell_type": "markdown",
   "metadata": {},
   "source": [
    "Make a worldwide map with the airports on it."
   ]
  },
  {
   "cell_type": "code",
   "execution_count": 5,
   "metadata": {
    "collapsed": false
   },
   "outputs": [],
   "source": [
    "# Get a basic world map.\n",
    "# 30 centers the map E-W, and 0 is the equator\n",
    "airports_map = folium.Map(location=[30, 0], zoom_start=2)\n",
    "\n",
    "# Loop through the airports, and draw each one as a marker on the map\n",
    "# popup tells it what to display when you click on it\n",
    "for name, row in airports.iterrows():\n",
    "    \n",
    "    # For some reason, this one airport causes issues with the map.\n",
    "    if row[\"name\"] != \"South Pole Station\":\n",
    "        marker = folium.Marker([row[\"latitude\"], row[\"longitude\"]], popup=row['name'])\n",
    "        marker.add_to(airports_map)\n",
    "        \n",
    "# Save it to a file (it's kinda big for the notebook)\n",
    "airports_map.save('airports.html')"
   ]
  },
  {
   "cell_type": "code",
   "execution_count": 7,
   "metadata": {
    "collapsed": false
   },
   "outputs": [],
   "source": [
    "folium.MarkerCluster?"
   ]
  },
  {
   "cell_type": "markdown",
   "metadata": {},
   "source": [
    "Hmm...it looks like there are airports everywhere!  Let's try again with smaller makers. \n",
    "\n",
    "We can also specify the color.  A list of custom colors is available here: \n",
    "\n",
    "http://www.w3schools.com/cssref/css_colors.asp"
   ]
  },
  {
   "cell_type": "code",
   "execution_count": 35,
   "metadata": {
    "collapsed": false
   },
   "outputs": [],
   "source": [
    "# over-write the airports_map, rather than just adding more markers to it. \n",
    "airports_map = folium.Map(location=[30, 0], zoom_start=2)\n",
    "\n",
    "# use circle markers this time, with custom size and color\n",
    "for name, row in airports.iterrows():\n",
    "        \n",
    "    # For some reason, this one airport causes issues with the map.\n",
    "    if row[\"name\"] != \"South Pole Station\":\n",
    "        marker = folium.CircleMarker([row[\"latitude\"], row[\"longitude\"]], \n",
    "                                     radius=5,\n",
    "                                     color='DarkCyan',\n",
    "                                     fill_color='DarkCyan', \n",
    "                                     popup=row['name'])\n",
    "        marker.add_to(airports_map)\n",
    "        \n",
    "airports_map.save('airports.html')"
   ]
  },
  {
   "cell_type": "markdown",
   "metadata": {},
   "source": [
    "You can also select icons to use as markers.  That code would look like: \n",
    "\n",
    "    marker = folium.Marker([row[\"latitude\"], row[\"longitude\"]], \n",
    "                           icon=folium.Icon(icon='cloud'), \n",
    "                           popup=row['name'])\n",
    "                           \n",
    "The list of icons comes from something called bootstrap, and can be found here: \n",
    "\n",
    "http://www.bootstrapicons.com/\n"
   ]
  },
  {
   "cell_type": "markdown",
   "metadata": {
    "collapsed": true
   },
   "source": [
    "Or you can use clusters of markers to clean up the map.  This will group them when you zoom out, similar to a Craigslist map.  You can see how to do that here: \n",
    "\n",
    "https://ocefpaf.github.io/python4oceanographers/blog/2015/12/14/geopandas_folium/\n",
    "\n",
    "You can clean up the rest of this airports map as part of your homework this week.  "
   ]
  },
  {
   "cell_type": "markdown",
   "metadata": {},
   "source": [
    "Let's draw the routes, but since we have lots, let's just start with the routes departing Lexington. "
   ]
  },
  {
   "cell_type": "code",
   "execution_count": 345,
   "metadata": {
    "collapsed": false
   },
   "outputs": [
    {
     "data": {
      "text/plain": [
       "airline        object\n",
       "airline_id    float64\n",
       "source         object\n",
       "source_id     float64\n",
       "dest           object\n",
       "dest_id       float64\n",
       "codeshare      object\n",
       "stops           int64\n",
       "equipment      object\n",
       "dtype: object"
      ]
     },
     "execution_count": 345,
     "metadata": {},
     "output_type": "execute_result"
    }
   ],
   "source": [
    "lex_routes2 = routes[routes.source.isin(['LEX'])]\n",
    "lex_routes2.dtypes"
   ]
  },
  {
   "cell_type": "code",
   "execution_count": 348,
   "metadata": {
    "collapsed": false
   },
   "outputs": [
    {
     "data": {
      "text/plain": [
       "airline        object\n",
       "airline_id    float64\n",
       "source_x       object\n",
       "source_id     float64\n",
       "dest           object\n",
       "dest_id       float64\n",
       "codeshare      object\n",
       "stops           int64\n",
       "equipment      object\n",
       "id              int64\n",
       "name           object\n",
       "city           object\n",
       "country        object\n",
       "iata           object\n",
       "icao           object\n",
       "latitude      float64\n",
       "longitude     float64\n",
       "altitude        int64\n",
       "timezone      float64\n",
       "dst            object\n",
       "tz             object\n",
       "type           object\n",
       "source_y       object\n",
       "dtype: object"
      ]
     },
     "execution_count": 348,
     "metadata": {},
     "output_type": "execute_result"
    }
   ],
   "source": [
    "# Select the LEX routes, then join the source airports\n",
    "lex_routes = routes[(routes['source']==\"LEX\")]\n",
    "lex_routes = pd.merge(lex_routes, airports, left_on='source_id', right_on='id', how='left')\n",
    "lex_routes.columns\n",
    "lex_routes.dtypes"
   ]
  },
  {
   "cell_type": "code",
   "execution_count": 307,
   "metadata": {
    "collapsed": true
   },
   "outputs": [],
   "source": [
    "# join the destination airports.  Here we need to use the suffixes option, because \n",
    "# the column names overlap, and we want to distinguish between source and dest\n",
    "lex_routes = pd.merge(lex_routes, airports, \n",
    "                      left_on='dest_id', \n",
    "                      right_on='id', \n",
    "                      how='left', \n",
    "                      suffixes=['_source','_dest'])"
   ]
  },
  {
   "cell_type": "code",
   "execution_count": 27,
   "metadata": {
    "collapsed": false
   },
   "outputs": [
    {
     "data": {
      "text/html": [
       "<div>\n",
       "<table border=\"1\" class=\"dataframe\">\n",
       "  <thead>\n",
       "    <tr style=\"text-align: right;\">\n",
       "      <th></th>\n",
       "      <th>airline</th>\n",
       "      <th>airline_id</th>\n",
       "      <th>source_x</th>\n",
       "      <th>source_id</th>\n",
       "      <th>dest</th>\n",
       "      <th>dest_id</th>\n",
       "      <th>codeshare</th>\n",
       "      <th>stops</th>\n",
       "      <th>equipment</th>\n",
       "      <th>id_source</th>\n",
       "      <th>...</th>\n",
       "      <th>iata_dest</th>\n",
       "      <th>icao_dest</th>\n",
       "      <th>latitude_dest</th>\n",
       "      <th>longitude_dest</th>\n",
       "      <th>altitude_dest</th>\n",
       "      <th>timezone_dest</th>\n",
       "      <th>dst_dest</th>\n",
       "      <th>tz_dest</th>\n",
       "      <th>type_dest</th>\n",
       "      <th>source</th>\n",
       "    </tr>\n",
       "  </thead>\n",
       "  <tbody>\n",
       "    <tr>\n",
       "      <th>0</th>\n",
       "      <td>9E</td>\n",
       "      <td>3976.0</td>\n",
       "      <td>LEX</td>\n",
       "      <td>4017.0</td>\n",
       "      <td>ATL</td>\n",
       "      <td>3682.0</td>\n",
       "      <td>NaN</td>\n",
       "      <td>0</td>\n",
       "      <td>CRJ</td>\n",
       "      <td>4017</td>\n",
       "      <td>...</td>\n",
       "      <td>ATL</td>\n",
       "      <td>KATL</td>\n",
       "      <td>33.636700</td>\n",
       "      <td>-84.428101</td>\n",
       "      <td>1026</td>\n",
       "      <td>-5.0</td>\n",
       "      <td>A</td>\n",
       "      <td>America/New_York</td>\n",
       "      <td>airport</td>\n",
       "      <td>OurAirports</td>\n",
       "    </tr>\n",
       "    <tr>\n",
       "      <th>1</th>\n",
       "      <td>AA</td>\n",
       "      <td>24.0</td>\n",
       "      <td>LEX</td>\n",
       "      <td>4017.0</td>\n",
       "      <td>CLT</td>\n",
       "      <td>3876.0</td>\n",
       "      <td>Y</td>\n",
       "      <td>0</td>\n",
       "      <td>CR7 CRJ</td>\n",
       "      <td>4017</td>\n",
       "      <td>...</td>\n",
       "      <td>CLT</td>\n",
       "      <td>KCLT</td>\n",
       "      <td>35.214001</td>\n",
       "      <td>-80.943100</td>\n",
       "      <td>748</td>\n",
       "      <td>-5.0</td>\n",
       "      <td>A</td>\n",
       "      <td>America/New_York</td>\n",
       "      <td>airport</td>\n",
       "      <td>OurAirports</td>\n",
       "    </tr>\n",
       "    <tr>\n",
       "      <th>2</th>\n",
       "      <td>AA</td>\n",
       "      <td>24.0</td>\n",
       "      <td>LEX</td>\n",
       "      <td>4017.0</td>\n",
       "      <td>DFW</td>\n",
       "      <td>3670.0</td>\n",
       "      <td>Y</td>\n",
       "      <td>0</td>\n",
       "      <td>ERD ER4</td>\n",
       "      <td>4017</td>\n",
       "      <td>...</td>\n",
       "      <td>DFW</td>\n",
       "      <td>KDFW</td>\n",
       "      <td>32.896801</td>\n",
       "      <td>-97.038002</td>\n",
       "      <td>607</td>\n",
       "      <td>-6.0</td>\n",
       "      <td>A</td>\n",
       "      <td>America/Chicago</td>\n",
       "      <td>airport</td>\n",
       "      <td>OurAirports</td>\n",
       "    </tr>\n",
       "    <tr>\n",
       "      <th>3</th>\n",
       "      <td>AA</td>\n",
       "      <td>24.0</td>\n",
       "      <td>LEX</td>\n",
       "      <td>4017.0</td>\n",
       "      <td>ORD</td>\n",
       "      <td>3830.0</td>\n",
       "      <td>Y</td>\n",
       "      <td>0</td>\n",
       "      <td>ERD ER4</td>\n",
       "      <td>4017</td>\n",
       "      <td>...</td>\n",
       "      <td>ORD</td>\n",
       "      <td>KORD</td>\n",
       "      <td>41.978600</td>\n",
       "      <td>-87.904800</td>\n",
       "      <td>672</td>\n",
       "      <td>-6.0</td>\n",
       "      <td>A</td>\n",
       "      <td>America/Chicago</td>\n",
       "      <td>airport</td>\n",
       "      <td>OurAirports</td>\n",
       "    </tr>\n",
       "    <tr>\n",
       "      <th>4</th>\n",
       "      <td>AF</td>\n",
       "      <td>137.0</td>\n",
       "      <td>LEX</td>\n",
       "      <td>4017.0</td>\n",
       "      <td>ATL</td>\n",
       "      <td>3682.0</td>\n",
       "      <td>Y</td>\n",
       "      <td>0</td>\n",
       "      <td>CRJ CR9</td>\n",
       "      <td>4017</td>\n",
       "      <td>...</td>\n",
       "      <td>ATL</td>\n",
       "      <td>KATL</td>\n",
       "      <td>33.636700</td>\n",
       "      <td>-84.428101</td>\n",
       "      <td>1026</td>\n",
       "      <td>-5.0</td>\n",
       "      <td>A</td>\n",
       "      <td>America/New_York</td>\n",
       "      <td>airport</td>\n",
       "      <td>OurAirports</td>\n",
       "    </tr>\n",
       "    <tr>\n",
       "      <th>5</th>\n",
       "      <td>DL</td>\n",
       "      <td>2009.0</td>\n",
       "      <td>LEX</td>\n",
       "      <td>4017.0</td>\n",
       "      <td>ATL</td>\n",
       "      <td>3682.0</td>\n",
       "      <td>NaN</td>\n",
       "      <td>0</td>\n",
       "      <td>M88 717</td>\n",
       "      <td>4017</td>\n",
       "      <td>...</td>\n",
       "      <td>ATL</td>\n",
       "      <td>KATL</td>\n",
       "      <td>33.636700</td>\n",
       "      <td>-84.428101</td>\n",
       "      <td>1026</td>\n",
       "      <td>-5.0</td>\n",
       "      <td>A</td>\n",
       "      <td>America/New_York</td>\n",
       "      <td>airport</td>\n",
       "      <td>OurAirports</td>\n",
       "    </tr>\n",
       "    <tr>\n",
       "      <th>6</th>\n",
       "      <td>DL</td>\n",
       "      <td>2009.0</td>\n",
       "      <td>LEX</td>\n",
       "      <td>4017.0</td>\n",
       "      <td>DCA</td>\n",
       "      <td>3520.0</td>\n",
       "      <td>Y</td>\n",
       "      <td>0</td>\n",
       "      <td>CRJ</td>\n",
       "      <td>4017</td>\n",
       "      <td>...</td>\n",
       "      <td>DCA</td>\n",
       "      <td>KDCA</td>\n",
       "      <td>38.852100</td>\n",
       "      <td>-77.037697</td>\n",
       "      <td>15</td>\n",
       "      <td>-5.0</td>\n",
       "      <td>A</td>\n",
       "      <td>America/New_York</td>\n",
       "      <td>airport</td>\n",
       "      <td>OurAirports</td>\n",
       "    </tr>\n",
       "    <tr>\n",
       "      <th>7</th>\n",
       "      <td>DL</td>\n",
       "      <td>2009.0</td>\n",
       "      <td>LEX</td>\n",
       "      <td>4017.0</td>\n",
       "      <td>DTW</td>\n",
       "      <td>3645.0</td>\n",
       "      <td>Y</td>\n",
       "      <td>0</td>\n",
       "      <td>CR7 CRJ CR9</td>\n",
       "      <td>4017</td>\n",
       "      <td>...</td>\n",
       "      <td>DTW</td>\n",
       "      <td>KDTW</td>\n",
       "      <td>42.212399</td>\n",
       "      <td>-83.353401</td>\n",
       "      <td>645</td>\n",
       "      <td>-5.0</td>\n",
       "      <td>A</td>\n",
       "      <td>America/New_York</td>\n",
       "      <td>airport</td>\n",
       "      <td>OurAirports</td>\n",
       "    </tr>\n",
       "    <tr>\n",
       "      <th>8</th>\n",
       "      <td>DL</td>\n",
       "      <td>2009.0</td>\n",
       "      <td>LEX</td>\n",
       "      <td>4017.0</td>\n",
       "      <td>LGA</td>\n",
       "      <td>3697.0</td>\n",
       "      <td>NaN</td>\n",
       "      <td>0</td>\n",
       "      <td>ERJ</td>\n",
       "      <td>4017</td>\n",
       "      <td>...</td>\n",
       "      <td>LGA</td>\n",
       "      <td>KLGA</td>\n",
       "      <td>40.777199</td>\n",
       "      <td>-73.872597</td>\n",
       "      <td>21</td>\n",
       "      <td>-5.0</td>\n",
       "      <td>A</td>\n",
       "      <td>America/New_York</td>\n",
       "      <td>airport</td>\n",
       "      <td>OurAirports</td>\n",
       "    </tr>\n",
       "    <tr>\n",
       "      <th>9</th>\n",
       "      <td>DL</td>\n",
       "      <td>2009.0</td>\n",
       "      <td>LEX</td>\n",
       "      <td>4017.0</td>\n",
       "      <td>MSP</td>\n",
       "      <td>3858.0</td>\n",
       "      <td>Y</td>\n",
       "      <td>0</td>\n",
       "      <td>CRJ</td>\n",
       "      <td>4017</td>\n",
       "      <td>...</td>\n",
       "      <td>MSP</td>\n",
       "      <td>KMSP</td>\n",
       "      <td>44.882000</td>\n",
       "      <td>-93.221802</td>\n",
       "      <td>841</td>\n",
       "      <td>-6.0</td>\n",
       "      <td>A</td>\n",
       "      <td>America/Chicago</td>\n",
       "      <td>airport</td>\n",
       "      <td>OurAirports</td>\n",
       "    </tr>\n",
       "    <tr>\n",
       "      <th>10</th>\n",
       "      <td>G4</td>\n",
       "      <td>35.0</td>\n",
       "      <td>LEX</td>\n",
       "      <td>4017.0</td>\n",
       "      <td>FLL</td>\n",
       "      <td>3533.0</td>\n",
       "      <td>NaN</td>\n",
       "      <td>0</td>\n",
       "      <td>M80</td>\n",
       "      <td>4017</td>\n",
       "      <td>...</td>\n",
       "      <td>FLL</td>\n",
       "      <td>KFLL</td>\n",
       "      <td>26.072599</td>\n",
       "      <td>-80.152702</td>\n",
       "      <td>9</td>\n",
       "      <td>-5.0</td>\n",
       "      <td>A</td>\n",
       "      <td>America/New_York</td>\n",
       "      <td>airport</td>\n",
       "      <td>OurAirports</td>\n",
       "    </tr>\n",
       "    <tr>\n",
       "      <th>11</th>\n",
       "      <td>G4</td>\n",
       "      <td>35.0</td>\n",
       "      <td>LEX</td>\n",
       "      <td>4017.0</td>\n",
       "      <td>PGD</td>\n",
       "      <td>7056.0</td>\n",
       "      <td>NaN</td>\n",
       "      <td>0</td>\n",
       "      <td>M80</td>\n",
       "      <td>4017</td>\n",
       "      <td>...</td>\n",
       "      <td>PGD</td>\n",
       "      <td>KPGD</td>\n",
       "      <td>26.920200</td>\n",
       "      <td>-81.990501</td>\n",
       "      <td>26</td>\n",
       "      <td>-5.0</td>\n",
       "      <td>A</td>\n",
       "      <td>America/New_York</td>\n",
       "      <td>airport</td>\n",
       "      <td>OurAirports</td>\n",
       "    </tr>\n",
       "    <tr>\n",
       "      <th>12</th>\n",
       "      <td>G4</td>\n",
       "      <td>35.0</td>\n",
       "      <td>LEX</td>\n",
       "      <td>4017.0</td>\n",
       "      <td>PIE</td>\n",
       "      <td>3617.0</td>\n",
       "      <td>NaN</td>\n",
       "      <td>0</td>\n",
       "      <td>320</td>\n",
       "      <td>4017</td>\n",
       "      <td>...</td>\n",
       "      <td>PIE</td>\n",
       "      <td>KPIE</td>\n",
       "      <td>27.910200</td>\n",
       "      <td>-82.687401</td>\n",
       "      <td>11</td>\n",
       "      <td>-5.0</td>\n",
       "      <td>A</td>\n",
       "      <td>America/New_York</td>\n",
       "      <td>airport</td>\n",
       "      <td>OurAirports</td>\n",
       "    </tr>\n",
       "    <tr>\n",
       "      <th>13</th>\n",
       "      <td>G4</td>\n",
       "      <td>35.0</td>\n",
       "      <td>LEX</td>\n",
       "      <td>4017.0</td>\n",
       "      <td>SFB</td>\n",
       "      <td>4167.0</td>\n",
       "      <td>NaN</td>\n",
       "      <td>0</td>\n",
       "      <td>M80 320</td>\n",
       "      <td>4017</td>\n",
       "      <td>...</td>\n",
       "      <td>SFB</td>\n",
       "      <td>KSFB</td>\n",
       "      <td>28.777599</td>\n",
       "      <td>-81.237503</td>\n",
       "      <td>55</td>\n",
       "      <td>-5.0</td>\n",
       "      <td>A</td>\n",
       "      <td>America/New_York</td>\n",
       "      <td>airport</td>\n",
       "      <td>OurAirports</td>\n",
       "    </tr>\n",
       "    <tr>\n",
       "      <th>14</th>\n",
       "      <td>KL</td>\n",
       "      <td>3090.0</td>\n",
       "      <td>LEX</td>\n",
       "      <td>4017.0</td>\n",
       "      <td>ATL</td>\n",
       "      <td>3682.0</td>\n",
       "      <td>Y</td>\n",
       "      <td>0</td>\n",
       "      <td>CR9 CRJ</td>\n",
       "      <td>4017</td>\n",
       "      <td>...</td>\n",
       "      <td>ATL</td>\n",
       "      <td>KATL</td>\n",
       "      <td>33.636700</td>\n",
       "      <td>-84.428101</td>\n",
       "      <td>1026</td>\n",
       "      <td>-5.0</td>\n",
       "      <td>A</td>\n",
       "      <td>America/New_York</td>\n",
       "      <td>airport</td>\n",
       "      <td>OurAirports</td>\n",
       "    </tr>\n",
       "    <tr>\n",
       "      <th>15</th>\n",
       "      <td>UA</td>\n",
       "      <td>5209.0</td>\n",
       "      <td>LEX</td>\n",
       "      <td>4017.0</td>\n",
       "      <td>IAH</td>\n",
       "      <td>3550.0</td>\n",
       "      <td>Y</td>\n",
       "      <td>0</td>\n",
       "      <td>ERJ</td>\n",
       "      <td>4017</td>\n",
       "      <td>...</td>\n",
       "      <td>IAH</td>\n",
       "      <td>KIAH</td>\n",
       "      <td>29.984400</td>\n",
       "      <td>-95.341400</td>\n",
       "      <td>97</td>\n",
       "      <td>-6.0</td>\n",
       "      <td>A</td>\n",
       "      <td>America/Chicago</td>\n",
       "      <td>airport</td>\n",
       "      <td>OurAirports</td>\n",
       "    </tr>\n",
       "    <tr>\n",
       "      <th>16</th>\n",
       "      <td>UA</td>\n",
       "      <td>5209.0</td>\n",
       "      <td>LEX</td>\n",
       "      <td>4017.0</td>\n",
       "      <td>ORD</td>\n",
       "      <td>3830.0</td>\n",
       "      <td>Y</td>\n",
       "      <td>0</td>\n",
       "      <td>ERJ CRJ</td>\n",
       "      <td>4017</td>\n",
       "      <td>...</td>\n",
       "      <td>ORD</td>\n",
       "      <td>KORD</td>\n",
       "      <td>41.978600</td>\n",
       "      <td>-87.904800</td>\n",
       "      <td>672</td>\n",
       "      <td>-6.0</td>\n",
       "      <td>A</td>\n",
       "      <td>America/Chicago</td>\n",
       "      <td>airport</td>\n",
       "      <td>OurAirports</td>\n",
       "    </tr>\n",
       "    <tr>\n",
       "      <th>17</th>\n",
       "      <td>US</td>\n",
       "      <td>5265.0</td>\n",
       "      <td>LEX</td>\n",
       "      <td>4017.0</td>\n",
       "      <td>CLT</td>\n",
       "      <td>3876.0</td>\n",
       "      <td>NaN</td>\n",
       "      <td>0</td>\n",
       "      <td>CR7</td>\n",
       "      <td>4017</td>\n",
       "      <td>...</td>\n",
       "      <td>CLT</td>\n",
       "      <td>KCLT</td>\n",
       "      <td>35.214001</td>\n",
       "      <td>-80.943100</td>\n",
       "      <td>748</td>\n",
       "      <td>-5.0</td>\n",
       "      <td>A</td>\n",
       "      <td>America/New_York</td>\n",
       "      <td>airport</td>\n",
       "      <td>OurAirports</td>\n",
       "    </tr>\n",
       "    <tr>\n",
       "      <th>18</th>\n",
       "      <td>US</td>\n",
       "      <td>5265.0</td>\n",
       "      <td>LEX</td>\n",
       "      <td>4017.0</td>\n",
       "      <td>DFW</td>\n",
       "      <td>3670.0</td>\n",
       "      <td>NaN</td>\n",
       "      <td>0</td>\n",
       "      <td>ERD</td>\n",
       "      <td>4017</td>\n",
       "      <td>...</td>\n",
       "      <td>DFW</td>\n",
       "      <td>KDFW</td>\n",
       "      <td>32.896801</td>\n",
       "      <td>-97.038002</td>\n",
       "      <td>607</td>\n",
       "      <td>-6.0</td>\n",
       "      <td>A</td>\n",
       "      <td>America/Chicago</td>\n",
       "      <td>airport</td>\n",
       "      <td>OurAirports</td>\n",
       "    </tr>\n",
       "    <tr>\n",
       "      <th>19</th>\n",
       "      <td>US</td>\n",
       "      <td>5265.0</td>\n",
       "      <td>LEX</td>\n",
       "      <td>4017.0</td>\n",
       "      <td>ORD</td>\n",
       "      <td>3830.0</td>\n",
       "      <td>Y</td>\n",
       "      <td>0</td>\n",
       "      <td>ERD ER4</td>\n",
       "      <td>4017</td>\n",
       "      <td>...</td>\n",
       "      <td>ORD</td>\n",
       "      <td>KORD</td>\n",
       "      <td>41.978600</td>\n",
       "      <td>-87.904800</td>\n",
       "      <td>672</td>\n",
       "      <td>-6.0</td>\n",
       "      <td>A</td>\n",
       "      <td>America/Chicago</td>\n",
       "      <td>airport</td>\n",
       "      <td>OurAirports</td>\n",
       "    </tr>\n",
       "  </tbody>\n",
       "</table>\n",
       "<p>20 rows × 37 columns</p>\n",
       "</div>"
      ],
      "text/plain": [
       "   airline  airline_id source_x  source_id dest  dest_id codeshare  stops  \\\n",
       "0       9E      3976.0      LEX     4017.0  ATL   3682.0       NaN      0   \n",
       "1       AA        24.0      LEX     4017.0  CLT   3876.0         Y      0   \n",
       "2       AA        24.0      LEX     4017.0  DFW   3670.0         Y      0   \n",
       "3       AA        24.0      LEX     4017.0  ORD   3830.0         Y      0   \n",
       "4       AF       137.0      LEX     4017.0  ATL   3682.0         Y      0   \n",
       "5       DL      2009.0      LEX     4017.0  ATL   3682.0       NaN      0   \n",
       "6       DL      2009.0      LEX     4017.0  DCA   3520.0         Y      0   \n",
       "7       DL      2009.0      LEX     4017.0  DTW   3645.0         Y      0   \n",
       "8       DL      2009.0      LEX     4017.0  LGA   3697.0       NaN      0   \n",
       "9       DL      2009.0      LEX     4017.0  MSP   3858.0         Y      0   \n",
       "10      G4        35.0      LEX     4017.0  FLL   3533.0       NaN      0   \n",
       "11      G4        35.0      LEX     4017.0  PGD   7056.0       NaN      0   \n",
       "12      G4        35.0      LEX     4017.0  PIE   3617.0       NaN      0   \n",
       "13      G4        35.0      LEX     4017.0  SFB   4167.0       NaN      0   \n",
       "14      KL      3090.0      LEX     4017.0  ATL   3682.0         Y      0   \n",
       "15      UA      5209.0      LEX     4017.0  IAH   3550.0         Y      0   \n",
       "16      UA      5209.0      LEX     4017.0  ORD   3830.0         Y      0   \n",
       "17      US      5265.0      LEX     4017.0  CLT   3876.0       NaN      0   \n",
       "18      US      5265.0      LEX     4017.0  DFW   3670.0       NaN      0   \n",
       "19      US      5265.0      LEX     4017.0  ORD   3830.0         Y      0   \n",
       "\n",
       "      equipment  id_source     ...      iata_dest icao_dest latitude_dest  \\\n",
       "0           CRJ       4017     ...            ATL      KATL     33.636700   \n",
       "1       CR7 CRJ       4017     ...            CLT      KCLT     35.214001   \n",
       "2       ERD ER4       4017     ...            DFW      KDFW     32.896801   \n",
       "3       ERD ER4       4017     ...            ORD      KORD     41.978600   \n",
       "4       CRJ CR9       4017     ...            ATL      KATL     33.636700   \n",
       "5       M88 717       4017     ...            ATL      KATL     33.636700   \n",
       "6           CRJ       4017     ...            DCA      KDCA     38.852100   \n",
       "7   CR7 CRJ CR9       4017     ...            DTW      KDTW     42.212399   \n",
       "8           ERJ       4017     ...            LGA      KLGA     40.777199   \n",
       "9           CRJ       4017     ...            MSP      KMSP     44.882000   \n",
       "10          M80       4017     ...            FLL      KFLL     26.072599   \n",
       "11          M80       4017     ...            PGD      KPGD     26.920200   \n",
       "12          320       4017     ...            PIE      KPIE     27.910200   \n",
       "13      M80 320       4017     ...            SFB      KSFB     28.777599   \n",
       "14      CR9 CRJ       4017     ...            ATL      KATL     33.636700   \n",
       "15          ERJ       4017     ...            IAH      KIAH     29.984400   \n",
       "16      ERJ CRJ       4017     ...            ORD      KORD     41.978600   \n",
       "17          CR7       4017     ...            CLT      KCLT     35.214001   \n",
       "18          ERD       4017     ...            DFW      KDFW     32.896801   \n",
       "19      ERD ER4       4017     ...            ORD      KORD     41.978600   \n",
       "\n",
       "   longitude_dest altitude_dest  timezone_dest  dst_dest           tz_dest  \\\n",
       "0      -84.428101          1026           -5.0         A  America/New_York   \n",
       "1      -80.943100           748           -5.0         A  America/New_York   \n",
       "2      -97.038002           607           -6.0         A   America/Chicago   \n",
       "3      -87.904800           672           -6.0         A   America/Chicago   \n",
       "4      -84.428101          1026           -5.0         A  America/New_York   \n",
       "5      -84.428101          1026           -5.0         A  America/New_York   \n",
       "6      -77.037697            15           -5.0         A  America/New_York   \n",
       "7      -83.353401           645           -5.0         A  America/New_York   \n",
       "8      -73.872597            21           -5.0         A  America/New_York   \n",
       "9      -93.221802           841           -6.0         A   America/Chicago   \n",
       "10     -80.152702             9           -5.0         A  America/New_York   \n",
       "11     -81.990501            26           -5.0         A  America/New_York   \n",
       "12     -82.687401            11           -5.0         A  America/New_York   \n",
       "13     -81.237503            55           -5.0         A  America/New_York   \n",
       "14     -84.428101          1026           -5.0         A  America/New_York   \n",
       "15     -95.341400            97           -6.0         A   America/Chicago   \n",
       "16     -87.904800           672           -6.0         A   America/Chicago   \n",
       "17     -80.943100           748           -5.0         A  America/New_York   \n",
       "18     -97.038002           607           -6.0         A   America/Chicago   \n",
       "19     -87.904800           672           -6.0         A   America/Chicago   \n",
       "\n",
       "    type_dest       source  \n",
       "0     airport  OurAirports  \n",
       "1     airport  OurAirports  \n",
       "2     airport  OurAirports  \n",
       "3     airport  OurAirports  \n",
       "4     airport  OurAirports  \n",
       "5     airport  OurAirports  \n",
       "6     airport  OurAirports  \n",
       "7     airport  OurAirports  \n",
       "8     airport  OurAirports  \n",
       "9     airport  OurAirports  \n",
       "10    airport  OurAirports  \n",
       "11    airport  OurAirports  \n",
       "12    airport  OurAirports  \n",
       "13    airport  OurAirports  \n",
       "14    airport  OurAirports  \n",
       "15    airport  OurAirports  \n",
       "16    airport  OurAirports  \n",
       "17    airport  OurAirports  \n",
       "18    airport  OurAirports  \n",
       "19    airport  OurAirports  \n",
       "\n",
       "[20 rows x 37 columns]"
      ]
     },
     "execution_count": 27,
     "metadata": {},
     "output_type": "execute_result"
    }
   ],
   "source": [
    "# here is what our data looks like\n",
    "lex_routes"
   ]
  },
  {
   "cell_type": "code",
   "execution_count": 9,
   "metadata": {
    "collapsed": false
   },
   "outputs": [],
   "source": [
    "# It looks like source has some duplicate names.  Drop the values from the airports\n",
    "# file ane keep the one from the routes file\n",
    "lex_routes = lex_routes.drop(['source_y','source'], axis=1)\n",
    "lex_routes = lex_routes.rename(columns={'source_x': 'source'})"
   ]
  },
  {
   "cell_type": "code",
   "execution_count": 308,
   "metadata": {
    "collapsed": false
   },
   "outputs": [
    {
     "data": {
      "text/plain": [
       "Index(['airline', 'airline_id', 'source_x', 'source_id', 'dest', 'dest_id',\n",
       "       'codeshare', 'stops', 'equipment', 'id_source', 'name_source',\n",
       "       'city_source', 'country_source', 'iata_source', 'icao_source',\n",
       "       'latitude_source', 'longitude_source', 'altitude_source',\n",
       "       'timezone_source', 'dst_source', 'tz_source', 'type_source', 'source_y',\n",
       "       'id_dest', 'name_dest', 'city_dest', 'country_dest', 'iata_dest',\n",
       "       'icao_dest', 'latitude_dest', 'longitude_dest', 'altitude_dest',\n",
       "       'timezone_dest', 'dst_dest', 'tz_dest', 'type_dest', 'source'],\n",
       "      dtype='object')"
      ]
     },
     "execution_count": 308,
     "metadata": {},
     "output_type": "execute_result"
    }
   ],
   "source": [
    "# Let's keep only one route between each airport pair\n",
    "# so we don't have a bunch of lines on top of each other\n",
    "# The subset option tells it to consider just those columns when determining\n",
    "# what is a duplicate. \n",
    "\n",
    "lex_routes = lex_routes.drop_duplicates(subset=['source', 'dest'])\n",
    "lex_routes.columns"
   ]
  },
  {
   "cell_type": "markdown",
   "metadata": {},
   "source": [
    "That looks better.  Now, let's create a map.  To avoid adding duplicate airports, we are going to use a container called a set.  A set is an unordered collection of unique elements.  This means we can keep adding LEX to the set, and end up with only 1 LEX in the end.  "
   ]
  },
  {
   "cell_type": "code",
   "execution_count": 297,
   "metadata": {
    "collapsed": true
   },
   "outputs": [],
   "source": [
    "# create a basic map, centered on Lexington\n",
    "lex_air = folium.Map(\n",
    "    location=[38.034,-84.500],\n",
    "    tiles='Stamen Toner',\n",
    "    zoom_start=4)"
   ]
  },
  {
   "cell_type": "code",
   "execution_count": 13,
   "metadata": {
    "collapsed": false
   },
   "outputs": [
    {
     "data": {
      "text/html": [
       "<div style=\"width:100%;\"><div style=\"position:relative;width:100%;height:0;padding-bottom:60%;\"><iframe src=\"data:text/html;base64,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\" style=\"position:absolute;width:100%;height:100%;left:0;top:0;\"></iframe></div></div>"
      ],
      "text/plain": [
       "<folium.folium.Map at 0x135fbcf1b00>"
      ]
     },
     "execution_count": 13,
     "metadata": {},
     "output_type": "execute_result"
    }
   ],
   "source": [
    "# Define some empty sets\n",
    "airport_set = set()\n",
    "route_set = set()\n",
    "\n",
    "# Make sure we don't add duplicates, especially for the origins\n",
    "for name, row in lex_routes.iterrows():\n",
    "    \n",
    "    if row['source'] not in airport_set: \n",
    "        popup_string = row['city_source'] + ' (' + row['source'] + ')'\n",
    "        marker = folium.CircleMarker([row[\"latitude_source\"], row[\"longitude_source\"]], \n",
    "                                     color='DarkCyan',\n",
    "                                     fill_color='DarkCyan', \n",
    "                                     radius=5, popup=popup_string)\n",
    "        marker.add_to(lex_air)\n",
    "        airport_set.add(row['source'])\n",
    "        \n",
    "    if row['dest'] not in airport_set: \n",
    "        popup_string = row['city_dest'] + '(' + row['dest'] + ')'\n",
    "        marker = folium.CircleMarker([row[\"latitude_dest\"], row[\"longitude_dest\"]], \n",
    "                                     color='MidnightBlue',\n",
    "                                     fill_color='MidnightBlue', \n",
    "                                     radius=5, popup=popup_string)\n",
    "        marker.add_to(lex_air)\n",
    "        airport_set.add(row['dest'])\n",
    "    \n",
    "    # the parentheses in the indicate that we are adding a tuple to the route_set\n",
    "    if (row['source'],row['dest']) not in route_set:            \n",
    "        popup_string = row['source'] + '-' + row['dest']        \n",
    "        line = folium.PolyLine([(row[\"latitude_source\"], row[\"longitude_source\"]), \n",
    "                                (row[\"latitude_dest\"], row[\"longitude_dest\"])], \n",
    "                                weight=2, \n",
    "                                popup=popup_string)\n",
    "        line.add_to(lex_air)\n",
    "        route_set.add((row['source'],row['dest']))\n",
    "        \n",
    "lex_air"
   ]
  },
  {
   "cell_type": "markdown",
   "metadata": {},
   "source": [
    "That's cool.  But airplanes don't fly in a straight line.  They follow the great circle.  So when you fly from Chicago to London, you go over Greenland (which is really pretty on a clear day!).  Can we make the lines follow a great circle? \n",
    "\n",
    "It looks like there are some options here: \n",
    "\n",
    "http://gis.stackexchange.com/questions/47/what-tools-in-python-are-available-for-doing-great-circle-distance-line-creati\n",
    "\n",
    "Let's try one of them. "
   ]
  },
  {
   "cell_type": "code",
   "execution_count": 14,
   "metadata": {
    "collapsed": false
   },
   "outputs": [],
   "source": [
    "import pyproj\n",
    "\n",
    "# when creating a function, it is good practice to define the API!\n",
    "def getGreatCirclePoints(startlat, startlon, endlat, endlon): \n",
    "    \"\"\"\n",
    "    startlat - starting latitude \n",
    "    startlon - starting longitude \n",
    "    endlat   - ending latitude \n",
    "    endlon   - ending longitude \n",
    "    \n",
    "    returns - a list of tuples, where each tuple is the lat-long for a point\n",
    "              along the curve.  \n",
    "    \"\"\"\n",
    "    # calculate distance between points\n",
    "    g = pyproj.Geod(ellps='WGS84')\n",
    "    (az12, az21, dist) = g.inv(startlon, startlat, endlon, endlat)\n",
    "\n",
    "    # calculate line string along path with segments <= 20 km\n",
    "    lonlats = g.npts(startlon, startlat, endlon, endlat,\n",
    "                     1 + int(dist / 20000))\n",
    "\n",
    "    # the npts function uses lon-lat, while the folium functions use lat-lon\n",
    "    # This sort of thing is maddening!  What happens is the lines don't show\n",
    "    # up on the map and you don't know why.  Learn from my mistakes\n",
    "    latlons = []\n",
    "    for lon_lat in lonlats: \n",
    "        \n",
    "        # this is how you get values out of a tuple\n",
    "        (lon, lat) = lon_lat\n",
    "        \n",
    "        # add them to our list\n",
    "        latlons.append((lat, lon)) \n",
    "    \n",
    "    # npts doesn't include start/end points, so prepend/append them\n",
    "    latlons.insert(0, (startlat, startlon))\n",
    "    latlons.append((endlat, endlon))\n",
    "    \n",
    "    return latlons\n"
   ]
  },
  {
   "cell_type": "code",
   "execution_count": 15,
   "metadata": {
    "collapsed": false
   },
   "outputs": [
    {
     "data": {
      "text/plain": [
       "[(38.034, -84.5),\n",
       " (37.864933929949096, -84.49708149511396),\n",
       " (37.695862920583586, -84.49417629534568),\n",
       " (37.52678697986378, -84.49128425988357),\n",
       " (37.35770611591111, -84.48840524964173),\n",
       " (37.18862033700805, -84.48553912723197),\n",
       " (37.019529651598035, -84.48268575693639),\n",
       " (36.85043406828536, -84.47984500468044),\n",
       " (36.68133359583508, -84.4770167380065),\n",
       " (36.51222824317288, -84.474200826048),\n",
       " (36.343118019385024, -84.47139713950395),\n",
       " (36.17400293371815, -84.46860555061399),\n",
       " (36.00488299557918, -84.46582593313389),\n",
       " (35.83575821453518, -84.46305816231151),\n",
       " (35.66662860031317, -84.46030211486323),\n",
       " (35.49749416279997, -84.45755766895067),\n",
       " (35.328354912042094, -84.45482470415813),\n",
       " (35.15921085824549, -84.45210310147009),\n",
       " (34.99006201177538, -84.44939274324938),\n",
       " (34.82090838315612, -84.44669351321562),\n",
       " (34.65174998307092, -84.44400529642411),\n",
       " (34.48258682236167, -84.44132797924507),\n",
       " (34.3134189120287, -84.43866144934323),\n",
       " (34.14424626323062, -84.43600559565783),\n",
       " (33.975068887284, -84.43336030838299),\n",
       " (33.805886795663184, -84.4307254789483),\n",
       " (33.6367, -84.428101)]"
      ]
     },
     "execution_count": 15,
     "metadata": {},
     "output_type": "execute_result"
    }
   ],
   "source": [
    "# any time we write a function, we should test that it works\n",
    "p = getGreatCirclePoints(38.034, -84.500, 33.636700, -84.428101) \n",
    "p"
   ]
  },
  {
   "cell_type": "code",
   "execution_count": 16,
   "metadata": {
    "collapsed": false
   },
   "outputs": [],
   "source": [
    "# create a basic map, centered on Lexington\n",
    "lex_air = folium.Map(\n",
    "    location=[38.034,-84.500],\n",
    "    tiles='Stamen Toner',\n",
    "    zoom_start=4\n",
    ")"
   ]
  },
  {
   "cell_type": "code",
   "execution_count": 17,
   "metadata": {
    "collapsed": false
   },
   "outputs": [
    {
     "data": {
      "text/html": [
       "<div style=\"width:100%;\"><div style=\"position:relative;width:100%;height:0;padding-bottom:60%;\"><iframe src=\"data:text/html;base64,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\" style=\"position:absolute;width:100%;height:100%;left:0;top:0;\"></iframe></div></div>"
      ],
      "text/plain": [
       "<folium.folium.Map at 0x135fc1df668>"
      ]
     },
     "execution_count": 17,
     "metadata": {},
     "output_type": "execute_result"
    }
   ],
   "source": [
    "# define the map in the same way, but use great circles for the lines\n",
    "\n",
    "# Define some empty sets\n",
    "airport_set = set()\n",
    "route_set = set()\n",
    "\n",
    "# Make sure we don't add duplicates, especially for the origins\n",
    "for name, row in lex_routes.iterrows():\n",
    "    \n",
    "    if row['source'] not in airport_set: \n",
    "        popup_string = row['city_source'] + ' (' + row['source'] + ')'\n",
    "        marker = folium.CircleMarker([row[\"latitude_source\"], row[\"longitude_source\"]], \n",
    "                                     color='DarkCyan',\n",
    "                                     fill_color='DarkCyan', \n",
    "                                     radius=5, popup=popup_string)\n",
    "        marker.add_to(lex_air)\n",
    "        airport_set.add(row['source'])\n",
    "        \n",
    "    if row['dest'] not in airport_set: \n",
    "        popup_string = row['city_dest'] + '(' + row['dest'] + ')'\n",
    "        marker = folium.CircleMarker([row[\"latitude_dest\"], row[\"longitude_dest\"]], \n",
    "                                     color='MidnightBlue',\n",
    "                                     fill_color='MidnightBlue', \n",
    "                                     radius=5, popup=popup_string)\n",
    "        marker.add_to(lex_air)\n",
    "        airport_set.add(row['dest'])\n",
    "    \n",
    "    # PolyLine will accept a whole list of tuples, not just two\n",
    "    if (row['source'],row['dest']) not in route_set:            \n",
    "        popup_string = row['source'] + '-' + row['dest']       \n",
    "        \n",
    "        gc_points = getGreatCirclePoints(row[\"latitude_source\"], \n",
    "                                         row[\"longitude_source\"], \n",
    "                                         row[\"latitude_dest\"], \n",
    "                                         row[\"longitude_dest\"])\n",
    "        \n",
    "        line = folium.PolyLine(gc_points, weight=2, popup=popup_string)\n",
    "        line.add_to(lex_air)\n",
    "        route_set.add((row['source'],row['dest']))\n",
    "        \n",
    "lex_air   "
   ]
  },
  {
   "cell_type": "code",
   "execution_count": 18,
   "metadata": {
    "collapsed": true
   },
   "outputs": [],
   "source": [
    "# save it to its own file\n",
    "lex_air.save(\"lex_air.html\")"
   ]
  },
  {
   "cell_type": "markdown",
   "metadata": {},
   "source": [
    "### Your turn\n",
    "\n",
    "The above map shows everywhere you can get to from Lexington on a direct flight.  Your job is to:\n",
    "\n",
    "1. Make a map of all the possible destinations with one transfer. \n",
    "2. Make a map of all the possible desitnations with two transfers. \n",
    "\n",
    "Make the maps look nice!  Use color coding, vary the size of the features, or be selective about what you display in order to communicate the information effectively.  \n",
    "\n",
    "Bonus: This is the air travel version of the Kevin Bacon game.  What is the number N, such that you can reach every airport in the world with N or fewer transfers?  \n",
    "\n",
    "Extra Bonus: Use this very important piece of knowledge to impress your friends at parties!"
   ]
  },
  {
   "cell_type": "code",
   "execution_count": 300,
   "metadata": {
    "collapsed": false
   },
   "outputs": [],
   "source": [
    "#airports['Source_is_lex'] = []"
   ]
  },
  {
   "cell_type": "code",
   "execution_count": 41,
   "metadata": {
    "collapsed": false
   },
   "outputs": [
    {
     "data": {
      "text/plain": [
       "0     ATL\n",
       "1     CLT\n",
       "2     DFW\n",
       "3     ORD\n",
       "6     DCA\n",
       "7     DTW\n",
       "8     LGA\n",
       "9     MSP\n",
       "10    FLL\n",
       "11    PGD\n",
       "12    PIE\n",
       "13    SFB\n",
       "15    IAH\n",
       "Name: dest, dtype: object"
      ]
     },
     "execution_count": 41,
     "metadata": {},
     "output_type": "execute_result"
    }
   ],
   "source": [
    "lex_routes"
   ]
  },
  {
   "cell_type": "code",
   "execution_count": 82,
   "metadata": {
    "collapsed": false
   },
   "outputs": [
    {
     "data": {
      "text/plain": [
       "['ATL',\n",
       " 'CLT',\n",
       " 'DFW',\n",
       " 'ORD',\n",
       " 'DCA',\n",
       " 'DTW',\n",
       " 'LGA',\n",
       " 'MSP',\n",
       " 'FLL',\n",
       " 'PGD',\n",
       " 'PIE',\n",
       " 'SFB']"
      ]
     },
     "execution_count": 82,
     "metadata": {},
     "output_type": "execute_result"
    }
   ],
   "source": [
    "lex_routes_drop = lex_routes.dest.drop_duplicates()\n",
    "list_transfer = list(lex_routes_drop[:-1])\n",
    "list_transfer"
   ]
  },
  {
   "cell_type": "markdown",
   "metadata": {},
   "source": [
    "# Start Here"
   ]
  },
  {
   "cell_type": "code",
   "execution_count": 309,
   "metadata": {
    "collapsed": false
   },
   "outputs": [],
   "source": [
    "lex = set(lex_routes.dest)"
   ]
  },
  {
   "cell_type": "code",
   "execution_count": 310,
   "metadata": {
    "collapsed": false
   },
   "outputs": [
    {
     "name": "stdout",
     "output_type": "stream",
     "text": [
      "['ATL' 'CLT' 'DFW' 'ORD' 'DCA' 'DTW' 'LGA' 'MSP' 'FLL' 'PGD' 'PIE' 'SFB'\n",
      " 'IAH']\n",
      "13\n"
     ]
    }
   ],
   "source": [
    "print(lex_routes.dest.unique())\n",
    "print(len(lex_routes.dest.unique()))"
   ]
  },
  {
   "cell_type": "code",
   "execution_count": 311,
   "metadata": {
    "collapsed": false
   },
   "outputs": [
    {
     "name": "stdout",
     "output_type": "stream",
     "text": [
      "13\n",
      "{'IAH', 'LGA', 'SFB', 'DTW', 'ORD', 'PIE', 'DFW', 'FLL', 'PGD', 'DCA', 'MSP', 'ATL', 'CLT'}\n"
     ]
    }
   ],
   "source": [
    "print(len(lex))\n",
    "print(lex)"
   ]
  },
  {
   "cell_type": "code",
   "execution_count": 312,
   "metadata": {
    "collapsed": false
   },
   "outputs": [
    {
     "data": {
      "text/plain": [
       "402"
      ]
     },
     "execution_count": 312,
     "metadata": {},
     "output_type": "execute_result"
    }
   ],
   "source": [
    "lex_1 = routes.loc[routes['source'].isin(lex)]\n",
    "lex_1 = set(lex_1.dest)\n",
    "\n",
    "lex1 = lex.union(lex_1)\n",
    "\n",
    "len(lex1)"
   ]
  },
  {
   "cell_type": "code",
   "execution_count": 302,
   "metadata": {
    "collapsed": false
   },
   "outputs": [
    {
     "name": "stdout",
     "output_type": "stream",
     "text": [
      "1857\n",
      "7184\n"
     ]
    }
   ],
   "source": [
    "lex_2 = routes.loc[routes['source'].isin(lex1)]\n",
    "lex_2 = set(lex_2.dest)\n",
    "\n",
    "lex2 = lex.union(lex_2)\n",
    "print(len(lex2))\n",
    "print(len(airports))\n"
   ]
  },
  {
   "cell_type": "code",
   "execution_count": 303,
   "metadata": {
    "collapsed": false
   },
   "outputs": [
    {
     "name": "stdout",
     "output_type": "stream",
     "text": [
      "3056\n",
      "7184\n"
     ]
    }
   ],
   "source": [
    "lex_3 = routes.loc[routes['source'].isin(lex2)]\n",
    "lex_3 = set(lex_3.dest)\n",
    "\n",
    "lex3 = lex.union(lex_3)\n",
    "print(len(lex3))\n",
    "print(len(airports))\n"
   ]
  },
  {
   "cell_type": "code",
   "execution_count": 304,
   "metadata": {
    "collapsed": false
   },
   "outputs": [
    {
     "name": "stdout",
     "output_type": "stream",
     "text": [
      "3300\n",
      "7184\n"
     ]
    }
   ],
   "source": [
    "lex_4 = routes.loc[routes['source'].isin(lex3)]\n",
    "lex_4 = set(lex_4.dest)\n",
    "\n",
    "lex4 = lex.union(lex_4)\n",
    "print(len(lex4))\n",
    "print(len(airports))\n"
   ]
  },
  {
   "cell_type": "code",
   "execution_count": 238,
   "metadata": {
    "collapsed": false
   },
   "outputs": [
    {
     "data": {
      "text/plain": [
       "1"
      ]
     },
     "execution_count": 238,
     "metadata": {},
     "output_type": "execute_result"
    }
   ],
   "source": []
  },
  {
   "cell_type": "code",
   "execution_count": 299,
   "metadata": {
    "collapsed": false
   },
   "outputs": [
    {
     "name": "stdout",
     "output_type": "stream",
     "text": [
      "transfer 1 # of airports covered =  402\n",
      "# of airports =  7184\n",
      "transfer 2 # of airports covered =  1857\n",
      "# of airports =  7184\n",
      "transfer 3 # of airports covered =  3056\n",
      "# of airports =  7184\n",
      "transfer 4 # of airports covered =  3300\n",
      "# of airports =  7184\n",
      "transfer 5 # of airports covered =  3357\n",
      "# of airports =  7184\n",
      "transfer 6 # of airports covered =  3373\n",
      "# of airports =  7184\n",
      "transfer 7 # of airports covered =  3377\n",
      "# of airports =  7184\n",
      "transfer 8 # of airports covered =  3378\n",
      "# of airports =  7184\n",
      "transfer 9 # of airports covered =  3378\n",
      "# of airports =  7184\n"
     ]
    },
    {
     "ename": "NameError",
     "evalue": "name 'end' is not defined",
     "output_type": "error",
     "traceback": [
      "\u001b[0;31m---------------------------------------------------------------------------\u001b[0m",
      "\u001b[0;31mNameError\u001b[0m                                 Traceback (most recent call last)",
      "\u001b[0;32m<ipython-input-299-ae09165cbed0>\u001b[0m in \u001b[0;36m<module>\u001b[0;34m()\u001b[0m\n\u001b[1;32m     13\u001b[0m     \u001b[0mi\u001b[0m \u001b[1;33m=\u001b[0m \u001b[0mi\u001b[0m \u001b[1;33m+\u001b[0m \u001b[1;36m1\u001b[0m\u001b[1;33m\u001b[0m\u001b[0m\n\u001b[1;32m     14\u001b[0m \u001b[1;32melse\u001b[0m\u001b[1;33m:\u001b[0m\u001b[1;33m\u001b[0m\u001b[0m\n\u001b[0;32m---> 15\u001b[0;31m     \u001b[0mend\u001b[0m\u001b[1;33m\u001b[0m\u001b[0m\n\u001b[0m",
      "\u001b[0;31mNameError\u001b[0m: name 'end' is not defined"
     ]
    }
   ],
   "source": [
    "# number of transfers is one less than what is spat out\n",
    "i = 1\n",
    "\n",
    "\n",
    "lexi = set(lex_routes.dest)\n",
    "\n",
    "while len(lexi) != len(airports) and i != 10:\n",
    "    lex_i = routes.loc[routes['source'].isin(lexi)]\n",
    "    lex_i = set(lex_i.dest)\n",
    "    lexi = lexi.union(lex_i)\n",
    "    print('transfer',i,'# of airports covered = ',len(lexi))\n",
    "    print('# of airports = ',len(airports))\n",
    "    i = i + 1\n",
    "else:\n",
    "    end\n"
   ]
  },
  {
   "cell_type": "code",
   "execution_count": 318,
   "metadata": {
    "collapsed": false
   },
   "outputs": [
    {
     "data": {
      "text/plain": [
       "Index(['airline', 'airline_id', 'source', 'source_id', 'dest', 'dest_id',\n",
       "       'codeshare', 'stops', 'equipment'],\n",
       "      dtype='object')"
      ]
     },
     "execution_count": 318,
     "metadata": {},
     "output_type": "execute_result"
    }
   ],
   "source": [
    "routes.columns"
   ]
  },
  {
   "cell_type": "code",
   "execution_count": 314,
   "metadata": {
    "collapsed": false
   },
   "outputs": [
    {
     "data": {
      "text/plain": [
       "Index(['airline', 'airline_id', 'source_x', 'source_id', 'dest', 'dest_id',\n",
       "       'codeshare', 'stops', 'equipment', 'id_source', 'name_source',\n",
       "       'city_source', 'country_source', 'iata_source', 'icao_source',\n",
       "       'latitude_source', 'longitude_source', 'altitude_source',\n",
       "       'timezone_source', 'dst_source', 'tz_source', 'type_source', 'source_y',\n",
       "       'id_dest', 'name_dest', 'city_dest', 'country_dest', 'iata_dest',\n",
       "       'icao_dest', 'latitude_dest', 'longitude_dest', 'altitude_dest',\n",
       "       'timezone_dest', 'dst_dest', 'tz_dest', 'type_dest', 'source'],\n",
       "      dtype='object')"
      ]
     },
     "execution_count": 314,
     "metadata": {},
     "output_type": "execute_result"
    }
   ],
   "source": [
    "lex_routes.columns"
   ]
  },
  {
   "cell_type": "code",
   "execution_count": 320,
   "metadata": {
    "collapsed": false
   },
   "outputs": [
    {
     "name": "stdout",
     "output_type": "stream",
     "text": [
      "13\n",
      "{'IAH', 'LGA', 'SFB', 'DTW', 'ORD', 'PIE', 'DFW', 'FLL', 'PGD', 'DCA', 'MSP', 'ATL', 'CLT'}\n"
     ]
    }
   ],
   "source": [
    "\n",
    "list_set = set(lex_routes.dest)\n",
    "print(len(list_set))\n",
    "print(list_set)\n",
    "routes.select?"
   ]
  },
  {
   "cell_type": "code",
   "execution_count": 316,
   "metadata": {
    "collapsed": false
   },
   "outputs": [
    {
     "name": "stdout",
     "output_type": "stream",
     "text": [
      "915\n"
     ]
    },
    {
     "data": {
      "text/plain": [
       "Index(['airline', 'airline_id', 'source', 'source_id', 'dest', 'dest_id',\n",
       "       'codeshare', 'stops', 'equipment'],\n",
       "      dtype='object')"
      ]
     },
     "execution_count": 316,
     "metadata": {},
     "output_type": "execute_result"
    }
   ],
   "source": [
    "lex1_set = routes.loc[routes['source'].isin(list_set)]\n",
    "alt_routes = lex1_set[(lex1_set['source']==\"ATL\")]\n",
    "print(len(alt_routes))\n",
    "len(lex1_set.source == 'ATL')"
   ]
  },
  {
   "cell_type": "code",
   "execution_count": 332,
   "metadata": {
    "collapsed": false
   },
   "outputs": [
    {
     "ename": "AttributeError",
     "evalue": "'Series' object has no attribute 'query'",
     "output_type": "error",
     "traceback": [
      "\u001b[0;31m---------------------------------------------------------------------------\u001b[0m",
      "\u001b[0;31mAttributeError\u001b[0m                            Traceback (most recent call last)",
      "\u001b[0;32m<ipython-input-332-0daf7c7f6367>\u001b[0m in \u001b[0;36m<module>\u001b[0;34m()\u001b[0m\n\u001b[0;32m----> 1\u001b[0;31m \u001b[0mlex1_set\u001b[0m\u001b[1;33m.\u001b[0m\u001b[0msource\u001b[0m\u001b[1;33m.\u001b[0m\u001b[0mquery\u001b[0m\u001b[1;33m(\u001b[0m\u001b[0mlist_set\u001b[0m\u001b[1;33m)\u001b[0m\u001b[1;33m\u001b[0m\u001b[0m\n\u001b[0m",
      "\u001b[0;32mC:\\Anaconda\\lib\\site-packages\\pandas\\core\\generic.py\u001b[0m in \u001b[0;36m__getattr__\u001b[0;34m(self, name)\u001b[0m\n\u001b[1;32m   2670\u001b[0m             \u001b[1;32mif\u001b[0m \u001b[0mname\u001b[0m \u001b[1;32min\u001b[0m \u001b[0mself\u001b[0m\u001b[1;33m.\u001b[0m\u001b[0m_info_axis\u001b[0m\u001b[1;33m:\u001b[0m\u001b[1;33m\u001b[0m\u001b[0m\n\u001b[1;32m   2671\u001b[0m                 \u001b[1;32mreturn\u001b[0m \u001b[0mself\u001b[0m\u001b[1;33m[\u001b[0m\u001b[0mname\u001b[0m\u001b[1;33m]\u001b[0m\u001b[1;33m\u001b[0m\u001b[0m\n\u001b[0;32m-> 2672\u001b[0;31m             \u001b[1;32mreturn\u001b[0m \u001b[0mobject\u001b[0m\u001b[1;33m.\u001b[0m\u001b[0m__getattribute__\u001b[0m\u001b[1;33m(\u001b[0m\u001b[0mself\u001b[0m\u001b[1;33m,\u001b[0m \u001b[0mname\u001b[0m\u001b[1;33m)\u001b[0m\u001b[1;33m\u001b[0m\u001b[0m\n\u001b[0m\u001b[1;32m   2673\u001b[0m \u001b[1;33m\u001b[0m\u001b[0m\n\u001b[1;32m   2674\u001b[0m     \u001b[1;32mdef\u001b[0m \u001b[0m__setattr__\u001b[0m\u001b[1;33m(\u001b[0m\u001b[0mself\u001b[0m\u001b[1;33m,\u001b[0m \u001b[0mname\u001b[0m\u001b[1;33m,\u001b[0m \u001b[0mvalue\u001b[0m\u001b[1;33m)\u001b[0m\u001b[1;33m:\u001b[0m\u001b[1;33m\u001b[0m\u001b[0m\n",
      "\u001b[0;31mAttributeError\u001b[0m: 'Series' object has no attribute 'query'"
     ]
    }
   ],
   "source": []
  },
  {
   "cell_type": "code",
   "execution_count": 327,
   "metadata": {
    "collapsed": false
   },
   "outputs": [],
   "source": [
    "lex1_set = routes.source.equals?"
   ]
  },
  {
   "cell_type": "code",
   "execution_count": 328,
   "metadata": {
    "collapsed": true
   },
   "outputs": [],
   "source": [
    "lex1_set = routes.source.get_values?"
   ]
  },
  {
   "cell_type": "code",
   "execution_count": 330,
   "metadata": {
    "collapsed": false
   },
   "outputs": [],
   "source": [
    "lex1_set = routes.source.where?"
   ]
  },
  {
   "cell_type": "code",
   "execution_count": null,
   "metadata": {
    "collapsed": true
   },
   "outputs": [],
   "source": []
  },
  {
   "cell_type": "code",
   "execution_count": 305,
   "metadata": {
    "collapsed": false
   },
   "outputs": [
    {
     "data": {
      "text/plain": [
       "Index(['airline', 'airline_id', 'source_source', 'source_id', 'dest',\n",
       "       'dest_id', 'codeshare', 'stops', 'equipment', 'one_transfer', 'id',\n",
       "       'name', 'city', 'country', 'iata', 'icao', 'latitude', 'longitude',\n",
       "       'altitude', 'timezone', 'dst', 'tz', 'type', 'source_dest'],\n",
       "      dtype='object')"
      ]
     },
     "execution_count": 305,
     "metadata": {},
     "output_type": "execute_result"
    }
   ],
   "source": [
    "#find the routes leaving the airports in the dest column of lex_routes \n",
    "lex1_set = routes.loc[routes['source'].isin(list_set)]\n",
    "\n",
    "lex1_set = lex1_set.drop_duplicates(subset = 'dest')\n",
    "lex1_set['one_transfer'] = 'Y'\n",
    "\n",
    "#df = pd.merge(airports,lex1_set,left_on = 'id',right_on = 'dest_id', how = 'right' ,sort = True)\n",
    "df = pd.merge(lex1_set, airports, \n",
    "                      left_on='dest_id', \n",
    "                      right_on='id', \n",
    "                      how='left', \n",
    "                      suffixes=['_source','_dest'])\n",
    "df.columns\n",
    "\n",
    "\n"
   ]
  },
  {
   "cell_type": "code",
   "execution_count": 295,
   "metadata": {
    "collapsed": false
   },
   "outputs": [
    {
     "data": {
      "text/html": [
       "<div>\n",
       "<table border=\"1\" class=\"dataframe\">\n",
       "  <thead>\n",
       "    <tr style=\"text-align: right;\">\n",
       "      <th></th>\n",
       "      <th>airline</th>\n",
       "      <th>airline_id</th>\n",
       "      <th>source_source</th>\n",
       "      <th>source_id</th>\n",
       "      <th>dest</th>\n",
       "      <th>dest_id</th>\n",
       "      <th>codeshare</th>\n",
       "      <th>stops</th>\n",
       "      <th>equipment</th>\n",
       "      <th>one_transfer</th>\n",
       "      <th>...</th>\n",
       "      <th>iata</th>\n",
       "      <th>icao</th>\n",
       "      <th>latitude</th>\n",
       "      <th>longitude</th>\n",
       "      <th>altitude</th>\n",
       "      <th>timezone</th>\n",
       "      <th>dst</th>\n",
       "      <th>tz</th>\n",
       "      <th>type</th>\n",
       "      <th>source_dest</th>\n",
       "    </tr>\n",
       "  </thead>\n",
       "  <tbody>\n",
       "    <tr>\n",
       "      <th>0</th>\n",
       "      <td>3E</td>\n",
       "      <td>10739.0</td>\n",
       "      <td>ORD</td>\n",
       "      <td>3830.0</td>\n",
       "      <td>BRL</td>\n",
       "      <td>5726.0</td>\n",
       "      <td>NaN</td>\n",
       "      <td>0</td>\n",
       "      <td>CNC</td>\n",
       "      <td>Y</td>\n",
       "      <td>...</td>\n",
       "      <td>BRL</td>\n",
       "      <td>KBRL</td>\n",
       "      <td>40.783199</td>\n",
       "      <td>-91.125504</td>\n",
       "      <td>698.0</td>\n",
       "      <td>-6.0</td>\n",
       "      <td>A</td>\n",
       "      <td>America/Chicago</td>\n",
       "      <td>airport</td>\n",
       "      <td>OurAirports</td>\n",
       "    </tr>\n",
       "    <tr>\n",
       "      <th>1</th>\n",
       "      <td>3E</td>\n",
       "      <td>10739.0</td>\n",
       "      <td>ORD</td>\n",
       "      <td>3830.0</td>\n",
       "      <td>DEC</td>\n",
       "      <td>4042.0</td>\n",
       "      <td>NaN</td>\n",
       "      <td>0</td>\n",
       "      <td>CNC</td>\n",
       "      <td>Y</td>\n",
       "      <td>...</td>\n",
       "      <td>DEC</td>\n",
       "      <td>KDEC</td>\n",
       "      <td>39.834599</td>\n",
       "      <td>-88.865700</td>\n",
       "      <td>682.0</td>\n",
       "      <td>-6.0</td>\n",
       "      <td>A</td>\n",
       "      <td>America/Chicago</td>\n",
       "      <td>airport</td>\n",
       "      <td>OurAirports</td>\n",
       "    </tr>\n",
       "    <tr>\n",
       "      <th>2</th>\n",
       "      <td>3M</td>\n",
       "      <td>20710.0</td>\n",
       "      <td>ATL</td>\n",
       "      <td>3682.0</td>\n",
       "      <td>LWB</td>\n",
       "      <td>6958.0</td>\n",
       "      <td>NaN</td>\n",
       "      <td>0</td>\n",
       "      <td>SF3</td>\n",
       "      <td>Y</td>\n",
       "      <td>...</td>\n",
       "      <td>LWB</td>\n",
       "      <td>KLWB</td>\n",
       "      <td>37.858299</td>\n",
       "      <td>-80.399498</td>\n",
       "      <td>2302.0</td>\n",
       "      <td>-5.0</td>\n",
       "      <td>U</td>\n",
       "      <td>America/New_York</td>\n",
       "      <td>airport</td>\n",
       "      <td>OurAirports</td>\n",
       "    </tr>\n",
       "    <tr>\n",
       "      <th>3</th>\n",
       "      <td>3M</td>\n",
       "      <td>20710.0</td>\n",
       "      <td>ATL</td>\n",
       "      <td>3682.0</td>\n",
       "      <td>MCN</td>\n",
       "      <td>3754.0</td>\n",
       "      <td>NaN</td>\n",
       "      <td>0</td>\n",
       "      <td>SF3</td>\n",
       "      <td>Y</td>\n",
       "      <td>...</td>\n",
       "      <td>MCN</td>\n",
       "      <td>KMCN</td>\n",
       "      <td>32.692799</td>\n",
       "      <td>-83.649200</td>\n",
       "      <td>354.0</td>\n",
       "      <td>-5.0</td>\n",
       "      <td>A</td>\n",
       "      <td>America/New_York</td>\n",
       "      <td>airport</td>\n",
       "      <td>OurAirports</td>\n",
       "    </tr>\n",
       "    <tr>\n",
       "      <th>4</th>\n",
       "      <td>3M</td>\n",
       "      <td>20710.0</td>\n",
       "      <td>ATL</td>\n",
       "      <td>3682.0</td>\n",
       "      <td>MEI</td>\n",
       "      <td>4335.0</td>\n",
       "      <td>NaN</td>\n",
       "      <td>0</td>\n",
       "      <td>SF3</td>\n",
       "      <td>Y</td>\n",
       "      <td>...</td>\n",
       "      <td>MEI</td>\n",
       "      <td>KMEI</td>\n",
       "      <td>32.332600</td>\n",
       "      <td>-88.751900</td>\n",
       "      <td>297.0</td>\n",
       "      <td>-6.0</td>\n",
       "      <td>A</td>\n",
       "      <td>America/Chicago</td>\n",
       "      <td>airport</td>\n",
       "      <td>OurAirports</td>\n",
       "    </tr>\n",
       "  </tbody>\n",
       "</table>\n",
       "<p>5 rows × 24 columns</p>\n",
       "</div>"
      ],
      "text/plain": [
       "  airline  airline_id source_source  source_id dest  dest_id codeshare  stops  \\\n",
       "0      3E     10739.0           ORD     3830.0  BRL   5726.0       NaN      0   \n",
       "1      3E     10739.0           ORD     3830.0  DEC   4042.0       NaN      0   \n",
       "2      3M     20710.0           ATL     3682.0  LWB   6958.0       NaN      0   \n",
       "3      3M     20710.0           ATL     3682.0  MCN   3754.0       NaN      0   \n",
       "4      3M     20710.0           ATL     3682.0  MEI   4335.0       NaN      0   \n",
       "\n",
       "  equipment one_transfer     ...       iata  icao   latitude  longitude  \\\n",
       "0       CNC            Y     ...        BRL  KBRL  40.783199 -91.125504   \n",
       "1       CNC            Y     ...        DEC  KDEC  39.834599 -88.865700   \n",
       "2       SF3            Y     ...        LWB  KLWB  37.858299 -80.399498   \n",
       "3       SF3            Y     ...        MCN  KMCN  32.692799 -83.649200   \n",
       "4       SF3            Y     ...        MEI  KMEI  32.332600 -88.751900   \n",
       "\n",
       "  altitude timezone  dst                tz     type  source_dest  \n",
       "0    698.0     -6.0    A   America/Chicago  airport  OurAirports  \n",
       "1    682.0     -6.0    A   America/Chicago  airport  OurAirports  \n",
       "2   2302.0     -5.0    U  America/New_York  airport  OurAirports  \n",
       "3    354.0     -5.0    A  America/New_York  airport  OurAirports  \n",
       "4    297.0     -6.0    A   America/Chicago  airport  OurAirports  \n",
       "\n",
       "[5 rows x 24 columns]"
      ]
     },
     "execution_count": 295,
     "metadata": {},
     "output_type": "execute_result"
    }
   ],
   "source": [
    "df.head()"
   ]
  },
  {
   "cell_type": "code",
   "execution_count": 279,
   "metadata": {
    "collapsed": false
   },
   "outputs": [
    {
     "ename": "KeyError",
     "evalue": "'source'",
     "output_type": "error",
     "traceback": [
      "\u001b[0;31m---------------------------------------------------------------------------\u001b[0m",
      "\u001b[0;31mTypeError\u001b[0m                                 Traceback (most recent call last)",
      "\u001b[0;32mC:\\Anaconda\\lib\\site-packages\\pandas\\indexes\\base.py\u001b[0m in \u001b[0;36mget_value\u001b[0;34m(self, series, key)\u001b[0m\n\u001b[1;32m   1985\u001b[0m             \u001b[1;32mtry\u001b[0m\u001b[1;33m:\u001b[0m\u001b[1;33m\u001b[0m\u001b[0m\n\u001b[0;32m-> 1986\u001b[0;31m                 \u001b[1;32mreturn\u001b[0m \u001b[0mtslib\u001b[0m\u001b[1;33m.\u001b[0m\u001b[0mget_value_box\u001b[0m\u001b[1;33m(\u001b[0m\u001b[0ms\u001b[0m\u001b[1;33m,\u001b[0m \u001b[0mkey\u001b[0m\u001b[1;33m)\u001b[0m\u001b[1;33m\u001b[0m\u001b[0m\n\u001b[0m\u001b[1;32m   1987\u001b[0m             \u001b[1;32mexcept\u001b[0m \u001b[0mIndexError\u001b[0m\u001b[1;33m:\u001b[0m\u001b[1;33m\u001b[0m\u001b[0m\n",
      "\u001b[0;32mpandas\\tslib.pyx\u001b[0m in \u001b[0;36mpandas.tslib.get_value_box (pandas\\tslib.c:17017)\u001b[0;34m()\u001b[0m\n",
      "\u001b[0;32mpandas\\tslib.pyx\u001b[0m in \u001b[0;36mpandas.tslib.get_value_box (pandas\\tslib.c:16691)\u001b[0;34m()\u001b[0m\n",
      "\u001b[0;31mTypeError\u001b[0m: 'str' object cannot be interpreted as an integer",
      "\nDuring handling of the above exception, another exception occurred:\n",
      "\u001b[0;31mKeyError\u001b[0m                                  Traceback (most recent call last)",
      "\u001b[0;32m<ipython-input-279-395661817a21>\u001b[0m in \u001b[0;36m<module>\u001b[0;34m()\u001b[0m\n\u001b[1;32m      5\u001b[0m \u001b[1;32mfor\u001b[0m \u001b[0mname\u001b[0m\u001b[1;33m,\u001b[0m \u001b[0mrow\u001b[0m \u001b[1;32min\u001b[0m \u001b[0mdf\u001b[0m\u001b[1;33m.\u001b[0m\u001b[0miterrows\u001b[0m\u001b[1;33m(\u001b[0m\u001b[1;33m)\u001b[0m\u001b[1;33m:\u001b[0m\u001b[1;33m\u001b[0m\u001b[0m\n\u001b[1;32m      6\u001b[0m \u001b[1;33m\u001b[0m\u001b[0m\n\u001b[0;32m----> 7\u001b[0;31m     \u001b[1;32mif\u001b[0m \u001b[0mrow\u001b[0m\u001b[1;33m[\u001b[0m\u001b[1;34m'source'\u001b[0m\u001b[1;33m]\u001b[0m \u001b[1;32mnot\u001b[0m \u001b[1;32min\u001b[0m \u001b[0mairport_set\u001b[0m\u001b[1;33m:\u001b[0m\u001b[1;33m\u001b[0m\u001b[0m\n\u001b[0m\u001b[1;32m      8\u001b[0m         \u001b[0mpopup_string\u001b[0m \u001b[1;33m=\u001b[0m \u001b[0mrow\u001b[0m\u001b[1;33m[\u001b[0m\u001b[1;34m'city_source'\u001b[0m\u001b[1;33m]\u001b[0m \u001b[1;33m+\u001b[0m \u001b[1;34m' ('\u001b[0m \u001b[1;33m+\u001b[0m \u001b[0mrow\u001b[0m\u001b[1;33m[\u001b[0m\u001b[1;34m'source'\u001b[0m\u001b[1;33m]\u001b[0m \u001b[1;33m+\u001b[0m \u001b[1;34m')'\u001b[0m\u001b[1;33m\u001b[0m\u001b[0m\n\u001b[1;32m      9\u001b[0m         marker = folium.CircleMarker([row[\"latitude_source\"], row[\"longitude_source\"]], \n",
      "\u001b[0;32mC:\\Anaconda\\lib\\site-packages\\pandas\\core\\series.py\u001b[0m in \u001b[0;36m__getitem__\u001b[0;34m(self, key)\u001b[0m\n\u001b[1;32m    581\u001b[0m         \u001b[0mkey\u001b[0m \u001b[1;33m=\u001b[0m \u001b[0mcom\u001b[0m\u001b[1;33m.\u001b[0m\u001b[0m_apply_if_callable\u001b[0m\u001b[1;33m(\u001b[0m\u001b[0mkey\u001b[0m\u001b[1;33m,\u001b[0m \u001b[0mself\u001b[0m\u001b[1;33m)\u001b[0m\u001b[1;33m\u001b[0m\u001b[0m\n\u001b[1;32m    582\u001b[0m         \u001b[1;32mtry\u001b[0m\u001b[1;33m:\u001b[0m\u001b[1;33m\u001b[0m\u001b[0m\n\u001b[0;32m--> 583\u001b[0;31m             \u001b[0mresult\u001b[0m \u001b[1;33m=\u001b[0m \u001b[0mself\u001b[0m\u001b[1;33m.\u001b[0m\u001b[0mindex\u001b[0m\u001b[1;33m.\u001b[0m\u001b[0mget_value\u001b[0m\u001b[1;33m(\u001b[0m\u001b[0mself\u001b[0m\u001b[1;33m,\u001b[0m \u001b[0mkey\u001b[0m\u001b[1;33m)\u001b[0m\u001b[1;33m\u001b[0m\u001b[0m\n\u001b[0m\u001b[1;32m    584\u001b[0m \u001b[1;33m\u001b[0m\u001b[0m\n\u001b[1;32m    585\u001b[0m             \u001b[1;32mif\u001b[0m \u001b[1;32mnot\u001b[0m \u001b[0mlib\u001b[0m\u001b[1;33m.\u001b[0m\u001b[0misscalar\u001b[0m\u001b[1;33m(\u001b[0m\u001b[0mresult\u001b[0m\u001b[1;33m)\u001b[0m\u001b[1;33m:\u001b[0m\u001b[1;33m\u001b[0m\u001b[0m\n",
      "\u001b[0;32mC:\\Anaconda\\lib\\site-packages\\pandas\\indexes\\base.py\u001b[0m in \u001b[0;36mget_value\u001b[0;34m(self, series, key)\u001b[0m\n\u001b[1;32m   1992\u001b[0m                     \u001b[1;32mraise\u001b[0m \u001b[0mInvalidIndexError\u001b[0m\u001b[1;33m(\u001b[0m\u001b[0mkey\u001b[0m\u001b[1;33m)\u001b[0m\u001b[1;33m\u001b[0m\u001b[0m\n\u001b[1;32m   1993\u001b[0m                 \u001b[1;32melse\u001b[0m\u001b[1;33m:\u001b[0m\u001b[1;33m\u001b[0m\u001b[0m\n\u001b[0;32m-> 1994\u001b[0;31m                     \u001b[1;32mraise\u001b[0m \u001b[0me1\u001b[0m\u001b[1;33m\u001b[0m\u001b[0m\n\u001b[0m\u001b[1;32m   1995\u001b[0m             \u001b[1;32mexcept\u001b[0m \u001b[0mException\u001b[0m\u001b[1;33m:\u001b[0m  \u001b[1;31m# pragma: no cover\u001b[0m\u001b[1;33m\u001b[0m\u001b[0m\n\u001b[1;32m   1996\u001b[0m                 \u001b[1;32mraise\u001b[0m \u001b[0me1\u001b[0m\u001b[1;33m\u001b[0m\u001b[0m\n",
      "\u001b[0;32mC:\\Anaconda\\lib\\site-packages\\pandas\\indexes\\base.py\u001b[0m in \u001b[0;36mget_value\u001b[0;34m(self, series, key)\u001b[0m\n\u001b[1;32m   1978\u001b[0m         \u001b[1;32mtry\u001b[0m\u001b[1;33m:\u001b[0m\u001b[1;33m\u001b[0m\u001b[0m\n\u001b[1;32m   1979\u001b[0m             return self._engine.get_value(s, k,\n\u001b[0;32m-> 1980\u001b[0;31m                                           tz=getattr(series.dtype, 'tz', None))\n\u001b[0m\u001b[1;32m   1981\u001b[0m         \u001b[1;32mexcept\u001b[0m \u001b[0mKeyError\u001b[0m \u001b[1;32mas\u001b[0m \u001b[0me1\u001b[0m\u001b[1;33m:\u001b[0m\u001b[1;33m\u001b[0m\u001b[0m\n\u001b[1;32m   1982\u001b[0m             \u001b[1;32mif\u001b[0m \u001b[0mlen\u001b[0m\u001b[1;33m(\u001b[0m\u001b[0mself\u001b[0m\u001b[1;33m)\u001b[0m \u001b[1;33m>\u001b[0m \u001b[1;36m0\u001b[0m \u001b[1;32mand\u001b[0m \u001b[0mself\u001b[0m\u001b[1;33m.\u001b[0m\u001b[0minferred_type\u001b[0m \u001b[1;32min\u001b[0m \u001b[1;33m[\u001b[0m\u001b[1;34m'integer'\u001b[0m\u001b[1;33m,\u001b[0m \u001b[1;34m'boolean'\u001b[0m\u001b[1;33m]\u001b[0m\u001b[1;33m:\u001b[0m\u001b[1;33m\u001b[0m\u001b[0m\n",
      "\u001b[0;32mpandas\\index.pyx\u001b[0m in \u001b[0;36mpandas.index.IndexEngine.get_value (pandas\\index.c:3332)\u001b[0;34m()\u001b[0m\n",
      "\u001b[0;32mpandas\\index.pyx\u001b[0m in \u001b[0;36mpandas.index.IndexEngine.get_value (pandas\\index.c:3035)\u001b[0;34m()\u001b[0m\n",
      "\u001b[0;32mpandas\\index.pyx\u001b[0m in \u001b[0;36mpandas.index.IndexEngine.get_loc (pandas\\index.c:4018)\u001b[0;34m()\u001b[0m\n",
      "\u001b[0;32mpandas\\hashtable.pyx\u001b[0m in \u001b[0;36mpandas.hashtable.PyObjectHashTable.get_item (pandas\\hashtable.c:12368)\u001b[0;34m()\u001b[0m\n",
      "\u001b[0;32mpandas\\hashtable.pyx\u001b[0m in \u001b[0;36mpandas.hashtable.PyObjectHashTable.get_item (pandas\\hashtable.c:12322)\u001b[0;34m()\u001b[0m\n",
      "\u001b[0;31mKeyError\u001b[0m: 'source'"
     ]
    }
   ],
   "source": [
    "airport_set = set()\n",
    "route_set = set()\n",
    "\n",
    "# Make sure we don't add duplicates, especially for the origins\n",
    "for name, row in df.iterrows():\n",
    "    \n",
    "    if row['source'] not in airport_set: \n",
    "        popup_string = row['source_source'] + ' (' + row['source'] + ')'\n",
    "        marker = folium.CircleMarker([row[\"latitude\"], row[\"longitude\"]], \n",
    "                                     color='DarkCyan',\n",
    "                                     fill_color='DarkCyan', \n",
    "                                     radius=5, popup=popup_string)\n",
    "        marker.add_to(lex_air)\n",
    "        airport_set.add(row['source'])\n",
    "        \n",
    "   \n",
    "    \n",
    "    # PolyLine will accept a whole list of tuples, not just two\n",
    "    if (row['source'],row['dest']) not in route_set:            \n",
    "        popup_string = row['source'] + '-' + row['dest']       \n",
    "        \n",
    "        gc_points = getGreatCirclePoints(row[\"latitude_source\"], \n",
    "                                         row[\"longitude_source\"], \n",
    "                                         row[\"latitude_dest\"], \n",
    "                                         row[\"longitude_dest\"])\n",
    "        \n",
    "        line = folium.PolyLine(gc_points, weight=2, popup=popup_string)\n",
    "        line.add_to(lex_air)\n",
    "        route_set.add((row['source'],row['dest']))\n",
    "        \n",
    "lex_air"
   ]
  },
  {
   "cell_type": "code",
   "execution_count": 162,
   "metadata": {
    "collapsed": false
   },
   "outputs": [
    {
     "data": {
      "text/plain": [
       "66"
      ]
     },
     "execution_count": 162,
     "metadata": {},
     "output_type": "execute_result"
    }
   ],
   "source": [
    "list_transfer2 = set(lex_transfer.dest)\n",
    "len(list_transfer2)"
   ]
  },
  {
   "cell_type": "code",
   "execution_count": 135,
   "metadata": {
    "collapsed": false
   },
   "outputs": [
    {
     "name": "stderr",
     "output_type": "stream",
     "text": [
      "C:\\Anaconda\\lib\\site-packages\\ipykernel\\__main__.py:3: SettingWithCopyWarning: \n",
      "A value is trying to be set on a copy of a slice from a DataFrame.\n",
      "Try using .loc[row_indexer,col_indexer] = value instead\n",
      "\n",
      "See the caveats in the documentation: http://pandas.pydata.org/pandas-docs/stable/indexing.html#indexing-view-versus-copy\n",
      "  app.launch_new_instance()\n",
      "C:\\Anaconda\\lib\\site-packages\\ipykernel\\__main__.py:4: SettingWithCopyWarning: \n",
      "A value is trying to be set on a copy of a slice from a DataFrame.\n",
      "Try using .loc[row_indexer,col_indexer] = value instead\n",
      "\n",
      "See the caveats in the documentation: http://pandas.pydata.org/pandas-docs/stable/indexing.html#indexing-view-versus-copy\n"
     ]
    },
    {
     "data": {
      "text/html": [
       "<div>\n",
       "<table border=\"1\" class=\"dataframe\">\n",
       "  <thead>\n",
       "    <tr style=\"text-align: right;\">\n",
       "      <th></th>\n",
       "      <th>airline</th>\n",
       "      <th>airline_id</th>\n",
       "      <th>source</th>\n",
       "      <th>source_id</th>\n",
       "      <th>dest</th>\n",
       "      <th>dest_id</th>\n",
       "      <th>codeshare</th>\n",
       "      <th>stops</th>\n",
       "      <th>equipment</th>\n",
       "      <th>one_transfer</th>\n",
       "      <th>two_transfer</th>\n",
       "    </tr>\n",
       "  </thead>\n",
       "  <tbody>\n",
       "    <tr>\n",
       "      <th>112</th>\n",
       "      <td>2K</td>\n",
       "      <td>1338.0</td>\n",
       "      <td>UIO</td>\n",
       "      <td>2688.0</td>\n",
       "      <td>BOG</td>\n",
       "      <td>2709.0</td>\n",
       "      <td>NaN</td>\n",
       "      <td>0</td>\n",
       "      <td>319 320</td>\n",
       "      <td>Y</td>\n",
       "      <td>Y</td>\n",
       "    </tr>\n",
       "    <tr>\n",
       "      <th>113</th>\n",
       "      <td>2K</td>\n",
       "      <td>1338.0</td>\n",
       "      <td>UIO</td>\n",
       "      <td>2688.0</td>\n",
       "      <td>GYE</td>\n",
       "      <td>2673.0</td>\n",
       "      <td>NaN</td>\n",
       "      <td>0</td>\n",
       "      <td>319</td>\n",
       "      <td>Y</td>\n",
       "      <td>Y</td>\n",
       "    </tr>\n",
       "    <tr>\n",
       "      <th>114</th>\n",
       "      <td>2K</td>\n",
       "      <td>1338.0</td>\n",
       "      <td>UIO</td>\n",
       "      <td>2688.0</td>\n",
       "      <td>OCC</td>\n",
       "      <td>2670.0</td>\n",
       "      <td>NaN</td>\n",
       "      <td>0</td>\n",
       "      <td>319</td>\n",
       "      <td>Y</td>\n",
       "      <td>Y</td>\n",
       "    </tr>\n",
       "    <tr>\n",
       "      <th>160</th>\n",
       "      <td>2N</td>\n",
       "      <td>3652.0</td>\n",
       "      <td>OSL</td>\n",
       "      <td>644.0</td>\n",
       "      <td>VXO</td>\n",
       "      <td>711.0</td>\n",
       "      <td>NaN</td>\n",
       "      <td>0</td>\n",
       "      <td>SF3</td>\n",
       "      <td>Y</td>\n",
       "      <td>Y</td>\n",
       "    </tr>\n",
       "    <tr>\n",
       "      <th>217</th>\n",
       "      <td>2Z</td>\n",
       "      <td>1729.0</td>\n",
       "      <td>BSB</td>\n",
       "      <td>2531.0</td>\n",
       "      <td>BRA</td>\n",
       "      <td>7373.0</td>\n",
       "      <td>NaN</td>\n",
       "      <td>0</td>\n",
       "      <td>AT7</td>\n",
       "      <td>Y</td>\n",
       "      <td>Y</td>\n",
       "    </tr>\n",
       "  </tbody>\n",
       "</table>\n",
       "</div>"
      ],
      "text/plain": [
       "    airline  airline_id source  source_id dest  dest_id codeshare  stops  \\\n",
       "112      2K      1338.0    UIO     2688.0  BOG   2709.0       NaN      0   \n",
       "113      2K      1338.0    UIO     2688.0  GYE   2673.0       NaN      0   \n",
       "114      2K      1338.0    UIO     2688.0  OCC   2670.0       NaN      0   \n",
       "160      2N      3652.0    OSL      644.0  VXO    711.0       NaN      0   \n",
       "217      2Z      1729.0    BSB     2531.0  BRA   7373.0       NaN      0   \n",
       "\n",
       "    equipment one_transfer two_transfer  \n",
       "112   319 320            Y            Y  \n",
       "113       319            Y            Y  \n",
       "114       319            Y            Y  \n",
       "160       SF3            Y            Y  \n",
       "217       AT7            Y            Y  "
      ]
     },
     "execution_count": 135,
     "metadata": {},
     "output_type": "execute_result"
    }
   ],
   "source": [
    "lex_transfer2 = set(routes.loc[routes['source'].isin(list_transfer2)])\n",
    "lex_transfer2.head()\n",
    "lex_transfer2['one_transfer'] = 'Y'\n",
    "lex_transfer2['two_transfer'] = 'Y'\n",
    "lex_transfer2.head()"
   ]
  },
  {
   "cell_type": "code",
   "execution_count": 141,
   "metadata": {
    "collapsed": false,
    "scrolled": true
   },
   "outputs": [
    {
     "name": "stdout",
     "output_type": "stream",
     "text": [
      "463\n",
      "7184\n",
      "463\n"
     ]
    }
   ],
   "source": [
    "lex_transfer2drop = lex_transfer2.drop_duplicates(subset = 'dest')\n",
    "print(len(lex_transfer2drop.dest))\n",
    "print(len(airports))\n",
    "list_transfer3 = list(lex_transfer2drop.dest)\n",
    "print(len(list_transfer3))"
   ]
  },
  {
   "cell_type": "code",
   "execution_count": null,
   "metadata": {
    "collapsed": true
   },
   "outputs": [],
   "source": []
  },
  {
   "cell_type": "code",
   "execution_count": 144,
   "metadata": {
    "collapsed": false
   },
   "outputs": [
    {
     "name": "stderr",
     "output_type": "stream",
     "text": [
      "C:\\Anaconda\\lib\\site-packages\\ipykernel\\__main__.py:3: SettingWithCopyWarning: \n",
      "A value is trying to be set on a copy of a slice from a DataFrame.\n",
      "Try using .loc[row_indexer,col_indexer] = value instead\n",
      "\n",
      "See the caveats in the documentation: http://pandas.pydata.org/pandas-docs/stable/indexing.html#indexing-view-versus-copy\n",
      "  app.launch_new_instance()\n",
      "C:\\Anaconda\\lib\\site-packages\\ipykernel\\__main__.py:4: SettingWithCopyWarning: \n",
      "A value is trying to be set on a copy of a slice from a DataFrame.\n",
      "Try using .loc[row_indexer,col_indexer] = value instead\n",
      "\n",
      "See the caveats in the documentation: http://pandas.pydata.org/pandas-docs/stable/indexing.html#indexing-view-versus-copy\n",
      "C:\\Anaconda\\lib\\site-packages\\ipykernel\\__main__.py:5: SettingWithCopyWarning: \n",
      "A value is trying to be set on a copy of a slice from a DataFrame.\n",
      "Try using .loc[row_indexer,col_indexer] = value instead\n",
      "\n",
      "See the caveats in the documentation: http://pandas.pydata.org/pandas-docs/stable/indexing.html#indexing-view-versus-copy\n"
     ]
    },
    {
     "data": {
      "text/html": [
       "<div>\n",
       "<table border=\"1\" class=\"dataframe\">\n",
       "  <thead>\n",
       "    <tr style=\"text-align: right;\">\n",
       "      <th></th>\n",
       "      <th>airline</th>\n",
       "      <th>airline_id</th>\n",
       "      <th>source</th>\n",
       "      <th>source_id</th>\n",
       "      <th>dest</th>\n",
       "      <th>dest_id</th>\n",
       "      <th>codeshare</th>\n",
       "      <th>stops</th>\n",
       "      <th>equipment</th>\n",
       "      <th>one_transfer</th>\n",
       "      <th>two_transfer</th>\n",
       "      <th>three_transfer</th>\n",
       "    </tr>\n",
       "  </thead>\n",
       "  <tbody>\n",
       "    <tr>\n",
       "      <th>20</th>\n",
       "      <td>2B</td>\n",
       "      <td>410.0</td>\n",
       "      <td>LED</td>\n",
       "      <td>2948.0</td>\n",
       "      <td>KZN</td>\n",
       "      <td>2990.0</td>\n",
       "      <td>NaN</td>\n",
       "      <td>0</td>\n",
       "      <td>CR2</td>\n",
       "      <td>Y</td>\n",
       "      <td>Y</td>\n",
       "      <td>Y</td>\n",
       "    </tr>\n",
       "    <tr>\n",
       "      <th>21</th>\n",
       "      <td>2B</td>\n",
       "      <td>410.0</td>\n",
       "      <td>LED</td>\n",
       "      <td>2948.0</td>\n",
       "      <td>NBC</td>\n",
       "      <td>6969.0</td>\n",
       "      <td>NaN</td>\n",
       "      <td>0</td>\n",
       "      <td>CR2</td>\n",
       "      <td>Y</td>\n",
       "      <td>Y</td>\n",
       "      <td>Y</td>\n",
       "    </tr>\n",
       "    <tr>\n",
       "      <th>22</th>\n",
       "      <td>2B</td>\n",
       "      <td>410.0</td>\n",
       "      <td>LED</td>\n",
       "      <td>2948.0</td>\n",
       "      <td>UUA</td>\n",
       "      <td>6160.0</td>\n",
       "      <td>NaN</td>\n",
       "      <td>0</td>\n",
       "      <td>CR2</td>\n",
       "      <td>Y</td>\n",
       "      <td>Y</td>\n",
       "      <td>Y</td>\n",
       "    </tr>\n",
       "    <tr>\n",
       "      <th>69</th>\n",
       "      <td>2I</td>\n",
       "      <td>8359.0</td>\n",
       "      <td>LIM</td>\n",
       "      <td>2789.0</td>\n",
       "      <td>AYP</td>\n",
       "      <td>2786.0</td>\n",
       "      <td>NaN</td>\n",
       "      <td>0</td>\n",
       "      <td>142</td>\n",
       "      <td>Y</td>\n",
       "      <td>Y</td>\n",
       "      <td>Y</td>\n",
       "    </tr>\n",
       "    <tr>\n",
       "      <th>70</th>\n",
       "      <td>2I</td>\n",
       "      <td>8359.0</td>\n",
       "      <td>LIM</td>\n",
       "      <td>2789.0</td>\n",
       "      <td>CUZ</td>\n",
       "      <td>2812.0</td>\n",
       "      <td>NaN</td>\n",
       "      <td>0</td>\n",
       "      <td>142 141</td>\n",
       "      <td>Y</td>\n",
       "      <td>Y</td>\n",
       "      <td>Y</td>\n",
       "    </tr>\n",
       "  </tbody>\n",
       "</table>\n",
       "</div>"
      ],
      "text/plain": [
       "   airline  airline_id source  source_id dest  dest_id codeshare  stops  \\\n",
       "20      2B       410.0    LED     2948.0  KZN   2990.0       NaN      0   \n",
       "21      2B       410.0    LED     2948.0  NBC   6969.0       NaN      0   \n",
       "22      2B       410.0    LED     2948.0  UUA   6160.0       NaN      0   \n",
       "69      2I      8359.0    LIM     2789.0  AYP   2786.0       NaN      0   \n",
       "70      2I      8359.0    LIM     2789.0  CUZ   2812.0       NaN      0   \n",
       "\n",
       "   equipment one_transfer two_transfer three_transfer  \n",
       "20       CR2            Y            Y              Y  \n",
       "21       CR2            Y            Y              Y  \n",
       "22       CR2            Y            Y              Y  \n",
       "69       142            Y            Y              Y  \n",
       "70   142 141            Y            Y              Y  "
      ]
     },
     "execution_count": 144,
     "metadata": {},
     "output_type": "execute_result"
    }
   ],
   "source": [
    "lex_transfer3 = routes.loc[routes['source'].isin(list_transfer3)]\n",
    "lex_transfer3.head()\n",
    "lex_transfer3['one_transfer'] = 'Y'\n",
    "lex_transfer3['two_transfer'] = 'Y'\n",
    "lex_transfer3['three_transfer'] = 'Y'\n",
    "lex_transfer3.head()"
   ]
  },
  {
   "cell_type": "code",
   "execution_count": 145,
   "metadata": {
    "collapsed": false
   },
   "outputs": [
    {
     "name": "stdout",
     "output_type": "stream",
     "text": [
      "2259\n",
      "7184\n",
      "2259\n"
     ]
    }
   ],
   "source": [
    "lex_transfer3drop = lex_transfer3.drop_duplicates(subset = 'dest')\n",
    "print(len(lex_transfer3drop.dest))\n",
    "print(len(airports))\n",
    "list_transfer4 = list(lex_transfer3drop.dest)\n",
    "print(len(list_transfer4))"
   ]
  },
  {
   "cell_type": "code",
   "execution_count": 146,
   "metadata": {
    "collapsed": false
   },
   "outputs": [
    {
     "name": "stderr",
     "output_type": "stream",
     "text": [
      "C:\\Anaconda\\lib\\site-packages\\ipykernel\\__main__.py:3: SettingWithCopyWarning: \n",
      "A value is trying to be set on a copy of a slice from a DataFrame.\n",
      "Try using .loc[row_indexer,col_indexer] = value instead\n",
      "\n",
      "See the caveats in the documentation: http://pandas.pydata.org/pandas-docs/stable/indexing.html#indexing-view-versus-copy\n",
      "  app.launch_new_instance()\n",
      "C:\\Anaconda\\lib\\site-packages\\ipykernel\\__main__.py:4: SettingWithCopyWarning: \n",
      "A value is trying to be set on a copy of a slice from a DataFrame.\n",
      "Try using .loc[row_indexer,col_indexer] = value instead\n",
      "\n",
      "See the caveats in the documentation: http://pandas.pydata.org/pandas-docs/stable/indexing.html#indexing-view-versus-copy\n",
      "C:\\Anaconda\\lib\\site-packages\\ipykernel\\__main__.py:5: SettingWithCopyWarning: \n",
      "A value is trying to be set on a copy of a slice from a DataFrame.\n",
      "Try using .loc[row_indexer,col_indexer] = value instead\n",
      "\n",
      "See the caveats in the documentation: http://pandas.pydata.org/pandas-docs/stable/indexing.html#indexing-view-versus-copy\n"
     ]
    },
    {
     "data": {
      "text/html": [
       "<div>\n",
       "<table border=\"1\" class=\"dataframe\">\n",
       "  <thead>\n",
       "    <tr style=\"text-align: right;\">\n",
       "      <th></th>\n",
       "      <th>airline</th>\n",
       "      <th>airline_id</th>\n",
       "      <th>source</th>\n",
       "      <th>source_id</th>\n",
       "      <th>dest</th>\n",
       "      <th>dest_id</th>\n",
       "      <th>codeshare</th>\n",
       "      <th>stops</th>\n",
       "      <th>equipment</th>\n",
       "      <th>one_transfer</th>\n",
       "      <th>two_transfer</th>\n",
       "      <th>three_transfer</th>\n",
       "    </tr>\n",
       "  </thead>\n",
       "  <tbody>\n",
       "    <tr>\n",
       "      <th>0</th>\n",
       "      <td>2B</td>\n",
       "      <td>410.0</td>\n",
       "      <td>AER</td>\n",
       "      <td>2965.0</td>\n",
       "      <td>KZN</td>\n",
       "      <td>2990.0</td>\n",
       "      <td>NaN</td>\n",
       "      <td>0</td>\n",
       "      <td>CR2</td>\n",
       "      <td>Y</td>\n",
       "      <td>Y</td>\n",
       "      <td>Y</td>\n",
       "    </tr>\n",
       "    <tr>\n",
       "      <th>1</th>\n",
       "      <td>2B</td>\n",
       "      <td>410.0</td>\n",
       "      <td>ASF</td>\n",
       "      <td>2966.0</td>\n",
       "      <td>KZN</td>\n",
       "      <td>2990.0</td>\n",
       "      <td>NaN</td>\n",
       "      <td>0</td>\n",
       "      <td>CR2</td>\n",
       "      <td>Y</td>\n",
       "      <td>Y</td>\n",
       "      <td>Y</td>\n",
       "    </tr>\n",
       "    <tr>\n",
       "      <th>2</th>\n",
       "      <td>2B</td>\n",
       "      <td>410.0</td>\n",
       "      <td>ASF</td>\n",
       "      <td>2966.0</td>\n",
       "      <td>MRV</td>\n",
       "      <td>2962.0</td>\n",
       "      <td>NaN</td>\n",
       "      <td>0</td>\n",
       "      <td>CR2</td>\n",
       "      <td>Y</td>\n",
       "      <td>Y</td>\n",
       "      <td>Y</td>\n",
       "    </tr>\n",
       "    <tr>\n",
       "      <th>3</th>\n",
       "      <td>2B</td>\n",
       "      <td>410.0</td>\n",
       "      <td>CEK</td>\n",
       "      <td>2968.0</td>\n",
       "      <td>KZN</td>\n",
       "      <td>2990.0</td>\n",
       "      <td>NaN</td>\n",
       "      <td>0</td>\n",
       "      <td>CR2</td>\n",
       "      <td>Y</td>\n",
       "      <td>Y</td>\n",
       "      <td>Y</td>\n",
       "    </tr>\n",
       "    <tr>\n",
       "      <th>4</th>\n",
       "      <td>2B</td>\n",
       "      <td>410.0</td>\n",
       "      <td>CEK</td>\n",
       "      <td>2968.0</td>\n",
       "      <td>OVB</td>\n",
       "      <td>4078.0</td>\n",
       "      <td>NaN</td>\n",
       "      <td>0</td>\n",
       "      <td>CR2</td>\n",
       "      <td>Y</td>\n",
       "      <td>Y</td>\n",
       "      <td>Y</td>\n",
       "    </tr>\n",
       "  </tbody>\n",
       "</table>\n",
       "</div>"
      ],
      "text/plain": [
       "  airline  airline_id source  source_id dest  dest_id codeshare  stops  \\\n",
       "0      2B       410.0    AER     2965.0  KZN   2990.0       NaN      0   \n",
       "1      2B       410.0    ASF     2966.0  KZN   2990.0       NaN      0   \n",
       "2      2B       410.0    ASF     2966.0  MRV   2962.0       NaN      0   \n",
       "3      2B       410.0    CEK     2968.0  KZN   2990.0       NaN      0   \n",
       "4      2B       410.0    CEK     2968.0  OVB   4078.0       NaN      0   \n",
       "\n",
       "  equipment one_transfer two_transfer three_transfer  \n",
       "0       CR2            Y            Y              Y  \n",
       "1       CR2            Y            Y              Y  \n",
       "2       CR2            Y            Y              Y  \n",
       "3       CR2            Y            Y              Y  \n",
       "4       CR2            Y            Y              Y  "
      ]
     },
     "execution_count": 146,
     "metadata": {},
     "output_type": "execute_result"
    }
   ],
   "source": [
    "lex_transfer4 = routes.loc[routes['source'].isin(list_transfer4)]\n",
    "lex_transfer4.head()\n",
    "lex_transfer4['one_transfer'] = 'Y'\n",
    "lex_transfer4['two_transfer'] = 'Y'\n",
    "lex_transfer4['three_transfer'] = 'Y'\n",
    "lex_transfer4.head()"
   ]
  },
  {
   "cell_type": "code",
   "execution_count": 147,
   "metadata": {
    "collapsed": false
   },
   "outputs": [
    {
     "name": "stdout",
     "output_type": "stream",
     "text": [
      "3017\n",
      "7184\n",
      "3017\n"
     ]
    }
   ],
   "source": [
    "lex_transfer4drop = lex_transfer4.drop_duplicates(subset = 'dest')\n",
    "print(len(lex_transfer4drop.dest))\n",
    "print(len(airports))\n",
    "list_transfer5 = list(lex_transfer4drop.dest)\n",
    "print(len(list_transfer5))"
   ]
  },
  {
   "cell_type": "code",
   "execution_count": 148,
   "metadata": {
    "collapsed": false
   },
   "outputs": [
    {
     "name": "stderr",
     "output_type": "stream",
     "text": [
      "C:\\Anaconda\\lib\\site-packages\\ipykernel\\__main__.py:3: SettingWithCopyWarning: \n",
      "A value is trying to be set on a copy of a slice from a DataFrame.\n",
      "Try using .loc[row_indexer,col_indexer] = value instead\n",
      "\n",
      "See the caveats in the documentation: http://pandas.pydata.org/pandas-docs/stable/indexing.html#indexing-view-versus-copy\n",
      "  app.launch_new_instance()\n",
      "C:\\Anaconda\\lib\\site-packages\\ipykernel\\__main__.py:4: SettingWithCopyWarning: \n",
      "A value is trying to be set on a copy of a slice from a DataFrame.\n",
      "Try using .loc[row_indexer,col_indexer] = value instead\n",
      "\n",
      "See the caveats in the documentation: http://pandas.pydata.org/pandas-docs/stable/indexing.html#indexing-view-versus-copy\n",
      "C:\\Anaconda\\lib\\site-packages\\ipykernel\\__main__.py:5: SettingWithCopyWarning: \n",
      "A value is trying to be set on a copy of a slice from a DataFrame.\n",
      "Try using .loc[row_indexer,col_indexer] = value instead\n",
      "\n",
      "See the caveats in the documentation: http://pandas.pydata.org/pandas-docs/stable/indexing.html#indexing-view-versus-copy\n"
     ]
    },
    {
     "data": {
      "text/html": [
       "<div>\n",
       "<table border=\"1\" class=\"dataframe\">\n",
       "  <thead>\n",
       "    <tr style=\"text-align: right;\">\n",
       "      <th></th>\n",
       "      <th>airline</th>\n",
       "      <th>airline_id</th>\n",
       "      <th>source</th>\n",
       "      <th>source_id</th>\n",
       "      <th>dest</th>\n",
       "      <th>dest_id</th>\n",
       "      <th>codeshare</th>\n",
       "      <th>stops</th>\n",
       "      <th>equipment</th>\n",
       "      <th>one_transfer</th>\n",
       "      <th>two_transfer</th>\n",
       "      <th>three_transfer</th>\n",
       "    </tr>\n",
       "  </thead>\n",
       "  <tbody>\n",
       "    <tr>\n",
       "      <th>0</th>\n",
       "      <td>2B</td>\n",
       "      <td>410.0</td>\n",
       "      <td>AER</td>\n",
       "      <td>2965.0</td>\n",
       "      <td>KZN</td>\n",
       "      <td>2990.0</td>\n",
       "      <td>NaN</td>\n",
       "      <td>0</td>\n",
       "      <td>CR2</td>\n",
       "      <td>Y</td>\n",
       "      <td>Y</td>\n",
       "      <td>Y</td>\n",
       "    </tr>\n",
       "    <tr>\n",
       "      <th>1</th>\n",
       "      <td>2B</td>\n",
       "      <td>410.0</td>\n",
       "      <td>ASF</td>\n",
       "      <td>2966.0</td>\n",
       "      <td>KZN</td>\n",
       "      <td>2990.0</td>\n",
       "      <td>NaN</td>\n",
       "      <td>0</td>\n",
       "      <td>CR2</td>\n",
       "      <td>Y</td>\n",
       "      <td>Y</td>\n",
       "      <td>Y</td>\n",
       "    </tr>\n",
       "    <tr>\n",
       "      <th>2</th>\n",
       "      <td>2B</td>\n",
       "      <td>410.0</td>\n",
       "      <td>ASF</td>\n",
       "      <td>2966.0</td>\n",
       "      <td>MRV</td>\n",
       "      <td>2962.0</td>\n",
       "      <td>NaN</td>\n",
       "      <td>0</td>\n",
       "      <td>CR2</td>\n",
       "      <td>Y</td>\n",
       "      <td>Y</td>\n",
       "      <td>Y</td>\n",
       "    </tr>\n",
       "    <tr>\n",
       "      <th>3</th>\n",
       "      <td>2B</td>\n",
       "      <td>410.0</td>\n",
       "      <td>CEK</td>\n",
       "      <td>2968.0</td>\n",
       "      <td>KZN</td>\n",
       "      <td>2990.0</td>\n",
       "      <td>NaN</td>\n",
       "      <td>0</td>\n",
       "      <td>CR2</td>\n",
       "      <td>Y</td>\n",
       "      <td>Y</td>\n",
       "      <td>Y</td>\n",
       "    </tr>\n",
       "    <tr>\n",
       "      <th>4</th>\n",
       "      <td>2B</td>\n",
       "      <td>410.0</td>\n",
       "      <td>CEK</td>\n",
       "      <td>2968.0</td>\n",
       "      <td>OVB</td>\n",
       "      <td>4078.0</td>\n",
       "      <td>NaN</td>\n",
       "      <td>0</td>\n",
       "      <td>CR2</td>\n",
       "      <td>Y</td>\n",
       "      <td>Y</td>\n",
       "      <td>Y</td>\n",
       "    </tr>\n",
       "  </tbody>\n",
       "</table>\n",
       "</div>"
      ],
      "text/plain": [
       "  airline  airline_id source  source_id dest  dest_id codeshare  stops  \\\n",
       "0      2B       410.0    AER     2965.0  KZN   2990.0       NaN      0   \n",
       "1      2B       410.0    ASF     2966.0  KZN   2990.0       NaN      0   \n",
       "2      2B       410.0    ASF     2966.0  MRV   2962.0       NaN      0   \n",
       "3      2B       410.0    CEK     2968.0  KZN   2990.0       NaN      0   \n",
       "4      2B       410.0    CEK     2968.0  OVB   4078.0       NaN      0   \n",
       "\n",
       "  equipment one_transfer two_transfer three_transfer  \n",
       "0       CR2            Y            Y              Y  \n",
       "1       CR2            Y            Y              Y  \n",
       "2       CR2            Y            Y              Y  \n",
       "3       CR2            Y            Y              Y  \n",
       "4       CR2            Y            Y              Y  "
      ]
     },
     "execution_count": 148,
     "metadata": {},
     "output_type": "execute_result"
    }
   ],
   "source": [
    "lex_transfer5 = routes.loc[routes['source'].isin(list_transfer5)]\n",
    "lex_transfer5.head()\n",
    "lex_transfer5['one_transfer'] = 'Y'\n",
    "lex_transfer5['two_transfer'] = 'Y'\n",
    "lex_transfer5['three_transfer'] = 'Y'\n",
    "lex_transfer5.head()"
   ]
  },
  {
   "cell_type": "code",
   "execution_count": 149,
   "metadata": {
    "collapsed": false
   },
   "outputs": [
    {
     "name": "stdout",
     "output_type": "stream",
     "text": [
      "3279\n",
      "7184\n",
      "3279\n"
     ]
    }
   ],
   "source": [
    "lex_transfer4drop = lex_transfer4.drop_duplicates(subset = 'dest')\n",
    "print(len(lex_transfer4drop.dest))\n",
    "print(len(airports))\n",
    "list_transfer5 = list(lex_transfer4drop.dest)\n",
    "print(len(list_transfer5))"
   ]
  },
  {
   "cell_type": "code",
   "execution_count": 150,
   "metadata": {
    "collapsed": false
   },
   "outputs": [
    {
     "name": "stderr",
     "output_type": "stream",
     "text": [
      "C:\\Anaconda\\lib\\site-packages\\ipykernel\\__main__.py:3: SettingWithCopyWarning: \n",
      "A value is trying to be set on a copy of a slice from a DataFrame.\n",
      "Try using .loc[row_indexer,col_indexer] = value instead\n",
      "\n",
      "See the caveats in the documentation: http://pandas.pydata.org/pandas-docs/stable/indexing.html#indexing-view-versus-copy\n",
      "  app.launch_new_instance()\n",
      "C:\\Anaconda\\lib\\site-packages\\ipykernel\\__main__.py:4: SettingWithCopyWarning: \n",
      "A value is trying to be set on a copy of a slice from a DataFrame.\n",
      "Try using .loc[row_indexer,col_indexer] = value instead\n",
      "\n",
      "See the caveats in the documentation: http://pandas.pydata.org/pandas-docs/stable/indexing.html#indexing-view-versus-copy\n",
      "C:\\Anaconda\\lib\\site-packages\\ipykernel\\__main__.py:5: SettingWithCopyWarning: \n",
      "A value is trying to be set on a copy of a slice from a DataFrame.\n",
      "Try using .loc[row_indexer,col_indexer] = value instead\n",
      "\n",
      "See the caveats in the documentation: http://pandas.pydata.org/pandas-docs/stable/indexing.html#indexing-view-versus-copy\n"
     ]
    },
    {
     "data": {
      "text/html": [
       "<div>\n",
       "<table border=\"1\" class=\"dataframe\">\n",
       "  <thead>\n",
       "    <tr style=\"text-align: right;\">\n",
       "      <th></th>\n",
       "      <th>airline</th>\n",
       "      <th>airline_id</th>\n",
       "      <th>source</th>\n",
       "      <th>source_id</th>\n",
       "      <th>dest</th>\n",
       "      <th>dest_id</th>\n",
       "      <th>codeshare</th>\n",
       "      <th>stops</th>\n",
       "      <th>equipment</th>\n",
       "      <th>one_transfer</th>\n",
       "      <th>two_transfer</th>\n",
       "      <th>three_transfer</th>\n",
       "    </tr>\n",
       "  </thead>\n",
       "  <tbody>\n",
       "    <tr>\n",
       "      <th>0</th>\n",
       "      <td>2B</td>\n",
       "      <td>410.0</td>\n",
       "      <td>AER</td>\n",
       "      <td>2965.0</td>\n",
       "      <td>KZN</td>\n",
       "      <td>2990.0</td>\n",
       "      <td>NaN</td>\n",
       "      <td>0</td>\n",
       "      <td>CR2</td>\n",
       "      <td>Y</td>\n",
       "      <td>Y</td>\n",
       "      <td>Y</td>\n",
       "    </tr>\n",
       "    <tr>\n",
       "      <th>1</th>\n",
       "      <td>2B</td>\n",
       "      <td>410.0</td>\n",
       "      <td>ASF</td>\n",
       "      <td>2966.0</td>\n",
       "      <td>KZN</td>\n",
       "      <td>2990.0</td>\n",
       "      <td>NaN</td>\n",
       "      <td>0</td>\n",
       "      <td>CR2</td>\n",
       "      <td>Y</td>\n",
       "      <td>Y</td>\n",
       "      <td>Y</td>\n",
       "    </tr>\n",
       "    <tr>\n",
       "      <th>2</th>\n",
       "      <td>2B</td>\n",
       "      <td>410.0</td>\n",
       "      <td>ASF</td>\n",
       "      <td>2966.0</td>\n",
       "      <td>MRV</td>\n",
       "      <td>2962.0</td>\n",
       "      <td>NaN</td>\n",
       "      <td>0</td>\n",
       "      <td>CR2</td>\n",
       "      <td>Y</td>\n",
       "      <td>Y</td>\n",
       "      <td>Y</td>\n",
       "    </tr>\n",
       "    <tr>\n",
       "      <th>3</th>\n",
       "      <td>2B</td>\n",
       "      <td>410.0</td>\n",
       "      <td>CEK</td>\n",
       "      <td>2968.0</td>\n",
       "      <td>KZN</td>\n",
       "      <td>2990.0</td>\n",
       "      <td>NaN</td>\n",
       "      <td>0</td>\n",
       "      <td>CR2</td>\n",
       "      <td>Y</td>\n",
       "      <td>Y</td>\n",
       "      <td>Y</td>\n",
       "    </tr>\n",
       "    <tr>\n",
       "      <th>4</th>\n",
       "      <td>2B</td>\n",
       "      <td>410.0</td>\n",
       "      <td>CEK</td>\n",
       "      <td>2968.0</td>\n",
       "      <td>OVB</td>\n",
       "      <td>4078.0</td>\n",
       "      <td>NaN</td>\n",
       "      <td>0</td>\n",
       "      <td>CR2</td>\n",
       "      <td>Y</td>\n",
       "      <td>Y</td>\n",
       "      <td>Y</td>\n",
       "    </tr>\n",
       "  </tbody>\n",
       "</table>\n",
       "</div>"
      ],
      "text/plain": [
       "  airline  airline_id source  source_id dest  dest_id codeshare  stops  \\\n",
       "0      2B       410.0    AER     2965.0  KZN   2990.0       NaN      0   \n",
       "1      2B       410.0    ASF     2966.0  KZN   2990.0       NaN      0   \n",
       "2      2B       410.0    ASF     2966.0  MRV   2962.0       NaN      0   \n",
       "3      2B       410.0    CEK     2968.0  KZN   2990.0       NaN      0   \n",
       "4      2B       410.0    CEK     2968.0  OVB   4078.0       NaN      0   \n",
       "\n",
       "  equipment one_transfer two_transfer three_transfer  \n",
       "0       CR2            Y            Y              Y  \n",
       "1       CR2            Y            Y              Y  \n",
       "2       CR2            Y            Y              Y  \n",
       "3       CR2            Y            Y              Y  \n",
       "4       CR2            Y            Y              Y  "
      ]
     },
     "execution_count": 150,
     "metadata": {},
     "output_type": "execute_result"
    }
   ],
   "source": [
    "lex_transfer6 = routes.loc[routes['source'].isin(list_transfer6)]\n",
    "lex_transfer6.head()\n",
    "lex_transfer6['one_transfer'] = 'Y'\n",
    "lex_transfer6['two_transfer'] = 'Y'\n",
    "lex_transfer6['three_transfer'] = 'Y'\n",
    "lex_transfer6.head()"
   ]
  },
  {
   "cell_type": "code",
   "execution_count": 151,
   "metadata": {
    "collapsed": false
   },
   "outputs": [
    {
     "name": "stdout",
     "output_type": "stream",
     "text": [
      "3357\n",
      "7184\n",
      "3357\n"
     ]
    }
   ],
   "source": [
    "lex_transfer6drop = lex_transfer6.drop_duplicates(subset = 'dest')\n",
    "print(len(lex_transfer6drop.dest))\n",
    "print(len(airports))\n",
    "list_transfer7 = list(lex_transfer6drop.dest)\n",
    "print(len(list_transfer7))"
   ]
  },
  {
   "cell_type": "code",
   "execution_count": 152,
   "metadata": {
    "collapsed": false
   },
   "outputs": [
    {
     "name": "stderr",
     "output_type": "stream",
     "text": [
      "C:\\Anaconda\\lib\\site-packages\\ipykernel\\__main__.py:3: SettingWithCopyWarning: \n",
      "A value is trying to be set on a copy of a slice from a DataFrame.\n",
      "Try using .loc[row_indexer,col_indexer] = value instead\n",
      "\n",
      "See the caveats in the documentation: http://pandas.pydata.org/pandas-docs/stable/indexing.html#indexing-view-versus-copy\n",
      "  app.launch_new_instance()\n",
      "C:\\Anaconda\\lib\\site-packages\\ipykernel\\__main__.py:4: SettingWithCopyWarning: \n",
      "A value is trying to be set on a copy of a slice from a DataFrame.\n",
      "Try using .loc[row_indexer,col_indexer] = value instead\n",
      "\n",
      "See the caveats in the documentation: http://pandas.pydata.org/pandas-docs/stable/indexing.html#indexing-view-versus-copy\n",
      "C:\\Anaconda\\lib\\site-packages\\ipykernel\\__main__.py:5: SettingWithCopyWarning: \n",
      "A value is trying to be set on a copy of a slice from a DataFrame.\n",
      "Try using .loc[row_indexer,col_indexer] = value instead\n",
      "\n",
      "See the caveats in the documentation: http://pandas.pydata.org/pandas-docs/stable/indexing.html#indexing-view-versus-copy\n"
     ]
    },
    {
     "data": {
      "text/html": [
       "<div>\n",
       "<table border=\"1\" class=\"dataframe\">\n",
       "  <thead>\n",
       "    <tr style=\"text-align: right;\">\n",
       "      <th></th>\n",
       "      <th>airline</th>\n",
       "      <th>airline_id</th>\n",
       "      <th>source</th>\n",
       "      <th>source_id</th>\n",
       "      <th>dest</th>\n",
       "      <th>dest_id</th>\n",
       "      <th>codeshare</th>\n",
       "      <th>stops</th>\n",
       "      <th>equipment</th>\n",
       "      <th>one_transfer</th>\n",
       "      <th>two_transfer</th>\n",
       "      <th>three_transfer</th>\n",
       "    </tr>\n",
       "  </thead>\n",
       "  <tbody>\n",
       "    <tr>\n",
       "      <th>0</th>\n",
       "      <td>2B</td>\n",
       "      <td>410.0</td>\n",
       "      <td>AER</td>\n",
       "      <td>2965.0</td>\n",
       "      <td>KZN</td>\n",
       "      <td>2990.0</td>\n",
       "      <td>NaN</td>\n",
       "      <td>0</td>\n",
       "      <td>CR2</td>\n",
       "      <td>Y</td>\n",
       "      <td>Y</td>\n",
       "      <td>Y</td>\n",
       "    </tr>\n",
       "    <tr>\n",
       "      <th>1</th>\n",
       "      <td>2B</td>\n",
       "      <td>410.0</td>\n",
       "      <td>ASF</td>\n",
       "      <td>2966.0</td>\n",
       "      <td>KZN</td>\n",
       "      <td>2990.0</td>\n",
       "      <td>NaN</td>\n",
       "      <td>0</td>\n",
       "      <td>CR2</td>\n",
       "      <td>Y</td>\n",
       "      <td>Y</td>\n",
       "      <td>Y</td>\n",
       "    </tr>\n",
       "    <tr>\n",
       "      <th>2</th>\n",
       "      <td>2B</td>\n",
       "      <td>410.0</td>\n",
       "      <td>ASF</td>\n",
       "      <td>2966.0</td>\n",
       "      <td>MRV</td>\n",
       "      <td>2962.0</td>\n",
       "      <td>NaN</td>\n",
       "      <td>0</td>\n",
       "      <td>CR2</td>\n",
       "      <td>Y</td>\n",
       "      <td>Y</td>\n",
       "      <td>Y</td>\n",
       "    </tr>\n",
       "    <tr>\n",
       "      <th>3</th>\n",
       "      <td>2B</td>\n",
       "      <td>410.0</td>\n",
       "      <td>CEK</td>\n",
       "      <td>2968.0</td>\n",
       "      <td>KZN</td>\n",
       "      <td>2990.0</td>\n",
       "      <td>NaN</td>\n",
       "      <td>0</td>\n",
       "      <td>CR2</td>\n",
       "      <td>Y</td>\n",
       "      <td>Y</td>\n",
       "      <td>Y</td>\n",
       "    </tr>\n",
       "    <tr>\n",
       "      <th>4</th>\n",
       "      <td>2B</td>\n",
       "      <td>410.0</td>\n",
       "      <td>CEK</td>\n",
       "      <td>2968.0</td>\n",
       "      <td>OVB</td>\n",
       "      <td>4078.0</td>\n",
       "      <td>NaN</td>\n",
       "      <td>0</td>\n",
       "      <td>CR2</td>\n",
       "      <td>Y</td>\n",
       "      <td>Y</td>\n",
       "      <td>Y</td>\n",
       "    </tr>\n",
       "  </tbody>\n",
       "</table>\n",
       "</div>"
      ],
      "text/plain": [
       "  airline  airline_id source  source_id dest  dest_id codeshare  stops  \\\n",
       "0      2B       410.0    AER     2965.0  KZN   2990.0       NaN      0   \n",
       "1      2B       410.0    ASF     2966.0  KZN   2990.0       NaN      0   \n",
       "2      2B       410.0    ASF     2966.0  MRV   2962.0       NaN      0   \n",
       "3      2B       410.0    CEK     2968.0  KZN   2990.0       NaN      0   \n",
       "4      2B       410.0    CEK     2968.0  OVB   4078.0       NaN      0   \n",
       "\n",
       "  equipment one_transfer two_transfer three_transfer  \n",
       "0       CR2            Y            Y              Y  \n",
       "1       CR2            Y            Y              Y  \n",
       "2       CR2            Y            Y              Y  \n",
       "3       CR2            Y            Y              Y  \n",
       "4       CR2            Y            Y              Y  "
      ]
     },
     "execution_count": 152,
     "metadata": {},
     "output_type": "execute_result"
    }
   ],
   "source": [
    "lex_transfer7 = routes.loc[routes['source'].isin(list_transfer7)]\n",
    "lex_transfer7.head()\n",
    "lex_transfer7['one_transfer'] = 'Y'\n",
    "lex_transfer7['two_transfer'] = 'Y'\n",
    "lex_transfer7['three_transfer'] = 'Y'\n",
    "lex_transfer7.head()"
   ]
  },
  {
   "cell_type": "code",
   "execution_count": 153,
   "metadata": {
    "collapsed": false
   },
   "outputs": [
    {
     "name": "stdout",
     "output_type": "stream",
     "text": [
      "3373\n",
      "7184\n",
      "3373\n"
     ]
    }
   ],
   "source": [
    "lex_transfer7drop = lex_transfer7.drop_duplicates(subset = 'dest')\n",
    "print(len(lex_transfer7drop.dest))\n",
    "print(len(airports))\n",
    "list_transfer8 = list(lex_transfer7drop.dest)\n",
    "print(len(list_transfer8))"
   ]
  },
  {
   "cell_type": "code",
   "execution_count": 154,
   "metadata": {
    "collapsed": false
   },
   "outputs": [
    {
     "name": "stderr",
     "output_type": "stream",
     "text": [
      "C:\\Anaconda\\lib\\site-packages\\ipykernel\\__main__.py:3: SettingWithCopyWarning: \n",
      "A value is trying to be set on a copy of a slice from a DataFrame.\n",
      "Try using .loc[row_indexer,col_indexer] = value instead\n",
      "\n",
      "See the caveats in the documentation: http://pandas.pydata.org/pandas-docs/stable/indexing.html#indexing-view-versus-copy\n",
      "  app.launch_new_instance()\n",
      "C:\\Anaconda\\lib\\site-packages\\ipykernel\\__main__.py:4: SettingWithCopyWarning: \n",
      "A value is trying to be set on a copy of a slice from a DataFrame.\n",
      "Try using .loc[row_indexer,col_indexer] = value instead\n",
      "\n",
      "See the caveats in the documentation: http://pandas.pydata.org/pandas-docs/stable/indexing.html#indexing-view-versus-copy\n",
      "C:\\Anaconda\\lib\\site-packages\\ipykernel\\__main__.py:5: SettingWithCopyWarning: \n",
      "A value is trying to be set on a copy of a slice from a DataFrame.\n",
      "Try using .loc[row_indexer,col_indexer] = value instead\n",
      "\n",
      "See the caveats in the documentation: http://pandas.pydata.org/pandas-docs/stable/indexing.html#indexing-view-versus-copy\n"
     ]
    },
    {
     "data": {
      "text/html": [
       "<div>\n",
       "<table border=\"1\" class=\"dataframe\">\n",
       "  <thead>\n",
       "    <tr style=\"text-align: right;\">\n",
       "      <th></th>\n",
       "      <th>airline</th>\n",
       "      <th>airline_id</th>\n",
       "      <th>source</th>\n",
       "      <th>source_id</th>\n",
       "      <th>dest</th>\n",
       "      <th>dest_id</th>\n",
       "      <th>codeshare</th>\n",
       "      <th>stops</th>\n",
       "      <th>equipment</th>\n",
       "    </tr>\n",
       "  </thead>\n",
       "  <tbody>\n",
       "    <tr>\n",
       "      <th>0</th>\n",
       "      <td>2B</td>\n",
       "      <td>410.0</td>\n",
       "      <td>AER</td>\n",
       "      <td>2965.0</td>\n",
       "      <td>KZN</td>\n",
       "      <td>2990.0</td>\n",
       "      <td>NaN</td>\n",
       "      <td>0</td>\n",
       "      <td>CR2</td>\n",
       "    </tr>\n",
       "    <tr>\n",
       "      <th>1</th>\n",
       "      <td>2B</td>\n",
       "      <td>410.0</td>\n",
       "      <td>ASF</td>\n",
       "      <td>2966.0</td>\n",
       "      <td>KZN</td>\n",
       "      <td>2990.0</td>\n",
       "      <td>NaN</td>\n",
       "      <td>0</td>\n",
       "      <td>CR2</td>\n",
       "    </tr>\n",
       "    <tr>\n",
       "      <th>2</th>\n",
       "      <td>2B</td>\n",
       "      <td>410.0</td>\n",
       "      <td>ASF</td>\n",
       "      <td>2966.0</td>\n",
       "      <td>MRV</td>\n",
       "      <td>2962.0</td>\n",
       "      <td>NaN</td>\n",
       "      <td>0</td>\n",
       "      <td>CR2</td>\n",
       "    </tr>\n",
       "    <tr>\n",
       "      <th>3</th>\n",
       "      <td>2B</td>\n",
       "      <td>410.0</td>\n",
       "      <td>CEK</td>\n",
       "      <td>2968.0</td>\n",
       "      <td>KZN</td>\n",
       "      <td>2990.0</td>\n",
       "      <td>NaN</td>\n",
       "      <td>0</td>\n",
       "      <td>CR2</td>\n",
       "    </tr>\n",
       "    <tr>\n",
       "      <th>4</th>\n",
       "      <td>2B</td>\n",
       "      <td>410.0</td>\n",
       "      <td>CEK</td>\n",
       "      <td>2968.0</td>\n",
       "      <td>OVB</td>\n",
       "      <td>4078.0</td>\n",
       "      <td>NaN</td>\n",
       "      <td>0</td>\n",
       "      <td>CR2</td>\n",
       "    </tr>\n",
       "  </tbody>\n",
       "</table>\n",
       "</div>"
      ],
      "text/plain": [
       "  airline  airline_id source  source_id dest  dest_id codeshare  stops  \\\n",
       "0      2B       410.0    AER     2965.0  KZN   2990.0       NaN      0   \n",
       "1      2B       410.0    ASF     2966.0  KZN   2990.0       NaN      0   \n",
       "2      2B       410.0    ASF     2966.0  MRV   2962.0       NaN      0   \n",
       "3      2B       410.0    CEK     2968.0  KZN   2990.0       NaN      0   \n",
       "4      2B       410.0    CEK     2968.0  OVB   4078.0       NaN      0   \n",
       "\n",
       "  equipment  \n",
       "0       CR2  \n",
       "1       CR2  \n",
       "2       CR2  \n",
       "3       CR2  \n",
       "4       CR2  "
      ]
     },
     "execution_count": 154,
     "metadata": {},
     "output_type": "execute_result"
    }
   ],
   "source": [
    "lex_transfer8 = routes.loc[routes['source'].isin(list_transfer8)]\n",
    "lex_transfer7.head()\n",
    "lex_transfer7['one_transfer'] = 'Y'\n",
    "lex_transfer7['two_transfer'] = 'Y'\n",
    "lex_transfer7['three_transfer'] = 'Y'\n",
    "lex_transfer8.head()"
   ]
  },
  {
   "cell_type": "code",
   "execution_count": 155,
   "metadata": {
    "collapsed": false
   },
   "outputs": [
    {
     "name": "stdout",
     "output_type": "stream",
     "text": [
      "3378\n",
      "7184\n",
      "3378\n"
     ]
    }
   ],
   "source": [
    "lex_transfer8drop = lex_transfer8.drop_duplicates(subset = 'dest')\n",
    "print(len(lex_transfer8drop.dest))\n",
    "print(len(airports))\n",
    "list_transfer9 = list(lex_transfer8drop.dest)\n",
    "print(len(list_transfer9))"
   ]
  },
  {
   "cell_type": "code",
   "execution_count": 381,
   "metadata": {
    "collapsed": false
   },
   "outputs": [
    {
     "data": {
      "text/plain": [
       "20"
      ]
     },
     "execution_count": 381,
     "metadata": {},
     "output_type": "execute_result"
    }
   ],
   "source": [
    "routes1 = routes[routes['dest'] == 'LEX']\n",
    "s = list(routes1.source)\n",
    "len(routes1)\n",
    "len(s)\n"
   ]
  },
  {
   "cell_type": "code",
   "execution_count": 374,
   "metadata": {
    "collapsed": false
   },
   "outputs": [
    {
     "name": "stderr",
     "output_type": "stream",
     "text": [
      "C:\\Anaconda\\lib\\site-packages\\ipykernel\\__main__.py:1: SettingWithCopyWarning: \n",
      "A value is trying to be set on a copy of a slice from a DataFrame.\n",
      "Try using .loc[row_indexer,col_indexer] = value instead\n",
      "\n",
      "See the caveats in the documentation: http://pandas.pydata.org/pandas-docs/stable/indexing.html#indexing-view-versus-copy\n",
      "  if __name__ == '__main__':\n"
     ]
    }
   ],
   "source": [
    "routes1['1_transfer'] = 'Y'"
   ]
  },
  {
   "cell_type": "code",
   "execution_count": 375,
   "metadata": {
    "collapsed": false
   },
   "outputs": [
    {
     "data": {
      "text/plain": [
       "array(['Y'], dtype=object)"
      ]
     },
     "execution_count": 375,
     "metadata": {},
     "output_type": "execute_result"
    }
   ],
   "source": [
    "routes1['1_transfer'].unique()"
   ]
  },
  {
   "cell_type": "code",
   "execution_count": 376,
   "metadata": {
    "collapsed": false
   },
   "outputs": [],
   "source": [
    "df = pd.merge(routes1, airports, \n",
    "                      left_on='source_id', \n",
    "                      right_on='id', \n",
    "                      how='right', \n",
    "                      suffixes=['_source','_dest'])"
   ]
  },
  {
   "cell_type": "code",
   "execution_count": 377,
   "metadata": {
    "collapsed": false
   },
   "outputs": [],
   "source": [
    "routes2 = df[df['1_transfer'] == 'Y']"
   ]
  },
  {
   "cell_type": "code",
   "execution_count": 379,
   "metadata": {
    "collapsed": false
   },
   "outputs": [
    {
     "data": {
      "text/html": [
       "<div>\n",
       "<table border=\"1\" class=\"dataframe\">\n",
       "  <thead>\n",
       "    <tr style=\"text-align: right;\">\n",
       "      <th></th>\n",
       "      <th>airline</th>\n",
       "      <th>airline_id</th>\n",
       "      <th>source_source</th>\n",
       "      <th>source_id</th>\n",
       "      <th>dest</th>\n",
       "      <th>dest_id</th>\n",
       "      <th>codeshare</th>\n",
       "      <th>stops</th>\n",
       "      <th>equipment</th>\n",
       "      <th>1_transfer</th>\n",
       "      <th>...</th>\n",
       "      <th>iata</th>\n",
       "      <th>icao</th>\n",
       "      <th>latitude</th>\n",
       "      <th>longitude</th>\n",
       "      <th>altitude</th>\n",
       "      <th>timezone</th>\n",
       "      <th>dst</th>\n",
       "      <th>tz</th>\n",
       "      <th>type</th>\n",
       "      <th>source_dest</th>\n",
       "    </tr>\n",
       "  </thead>\n",
       "  <tbody>\n",
       "    <tr>\n",
       "      <th>0</th>\n",
       "      <td>9E</td>\n",
       "      <td>3976.0</td>\n",
       "      <td>ATL</td>\n",
       "      <td>3682.0</td>\n",
       "      <td>LEX</td>\n",
       "      <td>4017.0</td>\n",
       "      <td>NaN</td>\n",
       "      <td>0.0</td>\n",
       "      <td>CRJ</td>\n",
       "      <td>Y</td>\n",
       "      <td>...</td>\n",
       "      <td>ATL</td>\n",
       "      <td>KATL</td>\n",
       "      <td>33.636700</td>\n",
       "      <td>-84.428101</td>\n",
       "      <td>1026</td>\n",
       "      <td>-5.0</td>\n",
       "      <td>A</td>\n",
       "      <td>America/New_York</td>\n",
       "      <td>airport</td>\n",
       "      <td>OurAirports</td>\n",
       "    </tr>\n",
       "    <tr>\n",
       "      <th>1</th>\n",
       "      <td>AF</td>\n",
       "      <td>137.0</td>\n",
       "      <td>ATL</td>\n",
       "      <td>3682.0</td>\n",
       "      <td>LEX</td>\n",
       "      <td>4017.0</td>\n",
       "      <td>Y</td>\n",
       "      <td>0.0</td>\n",
       "      <td>CR9 M88 CRJ 717</td>\n",
       "      <td>Y</td>\n",
       "      <td>...</td>\n",
       "      <td>ATL</td>\n",
       "      <td>KATL</td>\n",
       "      <td>33.636700</td>\n",
       "      <td>-84.428101</td>\n",
       "      <td>1026</td>\n",
       "      <td>-5.0</td>\n",
       "      <td>A</td>\n",
       "      <td>America/New_York</td>\n",
       "      <td>airport</td>\n",
       "      <td>OurAirports</td>\n",
       "    </tr>\n",
       "    <tr>\n",
       "      <th>2</th>\n",
       "      <td>DL</td>\n",
       "      <td>2009.0</td>\n",
       "      <td>ATL</td>\n",
       "      <td>3682.0</td>\n",
       "      <td>LEX</td>\n",
       "      <td>4017.0</td>\n",
       "      <td>NaN</td>\n",
       "      <td>0.0</td>\n",
       "      <td>M88 717</td>\n",
       "      <td>Y</td>\n",
       "      <td>...</td>\n",
       "      <td>ATL</td>\n",
       "      <td>KATL</td>\n",
       "      <td>33.636700</td>\n",
       "      <td>-84.428101</td>\n",
       "      <td>1026</td>\n",
       "      <td>-5.0</td>\n",
       "      <td>A</td>\n",
       "      <td>America/New_York</td>\n",
       "      <td>airport</td>\n",
       "      <td>OurAirports</td>\n",
       "    </tr>\n",
       "    <tr>\n",
       "      <th>3</th>\n",
       "      <td>KL</td>\n",
       "      <td>3090.0</td>\n",
       "      <td>ATL</td>\n",
       "      <td>3682.0</td>\n",
       "      <td>LEX</td>\n",
       "      <td>4017.0</td>\n",
       "      <td>Y</td>\n",
       "      <td>0.0</td>\n",
       "      <td>CR9 M88 CRJ</td>\n",
       "      <td>Y</td>\n",
       "      <td>...</td>\n",
       "      <td>ATL</td>\n",
       "      <td>KATL</td>\n",
       "      <td>33.636700</td>\n",
       "      <td>-84.428101</td>\n",
       "      <td>1026</td>\n",
       "      <td>-5.0</td>\n",
       "      <td>A</td>\n",
       "      <td>America/New_York</td>\n",
       "      <td>airport</td>\n",
       "      <td>OurAirports</td>\n",
       "    </tr>\n",
       "    <tr>\n",
       "      <th>4</th>\n",
       "      <td>AA</td>\n",
       "      <td>24.0</td>\n",
       "      <td>CLT</td>\n",
       "      <td>3876.0</td>\n",
       "      <td>LEX</td>\n",
       "      <td>4017.0</td>\n",
       "      <td>NaN</td>\n",
       "      <td>0.0</td>\n",
       "      <td>CR7</td>\n",
       "      <td>Y</td>\n",
       "      <td>...</td>\n",
       "      <td>CLT</td>\n",
       "      <td>KCLT</td>\n",
       "      <td>35.214001</td>\n",
       "      <td>-80.943100</td>\n",
       "      <td>748</td>\n",
       "      <td>-5.0</td>\n",
       "      <td>A</td>\n",
       "      <td>America/New_York</td>\n",
       "      <td>airport</td>\n",
       "      <td>OurAirports</td>\n",
       "    </tr>\n",
       "    <tr>\n",
       "      <th>5</th>\n",
       "      <td>US</td>\n",
       "      <td>5265.0</td>\n",
       "      <td>CLT</td>\n",
       "      <td>3876.0</td>\n",
       "      <td>LEX</td>\n",
       "      <td>4017.0</td>\n",
       "      <td>NaN</td>\n",
       "      <td>0.0</td>\n",
       "      <td>CR7</td>\n",
       "      <td>Y</td>\n",
       "      <td>...</td>\n",
       "      <td>CLT</td>\n",
       "      <td>KCLT</td>\n",
       "      <td>35.214001</td>\n",
       "      <td>-80.943100</td>\n",
       "      <td>748</td>\n",
       "      <td>-5.0</td>\n",
       "      <td>A</td>\n",
       "      <td>America/New_York</td>\n",
       "      <td>airport</td>\n",
       "      <td>OurAirports</td>\n",
       "    </tr>\n",
       "    <tr>\n",
       "      <th>6</th>\n",
       "      <td>AA</td>\n",
       "      <td>24.0</td>\n",
       "      <td>DFW</td>\n",
       "      <td>3670.0</td>\n",
       "      <td>LEX</td>\n",
       "      <td>4017.0</td>\n",
       "      <td>Y</td>\n",
       "      <td>0.0</td>\n",
       "      <td>ERD ER4</td>\n",
       "      <td>Y</td>\n",
       "      <td>...</td>\n",
       "      <td>DFW</td>\n",
       "      <td>KDFW</td>\n",
       "      <td>32.896801</td>\n",
       "      <td>-97.038002</td>\n",
       "      <td>607</td>\n",
       "      <td>-6.0</td>\n",
       "      <td>A</td>\n",
       "      <td>America/Chicago</td>\n",
       "      <td>airport</td>\n",
       "      <td>OurAirports</td>\n",
       "    </tr>\n",
       "    <tr>\n",
       "      <th>7</th>\n",
       "      <td>US</td>\n",
       "      <td>5265.0</td>\n",
       "      <td>DFW</td>\n",
       "      <td>3670.0</td>\n",
       "      <td>LEX</td>\n",
       "      <td>4017.0</td>\n",
       "      <td>NaN</td>\n",
       "      <td>0.0</td>\n",
       "      <td>ERD</td>\n",
       "      <td>Y</td>\n",
       "      <td>...</td>\n",
       "      <td>DFW</td>\n",
       "      <td>KDFW</td>\n",
       "      <td>32.896801</td>\n",
       "      <td>-97.038002</td>\n",
       "      <td>607</td>\n",
       "      <td>-6.0</td>\n",
       "      <td>A</td>\n",
       "      <td>America/Chicago</td>\n",
       "      <td>airport</td>\n",
       "      <td>OurAirports</td>\n",
       "    </tr>\n",
       "    <tr>\n",
       "      <th>8</th>\n",
       "      <td>AA</td>\n",
       "      <td>24.0</td>\n",
       "      <td>ORD</td>\n",
       "      <td>3830.0</td>\n",
       "      <td>LEX</td>\n",
       "      <td>4017.0</td>\n",
       "      <td>Y</td>\n",
       "      <td>0.0</td>\n",
       "      <td>ERD ER4</td>\n",
       "      <td>Y</td>\n",
       "      <td>...</td>\n",
       "      <td>ORD</td>\n",
       "      <td>KORD</td>\n",
       "      <td>41.978600</td>\n",
       "      <td>-87.904800</td>\n",
       "      <td>672</td>\n",
       "      <td>-6.0</td>\n",
       "      <td>A</td>\n",
       "      <td>America/Chicago</td>\n",
       "      <td>airport</td>\n",
       "      <td>OurAirports</td>\n",
       "    </tr>\n",
       "    <tr>\n",
       "      <th>9</th>\n",
       "      <td>UA</td>\n",
       "      <td>5209.0</td>\n",
       "      <td>ORD</td>\n",
       "      <td>3830.0</td>\n",
       "      <td>LEX</td>\n",
       "      <td>4017.0</td>\n",
       "      <td>Y</td>\n",
       "      <td>0.0</td>\n",
       "      <td>ERJ CRJ</td>\n",
       "      <td>Y</td>\n",
       "      <td>...</td>\n",
       "      <td>ORD</td>\n",
       "      <td>KORD</td>\n",
       "      <td>41.978600</td>\n",
       "      <td>-87.904800</td>\n",
       "      <td>672</td>\n",
       "      <td>-6.0</td>\n",
       "      <td>A</td>\n",
       "      <td>America/Chicago</td>\n",
       "      <td>airport</td>\n",
       "      <td>OurAirports</td>\n",
       "    </tr>\n",
       "    <tr>\n",
       "      <th>10</th>\n",
       "      <td>US</td>\n",
       "      <td>5265.0</td>\n",
       "      <td>ORD</td>\n",
       "      <td>3830.0</td>\n",
       "      <td>LEX</td>\n",
       "      <td>4017.0</td>\n",
       "      <td>Y</td>\n",
       "      <td>0.0</td>\n",
       "      <td>ERD ER4</td>\n",
       "      <td>Y</td>\n",
       "      <td>...</td>\n",
       "      <td>ORD</td>\n",
       "      <td>KORD</td>\n",
       "      <td>41.978600</td>\n",
       "      <td>-87.904800</td>\n",
       "      <td>672</td>\n",
       "      <td>-6.0</td>\n",
       "      <td>A</td>\n",
       "      <td>America/Chicago</td>\n",
       "      <td>airport</td>\n",
       "      <td>OurAirports</td>\n",
       "    </tr>\n",
       "    <tr>\n",
       "      <th>11</th>\n",
       "      <td>DL</td>\n",
       "      <td>2009.0</td>\n",
       "      <td>DCA</td>\n",
       "      <td>3520.0</td>\n",
       "      <td>LEX</td>\n",
       "      <td>4017.0</td>\n",
       "      <td>Y</td>\n",
       "      <td>0.0</td>\n",
       "      <td>CRJ</td>\n",
       "      <td>Y</td>\n",
       "      <td>...</td>\n",
       "      <td>DCA</td>\n",
       "      <td>KDCA</td>\n",
       "      <td>38.852100</td>\n",
       "      <td>-77.037697</td>\n",
       "      <td>15</td>\n",
       "      <td>-5.0</td>\n",
       "      <td>A</td>\n",
       "      <td>America/New_York</td>\n",
       "      <td>airport</td>\n",
       "      <td>OurAirports</td>\n",
       "    </tr>\n",
       "    <tr>\n",
       "      <th>12</th>\n",
       "      <td>DL</td>\n",
       "      <td>2009.0</td>\n",
       "      <td>DTW</td>\n",
       "      <td>3645.0</td>\n",
       "      <td>LEX</td>\n",
       "      <td>4017.0</td>\n",
       "      <td>NaN</td>\n",
       "      <td>0.0</td>\n",
       "      <td>717</td>\n",
       "      <td>Y</td>\n",
       "      <td>...</td>\n",
       "      <td>DTW</td>\n",
       "      <td>KDTW</td>\n",
       "      <td>42.212399</td>\n",
       "      <td>-83.353401</td>\n",
       "      <td>645</td>\n",
       "      <td>-5.0</td>\n",
       "      <td>A</td>\n",
       "      <td>America/New_York</td>\n",
       "      <td>airport</td>\n",
       "      <td>OurAirports</td>\n",
       "    </tr>\n",
       "    <tr>\n",
       "      <th>13</th>\n",
       "      <td>DL</td>\n",
       "      <td>2009.0</td>\n",
       "      <td>LGA</td>\n",
       "      <td>3697.0</td>\n",
       "      <td>LEX</td>\n",
       "      <td>4017.0</td>\n",
       "      <td>Y</td>\n",
       "      <td>0.0</td>\n",
       "      <td>ERJ</td>\n",
       "      <td>Y</td>\n",
       "      <td>...</td>\n",
       "      <td>LGA</td>\n",
       "      <td>KLGA</td>\n",
       "      <td>40.777199</td>\n",
       "      <td>-73.872597</td>\n",
       "      <td>21</td>\n",
       "      <td>-5.0</td>\n",
       "      <td>A</td>\n",
       "      <td>America/New_York</td>\n",
       "      <td>airport</td>\n",
       "      <td>OurAirports</td>\n",
       "    </tr>\n",
       "    <tr>\n",
       "      <th>14</th>\n",
       "      <td>DL</td>\n",
       "      <td>2009.0</td>\n",
       "      <td>MSP</td>\n",
       "      <td>3858.0</td>\n",
       "      <td>LEX</td>\n",
       "      <td>4017.0</td>\n",
       "      <td>Y</td>\n",
       "      <td>0.0</td>\n",
       "      <td>CRJ</td>\n",
       "      <td>Y</td>\n",
       "      <td>...</td>\n",
       "      <td>MSP</td>\n",
       "      <td>KMSP</td>\n",
       "      <td>44.882000</td>\n",
       "      <td>-93.221802</td>\n",
       "      <td>841</td>\n",
       "      <td>-6.0</td>\n",
       "      <td>A</td>\n",
       "      <td>America/Chicago</td>\n",
       "      <td>airport</td>\n",
       "      <td>OurAirports</td>\n",
       "    </tr>\n",
       "    <tr>\n",
       "      <th>15</th>\n",
       "      <td>G4</td>\n",
       "      <td>35.0</td>\n",
       "      <td>FLL</td>\n",
       "      <td>3533.0</td>\n",
       "      <td>LEX</td>\n",
       "      <td>4017.0</td>\n",
       "      <td>NaN</td>\n",
       "      <td>0.0</td>\n",
       "      <td>M80</td>\n",
       "      <td>Y</td>\n",
       "      <td>...</td>\n",
       "      <td>FLL</td>\n",
       "      <td>KFLL</td>\n",
       "      <td>26.072599</td>\n",
       "      <td>-80.152702</td>\n",
       "      <td>9</td>\n",
       "      <td>-5.0</td>\n",
       "      <td>A</td>\n",
       "      <td>America/New_York</td>\n",
       "      <td>airport</td>\n",
       "      <td>OurAirports</td>\n",
       "    </tr>\n",
       "    <tr>\n",
       "      <th>16</th>\n",
       "      <td>G4</td>\n",
       "      <td>35.0</td>\n",
       "      <td>PGD</td>\n",
       "      <td>7056.0</td>\n",
       "      <td>LEX</td>\n",
       "      <td>4017.0</td>\n",
       "      <td>NaN</td>\n",
       "      <td>0.0</td>\n",
       "      <td>M80</td>\n",
       "      <td>Y</td>\n",
       "      <td>...</td>\n",
       "      <td>PGD</td>\n",
       "      <td>KPGD</td>\n",
       "      <td>26.920200</td>\n",
       "      <td>-81.990501</td>\n",
       "      <td>26</td>\n",
       "      <td>-5.0</td>\n",
       "      <td>A</td>\n",
       "      <td>America/New_York</td>\n",
       "      <td>airport</td>\n",
       "      <td>OurAirports</td>\n",
       "    </tr>\n",
       "    <tr>\n",
       "      <th>17</th>\n",
       "      <td>G4</td>\n",
       "      <td>35.0</td>\n",
       "      <td>PIE</td>\n",
       "      <td>3617.0</td>\n",
       "      <td>LEX</td>\n",
       "      <td>4017.0</td>\n",
       "      <td>NaN</td>\n",
       "      <td>0.0</td>\n",
       "      <td>320</td>\n",
       "      <td>Y</td>\n",
       "      <td>...</td>\n",
       "      <td>PIE</td>\n",
       "      <td>KPIE</td>\n",
       "      <td>27.910200</td>\n",
       "      <td>-82.687401</td>\n",
       "      <td>11</td>\n",
       "      <td>-5.0</td>\n",
       "      <td>A</td>\n",
       "      <td>America/New_York</td>\n",
       "      <td>airport</td>\n",
       "      <td>OurAirports</td>\n",
       "    </tr>\n",
       "    <tr>\n",
       "      <th>18</th>\n",
       "      <td>G4</td>\n",
       "      <td>35.0</td>\n",
       "      <td>SFB</td>\n",
       "      <td>4167.0</td>\n",
       "      <td>LEX</td>\n",
       "      <td>4017.0</td>\n",
       "      <td>NaN</td>\n",
       "      <td>0.0</td>\n",
       "      <td>M80 320</td>\n",
       "      <td>Y</td>\n",
       "      <td>...</td>\n",
       "      <td>SFB</td>\n",
       "      <td>KSFB</td>\n",
       "      <td>28.777599</td>\n",
       "      <td>-81.237503</td>\n",
       "      <td>55</td>\n",
       "      <td>-5.0</td>\n",
       "      <td>A</td>\n",
       "      <td>America/New_York</td>\n",
       "      <td>airport</td>\n",
       "      <td>OurAirports</td>\n",
       "    </tr>\n",
       "    <tr>\n",
       "      <th>19</th>\n",
       "      <td>UA</td>\n",
       "      <td>5209.0</td>\n",
       "      <td>IAH</td>\n",
       "      <td>3550.0</td>\n",
       "      <td>LEX</td>\n",
       "      <td>4017.0</td>\n",
       "      <td>Y</td>\n",
       "      <td>0.0</td>\n",
       "      <td>ERJ</td>\n",
       "      <td>Y</td>\n",
       "      <td>...</td>\n",
       "      <td>IAH</td>\n",
       "      <td>KIAH</td>\n",
       "      <td>29.984400</td>\n",
       "      <td>-95.341400</td>\n",
       "      <td>97</td>\n",
       "      <td>-6.0</td>\n",
       "      <td>A</td>\n",
       "      <td>America/Chicago</td>\n",
       "      <td>airport</td>\n",
       "      <td>OurAirports</td>\n",
       "    </tr>\n",
       "  </tbody>\n",
       "</table>\n",
       "<p>20 rows × 24 columns</p>\n",
       "</div>"
      ],
      "text/plain": [
       "   airline  airline_id source_source  source_id dest  dest_id codeshare  \\\n",
       "0       9E      3976.0           ATL     3682.0  LEX   4017.0       NaN   \n",
       "1       AF       137.0           ATL     3682.0  LEX   4017.0         Y   \n",
       "2       DL      2009.0           ATL     3682.0  LEX   4017.0       NaN   \n",
       "3       KL      3090.0           ATL     3682.0  LEX   4017.0         Y   \n",
       "4       AA        24.0           CLT     3876.0  LEX   4017.0       NaN   \n",
       "5       US      5265.0           CLT     3876.0  LEX   4017.0       NaN   \n",
       "6       AA        24.0           DFW     3670.0  LEX   4017.0         Y   \n",
       "7       US      5265.0           DFW     3670.0  LEX   4017.0       NaN   \n",
       "8       AA        24.0           ORD     3830.0  LEX   4017.0         Y   \n",
       "9       UA      5209.0           ORD     3830.0  LEX   4017.0         Y   \n",
       "10      US      5265.0           ORD     3830.0  LEX   4017.0         Y   \n",
       "11      DL      2009.0           DCA     3520.0  LEX   4017.0         Y   \n",
       "12      DL      2009.0           DTW     3645.0  LEX   4017.0       NaN   \n",
       "13      DL      2009.0           LGA     3697.0  LEX   4017.0         Y   \n",
       "14      DL      2009.0           MSP     3858.0  LEX   4017.0         Y   \n",
       "15      G4        35.0           FLL     3533.0  LEX   4017.0       NaN   \n",
       "16      G4        35.0           PGD     7056.0  LEX   4017.0       NaN   \n",
       "17      G4        35.0           PIE     3617.0  LEX   4017.0       NaN   \n",
       "18      G4        35.0           SFB     4167.0  LEX   4017.0       NaN   \n",
       "19      UA      5209.0           IAH     3550.0  LEX   4017.0         Y   \n",
       "\n",
       "    stops        equipment 1_transfer     ...       iata  icao   latitude  \\\n",
       "0     0.0              CRJ          Y     ...        ATL  KATL  33.636700   \n",
       "1     0.0  CR9 M88 CRJ 717          Y     ...        ATL  KATL  33.636700   \n",
       "2     0.0          M88 717          Y     ...        ATL  KATL  33.636700   \n",
       "3     0.0      CR9 M88 CRJ          Y     ...        ATL  KATL  33.636700   \n",
       "4     0.0              CR7          Y     ...        CLT  KCLT  35.214001   \n",
       "5     0.0              CR7          Y     ...        CLT  KCLT  35.214001   \n",
       "6     0.0          ERD ER4          Y     ...        DFW  KDFW  32.896801   \n",
       "7     0.0              ERD          Y     ...        DFW  KDFW  32.896801   \n",
       "8     0.0          ERD ER4          Y     ...        ORD  KORD  41.978600   \n",
       "9     0.0          ERJ CRJ          Y     ...        ORD  KORD  41.978600   \n",
       "10    0.0          ERD ER4          Y     ...        ORD  KORD  41.978600   \n",
       "11    0.0              CRJ          Y     ...        DCA  KDCA  38.852100   \n",
       "12    0.0              717          Y     ...        DTW  KDTW  42.212399   \n",
       "13    0.0              ERJ          Y     ...        LGA  KLGA  40.777199   \n",
       "14    0.0              CRJ          Y     ...        MSP  KMSP  44.882000   \n",
       "15    0.0              M80          Y     ...        FLL  KFLL  26.072599   \n",
       "16    0.0              M80          Y     ...        PGD  KPGD  26.920200   \n",
       "17    0.0              320          Y     ...        PIE  KPIE  27.910200   \n",
       "18    0.0          M80 320          Y     ...        SFB  KSFB  28.777599   \n",
       "19    0.0              ERJ          Y     ...        IAH  KIAH  29.984400   \n",
       "\n",
       "    longitude altitude timezone  dst                tz     type  source_dest  \n",
       "0  -84.428101     1026     -5.0    A  America/New_York  airport  OurAirports  \n",
       "1  -84.428101     1026     -5.0    A  America/New_York  airport  OurAirports  \n",
       "2  -84.428101     1026     -5.0    A  America/New_York  airport  OurAirports  \n",
       "3  -84.428101     1026     -5.0    A  America/New_York  airport  OurAirports  \n",
       "4  -80.943100      748     -5.0    A  America/New_York  airport  OurAirports  \n",
       "5  -80.943100      748     -5.0    A  America/New_York  airport  OurAirports  \n",
       "6  -97.038002      607     -6.0    A   America/Chicago  airport  OurAirports  \n",
       "7  -97.038002      607     -6.0    A   America/Chicago  airport  OurAirports  \n",
       "8  -87.904800      672     -6.0    A   America/Chicago  airport  OurAirports  \n",
       "9  -87.904800      672     -6.0    A   America/Chicago  airport  OurAirports  \n",
       "10 -87.904800      672     -6.0    A   America/Chicago  airport  OurAirports  \n",
       "11 -77.037697       15     -5.0    A  America/New_York  airport  OurAirports  \n",
       "12 -83.353401      645     -5.0    A  America/New_York  airport  OurAirports  \n",
       "13 -73.872597       21     -5.0    A  America/New_York  airport  OurAirports  \n",
       "14 -93.221802      841     -6.0    A   America/Chicago  airport  OurAirports  \n",
       "15 -80.152702        9     -5.0    A  America/New_York  airport  OurAirports  \n",
       "16 -81.990501       26     -5.0    A  America/New_York  airport  OurAirports  \n",
       "17 -82.687401       11     -5.0    A  America/New_York  airport  OurAirports  \n",
       "18 -81.237503       55     -5.0    A  America/New_York  airport  OurAirports  \n",
       "19 -95.341400       97     -6.0    A   America/Chicago  airport  OurAirports  \n",
       "\n",
       "[20 rows x 24 columns]"
      ]
     },
     "execution_count": 379,
     "metadata": {},
     "output_type": "execute_result"
    }
   ],
   "source": [
    "routes2"
   ]
  },
  {
   "cell_type": "code",
   "execution_count": 370,
   "metadata": {
    "collapsed": true
   },
   "outputs": [],
   "source": [
    "df2 = pd.merge(routes2, airports, \n",
    "                      left_on='source_id', \n",
    "                      right_on='id', \n",
    "                      how='right', \n",
    "                      suffixes=['_source','_dest'])"
   ]
  },
  {
   "cell_type": "code",
   "execution_count": 378,
   "metadata": {
    "collapsed": false
   },
   "outputs": [
    {
     "data": {
      "text/plain": [
       "20"
      ]
     },
     "execution_count": 378,
     "metadata": {},
     "output_type": "execute_result"
    }
   ],
   "source": []
  },
  {
   "cell_type": "code",
   "execution_count": null,
   "metadata": {
    "collapsed": true
   },
   "outputs": [],
   "source": []
  }
 ],
 "metadata": {
  "anaconda-cloud": {},
  "kernelspec": {
   "display_name": "Python [conda root]",
   "language": "python",
   "name": "conda-root-py"
  },
  "language_info": {
   "codemirror_mode": {
    "name": "ipython",
    "version": 3
   },
   "file_extension": ".py",
   "mimetype": "text/x-python",
   "name": "python",
   "nbconvert_exporter": "python",
   "pygments_lexer": "ipython3",
   "version": "3.5.2"
  }
 },
 "nbformat": 4,
 "nbformat_minor": 1
}
