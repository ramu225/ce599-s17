{
 "cells": [
  {
   "cell_type": "markdown",
   "metadata": {},
   "source": [
    "### Your turn\n",
    "\n",
    "The above map shows everywhere you can get to from Lexington on a direct flight.  Your job is to:\n",
    "\n",
    "1. Make a map of all the possible destinations with one transfer. \n",
    "2. Make a map of all the possible desitnations with two transfers. \n",
    "\n",
    "Make the maps look nice!  Use color coding, vary the size of the features, or be selective about what you display in order to communicate the information effectively.  \n",
    "\n",
    "Bonus: This is the air travel version of the Kevin Bacon game.  What is the number N, such that you can reach every airport in the world with N or fewer transfers?  \n",
    "\n",
    "Extra Bonus: Use this very important piece of knowledge to impress your friends at parties!"
   ]
  },
  {
   "cell_type": "code",
   "execution_count": null,
   "metadata": {
    "collapsed": true
   },
   "outputs": [],
   "source": [
    "import folium\n",
    "import pandas as pd\n",
    "import numpy as np"
   ]
  },
  {
   "cell_type": "code",
   "execution_count": null,
   "metadata": {
    "collapsed": true
   },
   "outputs": [],
   "source": [
    "# These files use \\N as a missing value indicator.  When reading the CSVs, we will tell\n",
    "# it to use that value as missing or NA.  The double backslash is required because\n",
    "# otherwise it will interpret \\N as a carriage return. \n",
    "\n",
    "# Read in the airports data.\n",
    "airports = pd.read_csv(\"data/airports.dat\", header=None, na_values='\\\\N')\n",
    "airports.columns = [\"id\", \"name\", \"city\", \"country\", \"iata\", \"icao\", \"latitude\", \"longitude\", \"altitude\",\"timezone\", \"dst\", \"tz\", \"type\", \"source\"]\n",
    "\n",
    "# Read in the airlines data.\n",
    "airlines = pd.read_csv(\"data/airlines.dat\", header=None, na_values='\\\\N')\n",
    "airlines.columns = [\"id\", \"name\", \"alias\", \"iata\", \"icao\", \"callsign\", \"country\", \"active\"]\n",
    "\n",
    "# Read in the routes data.\n",
    "routes = pd.read_csv(\"data/routes.dat\", header=None, na_values='\\\\N')\n",
    "routes.columns = [\"airline\", \"airline_id\", \"source\", \"source_id\", \"dest\", \"dest_id\", \"codeshare\", \"stops\", \"equipment\"]"
   ]
  },
  {
   "cell_type": "code",
   "execution_count": null,
   "metadata": {
    "collapsed": false
   },
   "outputs": [],
   "source": [
    "# one solution\n",
    "\n",
    "print('There are a total of ' + str(len(airports)) + ' in the world.')\n",
    "\n",
    "connected_airports = {'LEX'}\n",
    "for i in range(0,15): \n",
    "    dest_airports = set()\n",
    "    \n",
    "    for index, row in routes.iterrows(): \n",
    "        if row['source'] in connected_airports: \n",
    "            dest_airports.add(row['dest'])\n",
    "            \n",
    "    # this creates the union of the sets\n",
    "    connected_airports = connected_airports | dest_airports\n",
    "    \n",
    "    print('Within ' + str(i) + ' transfers we can reach a total of ' + str(len(connected_airports)) + ' airports.')\n"
   ]
  },
  {
   "cell_type": "code",
   "execution_count": null,
   "metadata": {
    "collapsed": false
   },
   "outputs": [],
   "source": [
    "# seems like we max out at 3378 airports.  Let's check to see if that's right. \n",
    "# the apply function is a shortcut to avoid looping\n",
    "# to see what's in there, dump the data to a csv and have a look\n",
    "\n",
    "airports['connected'] = airports['iata'].apply(lambda x: x in connected_airports)\n",
    "airports.to_csv('airports.csv')"
   ]
  },
  {
   "cell_type": "code",
   "execution_count": null,
   "metadata": {
    "collapsed": false
   },
   "outputs": [],
   "source": [
    "# it looks like there are a bunch that don't have an airport code, so drop those, and \n",
    "# see how many valid aiports are left\n",
    "\n",
    "airports = airports.dropna(subset=['iata'])\n",
    "airports.to_csv('airports.csv')\n",
    "len(airports)"
   ]
  },
  {
   "cell_type": "code",
   "execution_count": null,
   "metadata": {
    "collapsed": false
   },
   "outputs": [],
   "source": [
    "# have a look at the unconnected airports.  Have you heard of any of those?  \n",
    "# maybe they don't have any commercial flights going there.  \n",
    "# create a separate set of all airports that have a route going there. \n",
    "\n",
    "airports_with_flights = set()\n",
    "\n",
    "for index, row in routes.iterrows(): \n",
    "    airports_with_flights.add(row['source'])\n",
    "    airports_with_flights.add(row['dest'])\n",
    "        \n",
    "print('There are a total of ' + str(len(airports_with_flights)) + ' airports with scheduled flights.')\n"
   ]
  },
  {
   "cell_type": "code",
   "execution_count": null,
   "metadata": {
    "collapsed": true
   },
   "outputs": [],
   "source": [
    "# there are still a few we can't reach.  Drop those without flights, and look at those that are still detached\n",
    "\n",
    "airports['has_flights'] = airports['iata'].apply(lambda x: x in airports_with_flights)\n",
    "airports = airports[airports['has_flights']==True]\n",
    "airports.to_csv('airports.csv')"
   ]
  },
  {
   "cell_type": "code",
   "execution_count": null,
   "metadata": {
    "collapsed": false
   },
   "outputs": [],
   "source": [
    "# these are our leftovers.  Boing Field makes sense.  Not sure why Melbourne is on there.  Don't know the others. \n",
    "# you can dig into these more to see what is going on.  Maybe the other end is not a valid airport\n",
    "\n",
    "airports[airports['connected']==False]"
   ]
  },
  {
   "cell_type": "code",
   "execution_count": null,
   "metadata": {
    "collapsed": true
   },
   "outputs": [],
   "source": []
  }
 ],
 "metadata": {
  "anaconda-cloud": {},
  "kernelspec": {
   "display_name": "Python [conda root]",
   "language": "python",
   "name": "conda-root-py"
  },
  "language_info": {
   "codemirror_mode": {
    "name": "ipython",
    "version": 3
   },
   "file_extension": ".py",
   "mimetype": "text/x-python",
   "name": "python",
   "nbconvert_exporter": "python",
   "pygments_lexer": "ipython3",
   "version": "3.5.2"
  }
 },
 "nbformat": 4,
 "nbformat_minor": 1
}
