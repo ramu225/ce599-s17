{
 "cells": [
  {
   "cell_type": "markdown",
   "metadata": {},
   "source": [
    "## Matrices\n",
    "\n",
    "Matrices are very common in transportation.  Two commont types of matrix data are: \n",
    "\n",
    "trip tables - matrices showing the number of trips between each zone pair\n",
    "\n",
    "skims - matrices showing the travel time and cost between each zone pair\n"
   ]
  },
  {
   "cell_type": "code",
   "execution_count": 1,
   "metadata": {
    "collapsed": false
   },
   "outputs": [
    {
     "data": {
      "text/plain": [
       "[[1, 2, 3], [4, 5, 6], [7, 8, 9]]"
      ]
     },
     "execution_count": 1,
     "metadata": {},
     "output_type": "execute_result"
    }
   ],
   "source": [
    "# you can represent matrices in python as two dimensional lists\n",
    "m = [[1,2,3],[4,5,6],[7,8,9]]\n",
    "m"
   ]
  },
  {
   "cell_type": "code",
   "execution_count": 2,
   "metadata": {
    "collapsed": false
   },
   "outputs": [
    {
     "data": {
      "text/plain": [
       "[[-1, 2, 3], [4, 5, 999], [7, 8, 9]]"
      ]
     },
     "execution_count": 2,
     "metadata": {},
     "output_type": "execute_result"
    }
   ],
   "source": [
    "# change the values by referring to the appropriate indices\n",
    "m[0][0] = -1\n",
    "m[1][2] = 999\n",
    "m"
   ]
  },
  {
   "cell_type": "markdown",
   "metadata": {},
   "source": [
    "### Numpy matrices\n",
    "\n",
    "This is fine, but can be slow if you're working with big matrices.  For those, it is nice to use numpy, which operates way faster.  Their quickstart tutorial offers a good intro: \n",
    "\n",
    "https://docs.scipy.org/doc/numpy-dev/user/quickstart.html"
   ]
  },
  {
   "cell_type": "code",
   "execution_count": 3,
   "metadata": {
    "collapsed": false
   },
   "outputs": [
    {
     "data": {
      "text/plain": [
       "array([[1, 2, 3],\n",
       "       [4, 5, 6],\n",
       "       [7, 8, 9]])"
      ]
     },
     "execution_count": 3,
     "metadata": {},
     "output_type": "execute_result"
    }
   ],
   "source": [
    "import numpy as np\n",
    "m = np.array([[1,2,3],[4,5,6],[7,8,9]])\n",
    "m"
   ]
  },
  {
   "cell_type": "code",
   "execution_count": 4,
   "metadata": {
    "collapsed": false
   },
   "outputs": [
    {
     "data": {
      "text/plain": [
       "array([[ -1,   2,   3],\n",
       "       [  4,   5, 999],\n",
       "       [  7,   8,   9]])"
      ]
     },
     "execution_count": 4,
     "metadata": {},
     "output_type": "execute_result"
    }
   ],
   "source": [
    "# change the values by referring to the appropriate indices\n",
    "m[0][0] = -1\n",
    "m[1][2] = 999\n",
    "m"
   ]
  },
  {
   "cell_type": "code",
   "execution_count": 5,
   "metadata": {
    "collapsed": false
   },
   "outputs": [
    {
     "data": {
      "text/plain": [
       "(3, 3)"
      ]
     },
     "execution_count": 5,
     "metadata": {},
     "output_type": "execute_result"
    }
   ],
   "source": [
    "# Since an array is an object, it comes with some extra data \n",
    "m.shape"
   ]
  },
  {
   "cell_type": "code",
   "execution_count": 6,
   "metadata": {
    "collapsed": false
   },
   "outputs": [
    {
     "data": {
      "text/plain": [
       "999"
      ]
     },
     "execution_count": 6,
     "metadata": {},
     "output_type": "execute_result"
    }
   ],
   "source": [
    "# and some methods\n",
    "m.max()"
   ]
  },
  {
   "cell_type": "code",
   "execution_count": 7,
   "metadata": {
    "collapsed": false
   },
   "outputs": [
    {
     "data": {
      "text/plain": [
       "(array([0, 0, 0, 1, 1, 1, 2, 2, 2], dtype=int64),\n",
       " array([0, 1, 2, 0, 1, 2, 0, 1, 2], dtype=int64))"
      ]
     },
     "execution_count": 7,
     "metadata": {},
     "output_type": "execute_result"
    }
   ],
   "source": [
    "m.nonzero()"
   ]
  },
  {
   "cell_type": "markdown",
   "metadata": {},
   "source": [
    "### OMX for matrix i/o\n",
    "\n",
    "For saving groups of matrices to disk, OMX is a useful package.  Intro is here: \n",
    "\n",
    "https://github.com/osPlanning/omx/wiki\n",
    "\n",
    "Python API is here: \n",
    "\n",
    "https://github.com/osPlanning/omx-python\n",
    "\n",
    "Note that we sometimes want row and column indices that are non-sequential integers--the label of the TAZ rather than just a number 1 through N.  I've put an example matrix in the data folder for this lesson.  If you want to look at the contents, you can install the viewer, available on the wiki.  \n"
   ]
  },
  {
   "cell_type": "markdown",
   "metadata": {},
   "source": [
    "### Homework\n",
    "\n",
    "The example is a skim matrix showing different components of travel time between each TAZ pair.  The IVT matrix is for in-vehicle time (as opposed to walking and waiting time which are out-of-vehicle).  Notice that the values on the diagonal are all zeros.  This is the sort of thing that can cause divide by zero errors later on.  Your job is to read the matrix in, replace the zeros on the diagonals with ones, and save the matrix again.  \n",
    "\n",
    "To do this, you will need to install the OMX package and review their quick start sample code to see what to do.  This is good practice in figuring stuff out from the types of resources that may be avaiable, and you should have the skills at this point in the course to do so.\n"
   ]
  },
  {
   "cell_type": "code",
   "execution_count": 19,
   "metadata": {
    "collapsed": false
   },
   "outputs": [],
   "source": [
    "import openmatrix as omx\n",
    "import numpy as np\n",
    "from __future__ import print_function"
   ]
  },
  {
   "cell_type": "code",
   "execution_count": 20,
   "metadata": {
    "collapsed": false
   },
   "outputs": [
    {
     "name": "stdout",
     "output_type": "stream",
     "text": [
      "C:\\Workspace\\CE 599\\ce599-s17\u00019-Matrix and Network Data\\data\\example.omx\n",
      "Shape: (485, 485)\n",
      "Number of tables: 8\n",
      "Table names: ['FARE', 'IVT', 'IVTBUS', 'IVTRAIL', 'IVTTRAM', 'OWT', 'TRANSFERS', 'TWT']\n"
     ]
    }
   ],
   "source": [
    "print('C:\\Workspace\\CE 599\\ce599-s17\\19-Matrix and Network Data\\data\\example.omx')\n",
    "myfile = omx.open_file('data\\example.omx')\n",
    "\n",
    "print ('Shape:', myfile.shape())                 # (100,100)\n",
    "print ('Number of tables:', len(myfile))         # 3\n",
    "print ('Table names:', myfile.list_matrices())   # ['m1','m2',',m3']"
   ]
  },
  {
   "cell_type": "code",
   "execution_count": 21,
   "metadata": {
    "collapsed": false
   },
   "outputs": [],
   "source": [
    "IVT = myfile['IVT']"
   ]
  },
  {
   "cell_type": "code",
   "execution_count": 26,
   "metadata": {
    "collapsed": false
   },
   "outputs": [
    {
     "data": {
      "text/plain": [
       "array([[  0.00000000e+00,   2.32500000e+00,   5.13160637e+00, ...,\n",
       "          4.99999500e+05,   4.99999500e+05,   4.99999500e+05],\n",
       "       [  1.48487427e+01,   0.00000000e+00,   2.68160637e+00, ...,\n",
       "          4.99999500e+05,   4.99999500e+05,   4.99999500e+05],\n",
       "       [  1.16298265e+01,   1.41798265e+01,   0.00000000e+00, ...,\n",
       "          4.99999500e+05,   4.99999500e+05,   4.99999500e+05],\n",
       "       ..., \n",
       "       [  4.99999500e+05,   4.99999500e+05,   4.99999500e+05, ...,\n",
       "          0.00000000e+00,   2.13333333e+00,   4.58333333e+00],\n",
       "       [  4.99999500e+05,   4.99999500e+05,   4.99999500e+05, ...,\n",
       "          1.51333333e+01,   0.00000000e+00,   2.20000000e+00],\n",
       "       [  4.99999500e+05,   4.99999500e+05,   4.99999500e+05, ...,\n",
       "          1.25833333e+01,   1.47166667e+01,   0.00000000e+00]])"
      ]
     },
     "execution_count": 26,
     "metadata": {},
     "output_type": "execute_result"
    }
   ],
   "source": [
    "IVT = np.array(IVT)\n",
    "IVT"
   ]
  },
  {
   "cell_type": "code",
   "execution_count": 28,
   "metadata": {
    "collapsed": false
   },
   "outputs": [
    {
     "data": {
      "text/plain": [
       "0.0"
      ]
     },
     "execution_count": 28,
     "metadata": {},
     "output_type": "execute_result"
    }
   ],
   "source": [
    "IVT[0,0]"
   ]
  },
  {
   "cell_type": "code",
   "execution_count": 38,
   "metadata": {
    "collapsed": false
   },
   "outputs": [],
   "source": [
    "i = 0\n",
    "j = 0\n",
    "\n",
    "while i <= len(IVT)-1:\n",
    "    IVT[i,j] = 1\n",
    "    i = i+1\n",
    "    j = j+1\n",
    "    "
   ]
  },
  {
   "cell_type": "code",
   "execution_count": 35,
   "metadata": {
    "collapsed": false
   },
   "outputs": [
    {
     "data": {
      "text/plain": [
       "1.0"
      ]
     },
     "execution_count": 35,
     "metadata": {},
     "output_type": "execute_result"
    }
   ],
   "source": [
    "IVT[0,0]"
   ]
  },
  {
   "cell_type": "code",
   "execution_count": 37,
   "metadata": {
    "collapsed": false
   },
   "outputs": [
    {
     "data": {
      "text/plain": [
       "1.0"
      ]
     },
     "execution_count": 37,
     "metadata": {},
     "output_type": "execute_result"
    }
   ],
   "source": [
    "IVT[484,484]"
   ]
  },
  {
   "cell_type": "code",
   "execution_count": 39,
   "metadata": {
    "collapsed": false
   },
   "outputs": [
    {
     "data": {
      "text/plain": [
       "array([[  1.00000000e+00,   2.32500000e+00,   5.13160637e+00, ...,\n",
       "          4.99999500e+05,   4.99999500e+05,   4.99999500e+05],\n",
       "       [  1.48487427e+01,   1.00000000e+00,   2.68160637e+00, ...,\n",
       "          4.99999500e+05,   4.99999500e+05,   4.99999500e+05],\n",
       "       [  1.16298265e+01,   1.41798265e+01,   1.00000000e+00, ...,\n",
       "          4.99999500e+05,   4.99999500e+05,   4.99999500e+05],\n",
       "       ..., \n",
       "       [  4.99999500e+05,   4.99999500e+05,   4.99999500e+05, ...,\n",
       "          1.00000000e+00,   2.13333333e+00,   4.58333333e+00],\n",
       "       [  4.99999500e+05,   4.99999500e+05,   4.99999500e+05, ...,\n",
       "          1.51333333e+01,   1.00000000e+00,   2.20000000e+00],\n",
       "       [  4.99999500e+05,   4.99999500e+05,   4.99999500e+05, ...,\n",
       "          1.25833333e+01,   1.47166667e+01,   1.00000000e+00]])"
      ]
     },
     "execution_count": 39,
     "metadata": {},
     "output_type": "execute_result"
    }
   ],
   "source": [
    "IVT"
   ]
  },
  {
   "cell_type": "code",
   "execution_count": null,
   "metadata": {
    "collapsed": true
   },
   "outputs": [],
   "source": []
  }
 ],
 "metadata": {
  "anaconda-cloud": {},
  "kernelspec": {
   "display_name": "Python [conda root]",
   "language": "python",
   "name": "conda-root-py"
  },
  "language_info": {
   "codemirror_mode": {
    "name": "ipython",
    "version": 3
   },
   "file_extension": ".py",
   "mimetype": "text/x-python",
   "name": "python",
   "nbconvert_exporter": "python",
   "pygments_lexer": "ipython3",
   "version": "3.5.2"
  }
 },
 "nbformat": 4,
 "nbformat_minor": 1
}
