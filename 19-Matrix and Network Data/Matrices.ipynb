{
 "cells": [
  {
   "cell_type": "markdown",
   "metadata": {},
   "source": [
    "## Matrices\n",
    "\n",
    "Matrices are very common in transportation.  Two commont types of matrix data are: \n",
    "\n",
    "trip tables - matrices showing the number of trips between each zone pair\n",
    "\n",
    "skims - matrices showing the travel time and cost between each zone pair\n"
   ]
  },
  {
   "cell_type": "code",
   "execution_count": null,
   "metadata": {
    "collapsed": false
   },
   "outputs": [],
   "source": [
    "# you can represent matrices in python as two dimensional lists\n",
    "m = [[1,2,3],[4,5,6],[7,8,9]]\n",
    "m"
   ]
  },
  {
   "cell_type": "code",
   "execution_count": null,
   "metadata": {
    "collapsed": false
   },
   "outputs": [],
   "source": [
    "# change the values by referring to the appropriate indices\n",
    "m[0][0] = -1\n",
    "m[1][2] = 999\n",
    "m"
   ]
  },
  {
   "cell_type": "markdown",
   "metadata": {},
   "source": [
    "### Numpy matrices\n",
    "\n",
    "This is fine, but can be slow if you're working with big matrices.  For those, it is nice to use numpy, which operates way faster.  Their quickstart tutorial offers a good intro: \n",
    "\n",
    "https://docs.scipy.org/doc/numpy-dev/user/quickstart.html"
   ]
  },
  {
   "cell_type": "code",
   "execution_count": null,
   "metadata": {
    "collapsed": false
   },
   "outputs": [],
   "source": [
    "import numpy as np\n",
    "m = np.array([[1,2,3],[4,5,6],[7,8,9]])\n",
    "m"
   ]
  },
  {
   "cell_type": "code",
   "execution_count": null,
   "metadata": {
    "collapsed": false
   },
   "outputs": [],
   "source": [
    "# change the values by referring to the appropriate indices\n",
    "m[0][0] = -1\n",
    "m[1][2] = 999\n",
    "m"
   ]
  },
  {
   "cell_type": "code",
   "execution_count": null,
   "metadata": {
    "collapsed": false
   },
   "outputs": [],
   "source": [
    "# Since an array is an object, it comes with some extra data \n",
    "m.shape"
   ]
  },
  {
   "cell_type": "code",
   "execution_count": null,
   "metadata": {
    "collapsed": false
   },
   "outputs": [],
   "source": [
    "# and some methods\n",
    "m.max()"
   ]
  },
  {
   "cell_type": "markdown",
   "metadata": {},
   "source": [
    "### OMX for matrix i/o\n",
    "\n",
    "For saving groups of matrices to disk, OMX is a useful package.  Intro is here: \n",
    "\n",
    "https://github.com/osPlanning/omx/wiki\n",
    "\n",
    "Python API is here: \n",
    "\n",
    "https://github.com/osPlanning/omx-python\n",
    "\n",
    "Note that we sometimes want row and column indices that are non-sequential integers--the label of the TAZ rather than just a number 1 through N.  I've put an example matrix in the data folder for this lesson.  If you want to look at the contents, you can install the viewer, available on the wiki.  \n"
   ]
  },
  {
   "cell_type": "markdown",
   "metadata": {},
   "source": [
    "### Homework\n",
    "\n",
    "The example is a skim matrix showing different components of travel time between each TAZ pair.  The IVT matrix is for in-vehicle time (as opposed to walking and waiting time which are out-of-vehicle).  Notice that the values on the diagonal are all zeros.  This is the sort of thing that can cause divide by zero errors later on.  Your job is to read the matrix in, replace the zeros on the diagonals with ones, and save the matrix again.  \n",
    "\n",
    "To do this, you will need to install the OMX package and review their quick start sample code to see what to do.  This is good practice in figuring stuff out from the types of resources that may be avaiable, and you should have the skills at this point in the course to do so.\n"
   ]
  },
  {
   "cell_type": "code",
   "execution_count": null,
   "metadata": {
    "collapsed": true
   },
   "outputs": [],
   "source": []
  }
 ],
 "metadata": {
  "anaconda-cloud": {},
  "kernelspec": {
   "display_name": "Python [conda root]",
   "language": "python",
   "name": "conda-root-py"
  },
  "language_info": {
   "codemirror_mode": {
    "name": "ipython",
    "version": 3
   },
   "file_extension": ".py",
   "mimetype": "text/x-python",
   "name": "python",
   "nbconvert_exporter": "python",
   "pygments_lexer": "ipython3",
   "version": "3.5.2"
  }
 },
 "nbformat": 4,
 "nbformat_minor": 1
}
