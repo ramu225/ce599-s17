{
 "cells": [
  {
   "cell_type": "markdown",
   "metadata": {},
   "source": [
    "# Mid-Term Report\n",
    "\n",
    "CE 599-002: Data Science in Transportation\n",
    "\n",
    "Spring 2017\n",
    "\n",
    "Due:  March 9, 2017 at 5 pm in OHR 261\n",
    "\n",
    "**Readings**\n",
    "\n",
    "Students are required to read and draw from the following three sources in preparing their mid-term report:\n",
    "\n",
    "> Silver, Nate. The Signal and the Noise: Why So Many Predictions Fail--but Some Don’t. 1 edition. New York: Penguin Books, 2015 (paperback).  ISBN:  978-0-14-312508-2\n",
    "\n",
    "> Wachs, Martin. “Ethics and Advocacy in Forecasting for Public Policy.” Business and Professional Ethics Journal 9, no. 1 & 2 (1990): 141–57.\n",
    "\n",
    "> Hartgen, David T. “Hubris or Humility? Accuracy Issues for the next 50 Years of Travel Demand Modeling.” Transportation 40, no. 6 (2013): 1133–57. \n",
    "\n",
    "**Assignment**\n",
    "\n",
    "Broadly, the assignment is to consider the case of forecasting demand for transportation projects and recommend ways to improve the process.  Proposed changes to specific algorithms or methods are not required--those are more relevant to CE 631 or its follow-on course--but students may choose to focus on broad technical strategies, data sources, institutional changes, or the like.  Papers should consider the ways in which transportation forecasting is done relative to lessons from other fields.  \n",
    "\n",
    "The context of this assignment is David Hartgen's (2013) claim, \"The greatest knowledge gap in US travel demand modeling is the unknown accuracy of US urban road traffic forecasts.\"  What he means by this is forecasts of traffic volumes on untolled highway facilities, which compose the bulk of transportation projects built in the US. While there have been limited studies on this topic, the available research indicates that the actual demand for untolled road projects exceeds forecast demand by 3-11% on average (Nicolaisen and Driscoll 2014).  This is in contrast to the findings for toll roads and major rail transit projects, perhaps indicating that we are technically better at forecasting this type of project, or that the incentive structure is different because highway funds are allocated to the states by formula, instead of by competitive grants. \n",
    "\n",
    "This will be the topic of a research project I am now starting--to study traffic forecast accuracy and recommend improvements to the process.  In doing so, I wish to consider a wide range of evidence and ideas, and I value your input.  From your perspective, it is an opportunity to consider the role of data in informing decisions (that's the whole point!), and the broader issues that influence those decisions.  \n",
    "\n",
    "You should choose a line of arguments or a cluster of arguments and explore those.  There is no need to be cover every topic in the source materials.  Some ideas are: \n",
    "\n",
    "* Wachs (1990) discusses the conflict between being a technician and being an advocate, and how it can be messy to mix the two.  How can individual data analysts deal with this conflict?  How can organizations be structured to avoid this conflict? \n",
    "* Wachs (1990) starts from the premise that the world is \"dominated by utilitarian thinking\".  Is this still true nearly three decades later?  Why or why not? \n",
    "* Hartgen (2013) discusses a path of hubris versus one of humility.  Would you recommend one of these over another? \n",
    "* Silver (2015) talks about the value of probabilistic forecasts and Hargen (2013) discusses in the humility option a greater focus on capturing and explaining uncertainty.  Is this the way to go?  If so, how do we communicate those forecasts with confidence in a way that we do not discredit ourselves? \n",
    "* If our forecasts are flawed, should we even bother?  Is there still a role for forecasting in the public discourse, or should we let the political interests claim whatever they want, unchecked by the engineers?  \n",
    "* What do we do about autonomous vehicles?  If self-driving cars become ubiquitous in the next 20 years, doesn't that make our forecasts fundamentally flawed?   \n",
    "\n",
    "You are welcome to propose your own ideas as well.  Graduate students are encouraged to relate these themes to their own research.  As you develop your ideas, I would encourage you to come discuss them with me to make sure you are on the right track.  \n",
    "\n",
    "There is no hard length requirement, but a paper on the order of 5,000 words would be appropriate. \n",
    "\n",
    "**Graduate Students**\n",
    "\n",
    "Graduate students are expected to reference additional sources from the academic literature in support of their arguments.  \n",
    "\n",
    "**Rubric**\n",
    "\n",
    "The rubric for what is expected in this paper is shown below.  \n",
    "\n",
    "![Rubric](/images/Assignment-1-rubric.png)\n"
   ]
  },
  {
   "cell_type": "markdown",
   "metadata": {},
   "source": []
  }
 ],
 "metadata": {
  "anaconda-cloud": {},
  "kernelspec": {
   "display_name": "Python [conda root]",
   "language": "python",
   "name": "conda-root-py"
  },
  "language_info": {
   "codemirror_mode": {
    "name": "ipython",
    "version": 3
   },
   "file_extension": ".py",
   "mimetype": "text/x-python",
   "name": "python",
   "nbconvert_exporter": "python",
   "pygments_lexer": "ipython3",
   "version": "3.5.2"
  }
 },
 "nbformat": 4,
 "nbformat_minor": 1
}
