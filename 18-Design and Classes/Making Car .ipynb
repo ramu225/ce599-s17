{
 "cells": [
  {
   "cell_type": "code",
   "execution_count": 76,
   "metadata": {
    "collapsed": false
   },
   "outputs": [],
   "source": [
    "import pandas as pd\n",
    "import build_road"
   ]
  },
  {
   "cell_type": "code",
   "execution_count": 77,
   "metadata": {
    "collapsed": false
   },
   "outputs": [],
   "source": [
    "import sys\n",
    "sys.path.append('C:\\Workspace\\SOURCE\\sf_taxi\\sfdata_wrangler')\n",
    "from Road import Road"
   ]
  },
  {
   "cell_type": "code",
   "execution_count": 78,
   "metadata": {
    "collapsed": false
   },
   "outputs": [
    {
     "data": {
      "text/plain": [
       "<function Road.Road.repave>"
      ]
     },
     "execution_count": 78,
     "metadata": {},
     "output_type": "execute_result"
    }
   ],
   "source": [
    "Road.repave"
   ]
  },
  {
   "cell_type": "code",
   "execution_count": 87,
   "metadata": {
    "collapsed": false
   },
   "outputs": [],
   "source": [
    "class Car(object):\n",
    "    \n",
    "    \"\"\"\n",
    "    Base class for a car\n",
    "    \"\"\"\n",
    "    def __init__(self, color,location,direction):\n",
    "        if len(location) < 2 or len(location) > 2:\n",
    "            print('location is the x,y coordinates of the car')\n",
    "        else:    \n",
    "            self.color = color\n",
    "            self.location = location\n",
    "            self.x = location[0] \n",
    "            self.y = location[1]\n",
    "            self.direction = direction\n",
    "    def turn_right(self):\n",
    "        if self.direction == 'N':\n",
    "            self.direction = 'E'\n",
    "        elif self.direction == 'S':\n",
    "            self.direction = 'W'\n",
    "        elif self.direction == 'E':\n",
    "            self.direction = 'S'\n",
    "        elif self.direction == 'W':\n",
    "            self.direction = 'N'\n",
    "        else:\n",
    "            print('direction is wrong')"
   ]
  },
  {
   "cell_type": "code",
   "execution_count": 88,
   "metadata": {
    "collapsed": false
   },
   "outputs": [],
   "source": [
    "Car = Car(color = 'yellow',location = [0,0], direction = 'N')"
   ]
  },
  {
   "cell_type": "code",
   "execution_count": 109,
   "metadata": {
    "collapsed": false
   },
   "outputs": [
    {
     "ename": "TypeError",
     "evalue": "go() missing 2 required positional arguments: 'units' and 'direction'",
     "output_type": "error",
     "traceback": [
      "\u001b[0;31m---------------------------------------------------------------------------\u001b[0m",
      "\u001b[0;31mTypeError\u001b[0m                                 Traceback (most recent call last)",
      "\u001b[0;32m<ipython-input-109-bf025630ae24>\u001b[0m in \u001b[0;36m<module>\u001b[0;34m()\u001b[0m\n\u001b[0;32m----> 1\u001b[0;31m \u001b[0mgo\u001b[0m\u001b[1;33m(\u001b[0m\u001b[1;34m'N'\u001b[0m\u001b[1;33m)\u001b[0m\u001b[1;33m\u001b[0m\u001b[0m\n\u001b[0m",
      "\u001b[0;31mTypeError\u001b[0m: go() missing 2 required positional arguments: 'units' and 'direction'"
     ]
    }
   ],
   "source": []
  },
  {
   "cell_type": "code",
   "execution_count": 81,
   "metadata": {
    "collapsed": false
   },
   "outputs": [],
   "source": [
    "def go(self,units,direction):\n",
    "    \"\"\"\n",
    "    function to move the car the given distance in the given direction\n",
    "    \"\"\"\n",
    "    if self.direction == 'N':\n",
    "        self.y = self.y + units\n",
    "    elif self.direction == 'S':\n",
    "        self.y = self.y - units\n",
    "    elif self.direction == 'E':\n",
    "        self.x = self.x + units\n",
    "    elif self.direction == 'W':\n",
    "        self.x = self.x - units\n",
    "    else:\n",
    "        print('Direction options are N, S, E, and W')"
   ]
  },
  {
   "cell_type": "code",
   "execution_count": 82,
   "metadata": {
    "collapsed": false
   },
   "outputs": [],
   "source": [
    "def turn_right(self):\n",
    "    if self.direction == 'N':\n",
    "        self.direction = 'E'\n",
    "    elif self.direction == 'S':\n",
    "        self.direction = 'W'\n",
    "    elif self.direction == 'E':\n",
    "        self.direction = 'S'\n",
    "    elif self.direction == 'W':\n",
    "        self.direction = 'N'\n",
    "    else:\n",
    "        print('direction is wrong')"
   ]
  },
  {
   "cell_type": "code",
   "execution_count": 85,
   "metadata": {
    "collapsed": false
   },
   "outputs": [
    {
     "name": "stdout",
     "output_type": "stream",
     "text": [
      "E\n",
      "S\n"
     ]
    }
   ],
   "source": [
    "print(Car.direction)\n",
    "turn_right(Car)\n",
    "print(Car.direction)"
   ]
  },
  {
   "cell_type": "code",
   "execution_count": 106,
   "metadata": {
    "collapsed": false
   },
   "outputs": [],
   "source": [
    "Car.turn_right()"
   ]
  },
  {
   "cell_type": "code",
   "execution_count": 107,
   "metadata": {
    "collapsed": false
   },
   "outputs": [
    {
     "data": {
      "text/plain": [
       "'N'"
      ]
     },
     "execution_count": 107,
     "metadata": {},
     "output_type": "execute_result"
    }
   ],
   "source": [
    "Car.direction"
   ]
  },
  {
   "cell_type": "code",
   "execution_count": null,
   "metadata": {
    "collapsed": true
   },
   "outputs": [],
   "source": []
  },
  {
   "cell_type": "code",
   "execution_count": null,
   "metadata": {
    "collapsed": true
   },
   "outputs": [],
   "source": []
  }
 ],
 "metadata": {
  "anaconda-cloud": {},
  "kernelspec": {
   "display_name": "Python [conda root]",
   "language": "python",
   "name": "conda-root-py"
  },
  "language_info": {
   "codemirror_mode": {
    "name": "ipython",
    "version": 3
   },
   "file_extension": ".py",
   "mimetype": "text/x-python",
   "name": "python",
   "nbconvert_exporter": "python",
   "pygments_lexer": "ipython3",
   "version": "3.5.2"
  }
 },
 "nbformat": 4,
 "nbformat_minor": 1
}
